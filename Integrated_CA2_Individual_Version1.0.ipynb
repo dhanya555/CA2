{
 "cells": [
  {
   "cell_type": "markdown",
   "id": "7bd058fa",
   "metadata": {},
   "source": [
    "# Analysis and prediction of Milk Price in Ireland"
   ]
  },
  {
   "cell_type": "markdown",
   "id": "82c74d13",
   "metadata": {},
   "source": [
    "Business Goal:\n",
    "---------------------------\n",
    "Predict the Milk Price In Ireland, two non EU countries(New-Zealand, India) and two EU country(Germany, France). Also compare the raw milk prices and milk production with Ireland as baseline with other EU countries in the world\n",
    "\n",
    "\n",
    "Milk Price Prediction:\n",
    "-------------------------------------\n",
    "The goal of this project is to predict the milk price in Ireland based on the historical data and the predictor variables collected.\n",
    "\n",
    "Section 1: Ireland Milk price analysis and prediction\n",
    "\n",
    "Model A: Using the data from Central Statistics Office\n",
    "\n",
    "    Phase 1 : Data understanding and exploration\n",
    "\n",
    "    Phase 2 : Statistical analysis of the data/Data Understanding\n",
    "\n",
    "    Phase 3 : Data preparation and cleaning\n",
    "\n",
    "    Phase 4 : Exploratory Data Analysis\n",
    "\n",
    "    Phase 4a: Plotting an interactive time-series graph with plotly express\n",
    "\n",
    "    Phase 5 : Model building and Evaluation\n",
    "\n",
    "    Phase 6 : Model building and Evaluation with additional features \n",
    "    \n",
    "Model B: Using the data FAOSTAT database for Ireland as base and for comparing with world\n",
    "\n",
    "    Phase 1 : Data understanding and exploration\n",
    "\n",
    "    Phase 2 : Statistical analysis of the data/Data Understanding\n",
    "\n",
    "    Phase 3 : Data preparation and cleaning\n",
    "\n",
    "    Phase 4 : Exploratory Data Analysis\n",
    "\n",
    "    Phase 4a: Plotting an interactive time-series graph with plotly express\n",
    "\n",
    "    Phase 5 : Model building and Evaluation\n",
    "\n",
    "    Phase 6 : Model building and Evaluation with additional features \n",
    "    \n",
    "    \n",
    "Section 2: India Milk price analysis and prediction\n",
    "\n",
    "    Phase 1 : Data understanding and exploration\n",
    "\n",
    "    Phase 2 : Statistical analysis of the data/Data Understanding\n",
    "\n",
    "    Phase 3 : Data preparation and cleaning\n",
    "\n",
    "    Phase 4 : Exploratory Data Analysis\n",
    "\n",
    "    Phase 4a: Plotting an interactive time-series graph with plotly express\n",
    "\n",
    "    Phase 5 : Model building and Evaluation\n",
    "\n",
    "    Phase 6 : Model building and Evaluation with additional features \n",
    "    \n",
    "Section 3: New Zealand Milk price analysis and prediction\n",
    "\n",
    "    Phase 1 : Data understanding and exploration\n",
    "\n",
    "    Phase 2 : Statistical analysis of the data/Data Understanding\n",
    "\n",
    "    Phase 3 : Data preparation and cleaning\n",
    "\n",
    "    Phase 4 : Exploratory Data Analysis\n",
    "\n",
    "    Phase 4a: Plotting an interactive time-series graph with plotly express\n",
    "\n",
    "    Phase 5 : Model building and Evaluation\n",
    "\n",
    "    Phase 6 : Model building and Evaluation with additional features \n",
    "    \n",
    "Section 4: France Milk Price analysis and Prediction\n",
    "\n",
    "    Phase 1 : Data understanding and exploration\n",
    "\n",
    "    Phase 2 : Statistical analysis of the data/Data Understanding\n",
    "\n",
    "    Phase 3 : Data preparation and cleaning\n",
    "\n",
    "    Phase 4 : Exploratory Data Analysis\n",
    "\n",
    "    Phase 4a: Plotting an interactive time-series graph with plotly express\n",
    "\n",
    "    Phase 5 : Model building and Evaluation\n",
    "\n",
    "    Phase 6 : Model building and Evaluation with additional features \n",
    "    \n",
    "Section 5: Germany Milk Price analysis and Prediction\n",
    "\n",
    "    Phase 1 : Data understanding and exploration\n",
    "\n",
    "    Phase 2 : Statistical analysis of the data/Data Understanding\n",
    "\n",
    "    Phase 3 : Data preparation and cleaning\n",
    "\n",
    "    Phase 4 : Exploratory Data Analysis\n",
    "\n",
    "    Phase 4a: Plotting an interactive time-series graph with plotly express\n",
    "\n",
    "    Phase 5 : Model building and Evaluation\n",
    "\n",
    "    Phase 6 : Model building and Evaluation with additional features \n",
    "    \n",
    "Section 6: Comparison of Milk production with Ireland and World - Interactive Dashboard\n",
    "\n",
    "Section 7: Statistical Analysis\n",
    "\n",
    "References\n",
    "------------------------\n",
    "All the literature reviewed as part of this project is given in the reference section as Harvard style referencing"
   ]
  },
  {
   "cell_type": "markdown",
   "id": "deaf0d8d",
   "metadata": {},
   "source": [
    "# Section 1: Model A: Using data from CSO Ireland as base"
   ]
  },
  {
   "cell_type": "code",
   "execution_count": 1,
   "id": "12efca73",
   "metadata": {},
   "outputs": [],
   "source": [
    "# Import the Required Libraries\n",
    "import pandas as pd\n",
    "import numpy as np\n",
    "import matplotlib.pyplot as plt\n",
    "import seaborn as sns\n",
    "from warnings import filterwarnings\n",
    "filterwarnings('ignore')"
   ]
  },
  {
   "cell_type": "markdown",
   "id": "ab748181",
   "metadata": {},
   "source": [
    "# Section 1: Model B: Using the data FAOSTAT database Ireland as base "
   ]
  },
  {
   "cell_type": "code",
   "execution_count": 2,
   "id": "f208b96b",
   "metadata": {},
   "outputs": [],
   "source": [
    "#read all the required Ireland datasets collected from FAOSTAT and other sources\n"
   ]
  },
  {
   "cell_type": "markdown",
   "id": "8bac3858",
   "metadata": {},
   "source": [
    "# Section 2: India Milk price analysis and prediction"
   ]
  },
  {
   "cell_type": "markdown",
   "id": "212f76d8",
   "metadata": {},
   "source": [
    "# Section 3: New Zealand Milk price analysis and prediction"
   ]
  },
  {
   "cell_type": "markdown",
   "id": "4b728134",
   "metadata": {},
   "source": [
    "# Section 4: France Milk Price analysis and Prediction"
   ]
  },
  {
   "cell_type": "markdown",
   "id": "556e29f6",
   "metadata": {},
   "source": [
    "# Section 5: Germany Milk Price analysis and Prediction"
   ]
  },
  {
   "cell_type": "markdown",
   "id": "725f801a",
   "metadata": {},
   "source": [
    "# Section 6: Interactive Dashboard - Milk production with Ireland Vs World "
   ]
  },
  {
   "cell_type": "markdown",
   "id": "b9da86ed",
   "metadata": {},
   "source": [
    "# Section 7: Statistical Analysis"
   ]
  },
  {
   "cell_type": "markdown",
   "id": "44856088",
   "metadata": {},
   "source": [
    "# References"
   ]
  },
  {
   "cell_type": "code",
   "execution_count": null,
   "id": "3d7d7359",
   "metadata": {},
   "outputs": [],
   "source": []
  }
 ],
 "metadata": {
  "kernelspec": {
   "display_name": "Python 3 (ipykernel)",
   "language": "python",
   "name": "python3"
  },
  "language_info": {
   "codemirror_mode": {
    "name": "ipython",
    "version": 3
   },
   "file_extension": ".py",
   "mimetype": "text/x-python",
   "name": "python",
   "nbconvert_exporter": "python",
   "pygments_lexer": "ipython3",
   "version": "3.9.7"
  },
  "toc": {
   "base_numbering": 1,
   "nav_menu": {},
   "number_sections": true,
   "sideBar": true,
   "skip_h1_title": false,
   "title_cell": "Table of Contents",
   "title_sidebar": "Contents",
   "toc_cell": false,
   "toc_position": {},
   "toc_section_display": true,
   "toc_window_display": true
  }
 },
 "nbformat": 4,
 "nbformat_minor": 5
}

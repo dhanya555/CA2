{
 "cells": [
  {
   "cell_type": "code",
   "execution_count": null,
   "id": "13037033",
   "metadata": {},
   "outputs": [],
   "source": []
  },
  {
   "cell_type": "code",
   "execution_count": null,
   "id": "b8c96acd",
   "metadata": {},
   "outputs": [],
   "source": [
    "def create_dataset(consumer_key, consumer_secret, access_token, access_token_secret, hashtag_phrase):\n",
    "    \n",
    "    # Twitter authentication and the connection to Twitter API\n",
    "    auth = tweepy.OAuthHandler(consumer_key, consumer_secret)\n",
    "    auth.set_access_token(access_token, access_token_secret)\n",
    "    \n",
    "    # Initializing Tweepy API\n",
    "    api = tweepy.API(auth, wait_on_rate_limit=True)\n",
    "    \n",
    "    # Name of csv file to be created\n",
    "    fname = \"dataset\"\n",
    "    \n",
    "    # Open the spreadsheet\n",
    "    with open('%s.csv' % (fname), 'w', encoding=\"utf-8\") as file:\n",
    "        w = csv.writer(file)\n",
    "        \n",
    "        # Write header row (feature column names of your choice)\n",
    "        w.writerow(['timestamp', 'tweet_text', 'username', 'all_hashtags', 'location', \n",
    "                    'followers_count', 'retweet_count', 'favorite_count'])\n",
    "        \n",
    "        # For each tweet matching hashtag, write relevant info to the spreadsheet\n",
    "        for tweet in tweepy.Cursor(api.search_tweets, q=hashtag_phrase+' -filter:retweets', lang=\"en\", tweet_mode='extended').items(100):\n",
    "            w.writerow([tweet.created_at, \n",
    "                        tweet.full_text.replace('\\n',' ').encode('utf-8'), \n",
    "                        tweet.user.screen_name.encode('utf-8'), \n",
    "                        [e['text'] for e in tweet._json['entities']['hashtags']],  \n",
    "                        tweet.user.location, \n",
    "                        tweet.user.followers_count, \n",
    "                        tweet.retweet_count, \n",
    "                        tweet.favorite_count])\n",
    "\n",
    "# Enter your hashtag here\n",
    "hashtag_phrase= \"milk producer prices\"\n",
    "\n",
    "if __name__ == '__main__':\n",
    "    create_dataset(consumer_key, consumer_secret, access_token, access_token_secret, hashtag_phrase)\n"
   ]
  }
 ],
 "metadata": {
  "kernelspec": {
   "display_name": "Python 3 (ipykernel)",
   "language": "python",
   "name": "python3"
  },
  "language_info": {
   "codemirror_mode": {
    "name": "ipython",
    "version": 3
   },
   "file_extension": ".py",
   "mimetype": "text/x-python",
   "name": "python",
   "nbconvert_exporter": "python",
   "pygments_lexer": "ipython3",
   "version": "3.9.7"
  }
 },
 "nbformat": 4,
 "nbformat_minor": 5
}

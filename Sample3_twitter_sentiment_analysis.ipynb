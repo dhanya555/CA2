{
 "cells": [
  {
   "cell_type": "code",
   "execution_count": 25,
   "id": "72d4be0e",
   "metadata": {},
   "outputs": [],
   "source": [
    "import tweepy\n",
    "import pandas as pd\n",
    "import sys\n",
    "\n",
    "# Enter your twitter credentials here\n",
    "# Authentication\n",
    "consumerKey = \"dlmSwyiJRNgL5a5y7tD0Zjxgr\"\n",
    "consumerSecret = \"tMxnFrRs1088cqIjlDnaG4RUT9xs1AXd3Mpwvv3TNaUxUsnx0D\"\n",
    "accessToken = \"1518310189962780672-fpocSf7XDjjl3LctVad2pCDEXnoF0a\"\n",
    "accessTokenSecret = \"GWYlpl3UuYg4TQ003BeL3FIqpDsV9jptyPRenF0PuGGr2\"\n",
    "\n",
    "# Twitter authentication and the connection to Twitter Streaming API\n",
    "auth = tweepy.OAuthHandler(consumerKey, consumerSecret)\n",
    "auth.set_access_token(accessToken, accessTokenSecret)\n",
    "\n",
    "# Initializing Tweepy API\n",
    "api = tweepy.API(auth, wait_on_rate_limit=True)\n",
    "\n",
    "# Streaming a tweet\n",
    "cursor= tweepy.Cursor(api.user_timeline, tweet_mode=\"extended\").items(1)\n",
    "\n",
    "# Printing list of attributes and methods (fields) of tweet object\n",
    "for i in cursor:\n",
    "    print(dir(i))"
   ]
  },
  {
   "cell_type": "code",
   "execution_count": 26,
   "id": "bd843f1c",
   "metadata": {},
   "outputs": [],
   "source": [
    "import json\n",
    "import csv\n",
    "import tweepy\n",
    "import re\n",
    "import io"
   ]
  },
  {
   "cell_type": "code",
   "execution_count": 27,
   "id": "325d9e7d",
   "metadata": {},
   "outputs": [],
   "source": [
    "# Authentication\n",
    "consumerKey = \"dlmSwyiJRNgL5a5y7tD0Zjxgr\"\n",
    "consumerSecret = \"tMxnFrRs1088cqIjlDnaG4RUT9xs1AXd3Mpwvv3TNaUxUsnx0D\"\n",
    "accessToken = \"1518310189962780672-fpocSf7XDjjl3LctVad2pCDEXnoF0a\"\n",
    "accessTokenSecret = \"GWYlpl3UuYg4TQ003BeL3FIqpDsV9jptyPRenF0PuGGr2\""
   ]
  },
  {
   "cell_type": "code",
   "execution_count": 32,
   "id": "4c1d628d",
   "metadata": {},
   "outputs": [],
   "source": [
    "def create_dataset(consumerKey, consumerSecret, accessToken, accessTokenSecret, hashtag_phrase):\n",
    "    \n",
    "    # Twitter authentication and the connection to Twitter API\n",
    "    auth = tweepy.OAuthHandler(consumerKey, consumerSecret)\n",
    "    auth.set_access_token(accessToken, accessTokenSecret)\n",
    "    \n",
    "    # Initializing Tweepy API\n",
    "    api = tweepy.API(auth, wait_on_rate_limit=True)\n",
    "    \n",
    "    # Name of csv file to be created\n",
    "    fname = \"dataset\"\n",
    "    \n",
    "    # Open the spreadsheet\n",
    "    with open('%s.csv' % (fname), 'w', encoding=\"utf-8\") as file:\n",
    "        w = csv.writer(file)\n",
    "        \n",
    "        # Write header row (feature column names of your choice)\n",
    "        w.writerow(['timestamp', 'tweet_text', 'username', 'all_hashtags', 'location', \n",
    "                    'followers_count', 'retweet_count', 'favorite_count'])\n",
    "        \n",
    "        # For each tweet matching hashtag, write relevant info to the spreadsheet\n",
    "        for tweet in tweepy.Cursor(api.search_tweets, q=hashtag_phrase+' -filter:retweets', lang=\"en\", tweet_mode='extended').items(30000):\n",
    "            w.writerow([tweet.created_at, \n",
    "                        tweet.full_text.replace('\\n',' ').encode('utf-8'), \n",
    "                        tweet.user.screen_name.encode('utf-8'), \n",
    "                        [e['text'] for e in tweet._json['entities']['hashtags']],  \n",
    "                        tweet.user.location, \n",
    "                        tweet.user.followers_count, \n",
    "                        tweet.retweet_count, \n",
    "                        tweet.favorite_count])\n",
    "\n",
    "# Enter your hashtag here\n",
    "hashtag_phrase= \"milk producer prices\"\n",
    "\n",
    "if __name__ == '__main__':\n",
    "    create_dataset(consumerKey, consumerSecret, accessToken, accessTokenSecret, hashtag_phrase)\n"
   ]
  },
  {
   "cell_type": "code",
   "execution_count": 33,
   "id": "04f065cc",
   "metadata": {},
   "outputs": [],
   "source": [
    "df = pd.read_csv('dataset.csv')"
   ]
  },
  {
   "cell_type": "code",
   "execution_count": 34,
   "id": "447eeee4",
   "metadata": {},
   "outputs": [
    {
     "data": {
      "text/html": [
       "<div>\n",
       "<style scoped>\n",
       "    .dataframe tbody tr th:only-of-type {\n",
       "        vertical-align: middle;\n",
       "    }\n",
       "\n",
       "    .dataframe tbody tr th {\n",
       "        vertical-align: top;\n",
       "    }\n",
       "\n",
       "    .dataframe thead th {\n",
       "        text-align: right;\n",
       "    }\n",
       "</style>\n",
       "<table border=\"1\" class=\"dataframe\">\n",
       "  <thead>\n",
       "    <tr style=\"text-align: right;\">\n",
       "      <th></th>\n",
       "      <th>timestamp</th>\n",
       "      <th>tweet_text</th>\n",
       "      <th>username</th>\n",
       "      <th>all_hashtags</th>\n",
       "      <th>location</th>\n",
       "      <th>followers_count</th>\n",
       "      <th>retweet_count</th>\n",
       "      <th>favorite_count</th>\n",
       "    </tr>\n",
       "  </thead>\n",
       "  <tbody>\n",
       "    <tr>\n",
       "      <th>0</th>\n",
       "      <td>2022-04-29 20:20:17+00:00</td>\n",
       "      <td>b'News: Producer Milk Prices are High! How Lon...</td>\n",
       "      <td>b'dairybusiness'</td>\n",
       "      <td>[]</td>\n",
       "      <td>Indianapolis, IN</td>\n",
       "      <td>8219</td>\n",
       "      <td>0</td>\n",
       "      <td>0</td>\n",
       "    </tr>\n",
       "    <tr>\n",
       "      <th>1</th>\n",
       "      <td>2022-04-27 16:55:29+00:00</td>\n",
       "      <td>b'since whales are mammals can produce milk, i...</td>\n",
       "      <td>b'KeeganKlasner'</td>\n",
       "      <td>[]</td>\n",
       "      <td>NaN</td>\n",
       "      <td>7</td>\n",
       "      <td>3</td>\n",
       "      <td>4</td>\n",
       "    </tr>\n",
       "  </tbody>\n",
       "</table>\n",
       "</div>"
      ],
      "text/plain": [
       "                   timestamp  \\\n",
       "0  2022-04-29 20:20:17+00:00   \n",
       "1  2022-04-27 16:55:29+00:00   \n",
       "\n",
       "                                          tweet_text          username  \\\n",
       "0  b'News: Producer Milk Prices are High! How Lon...  b'dairybusiness'   \n",
       "1  b'since whales are mammals can produce milk, i...  b'KeeganKlasner'   \n",
       "\n",
       "  all_hashtags          location  followers_count  retweet_count  \\\n",
       "0           []  Indianapolis, IN             8219              0   \n",
       "1           []               NaN                7              3   \n",
       "\n",
       "   favorite_count  \n",
       "0               0  \n",
       "1               4  "
      ]
     },
     "execution_count": 34,
     "metadata": {},
     "output_type": "execute_result"
    }
   ],
   "source": [
    "df.head()"
   ]
  },
  {
   "cell_type": "code",
   "execution_count": 31,
   "id": "89e10c5a",
   "metadata": {},
   "outputs": [
    {
     "data": {
      "text/plain": [
       "(2, 8)"
      ]
     },
     "execution_count": 31,
     "metadata": {},
     "output_type": "execute_result"
    }
   ],
   "source": [
    "df.shape"
   ]
  },
  {
   "cell_type": "code",
   "execution_count": 35,
   "id": "b689af37",
   "metadata": {},
   "outputs": [],
   "source": [
    "def create_dataset(consumerKey, consumerSecret, accessToken, accessTokenSecret, hashtag_phrase):\n",
    "    \n",
    "    # Twitter authentication and the connection to Twitter API\n",
    "    auth = tweepy.OAuthHandler(consumerKey, consumerSecret)\n",
    "    auth.set_access_token(accessToken, accessTokenSecret)\n",
    "    \n",
    "    # Initializing Tweepy API\n",
    "    api = tweepy.API(auth, wait_on_rate_limit=True)\n",
    "    \n",
    "    # Name of csv file to be created\n",
    "    fname = \"dataset1\"\n",
    "    \n",
    "    # Open the spreadsheet\n",
    "    with open('%s.csv' % (fname), 'w', encoding=\"utf-8\") as file:\n",
    "        w = csv.writer(file)\n",
    "        \n",
    "        # Write header row (feature column names of your choice)\n",
    "        w.writerow(['timestamp', 'tweet_text', 'username', 'all_hashtags', 'location', \n",
    "                    'followers_count', 'retweet_count', 'favorite_count'])\n",
    "        \n",
    "        # For each tweet matching hashtag, write relevant info to the spreadsheet\n",
    "        for tweet in tweepy.Cursor(api.search_tweets, q=hashtag_phrase+' -filter:retweets', lang=\"en\", tweet_mode='extended').items(30000):\n",
    "            w.writerow([tweet.created_at, \n",
    "                        tweet.full_text.replace('\\n',' ').encode('utf-8'), \n",
    "                        tweet.user.screen_name.encode('utf-8'), \n",
    "                        [e['text'] for e in tweet._json['entities']['hashtags']],  \n",
    "                        tweet.user.location, \n",
    "                        tweet.user.followers_count, \n",
    "                        tweet.retweet_count, \n",
    "                        tweet.favorite_count])\n",
    "\n",
    "# Enter your hashtag here\n",
    "hashtag_phrase= \"milk consumer prices\"\n",
    "\n",
    "if __name__ == '__main__':\n",
    "    create_dataset(consumerKey, consumerSecret, accessToken, accessTokenSecret, hashtag_phrase)\n"
   ]
  },
  {
   "cell_type": "code",
   "execution_count": 37,
   "id": "4baa3a88",
   "metadata": {},
   "outputs": [],
   "source": [
    "df2 = pd.read_csv('dataset1.csv')"
   ]
  },
  {
   "cell_type": "code",
   "execution_count": 38,
   "id": "9ab5f706",
   "metadata": {},
   "outputs": [
    {
     "data": {
      "text/html": [
       "<div>\n",
       "<style scoped>\n",
       "    .dataframe tbody tr th:only-of-type {\n",
       "        vertical-align: middle;\n",
       "    }\n",
       "\n",
       "    .dataframe tbody tr th {\n",
       "        vertical-align: top;\n",
       "    }\n",
       "\n",
       "    .dataframe thead th {\n",
       "        text-align: right;\n",
       "    }\n",
       "</style>\n",
       "<table border=\"1\" class=\"dataframe\">\n",
       "  <thead>\n",
       "    <tr style=\"text-align: right;\">\n",
       "      <th></th>\n",
       "      <th>timestamp</th>\n",
       "      <th>tweet_text</th>\n",
       "      <th>username</th>\n",
       "      <th>all_hashtags</th>\n",
       "      <th>location</th>\n",
       "      <th>followers_count</th>\n",
       "      <th>retweet_count</th>\n",
       "      <th>favorite_count</th>\n",
       "    </tr>\n",
       "  </thead>\n",
       "  <tbody>\n",
       "    <tr>\n",
       "      <th>0</th>\n",
       "      <td>2022-04-29 04:17:02+00:00</td>\n",
       "      <td>b'Raw material volatility impacts cost forecas...</td>\n",
       "      <td>b'MarketsCafe'</td>\n",
       "      <td>['Industry', 'EconomicTimes']</td>\n",
       "      <td>India</td>\n",
       "      <td>1430</td>\n",
       "      <td>0</td>\n",
       "      <td>0</td>\n",
       "    </tr>\n",
       "    <tr>\n",
       "      <th>1</th>\n",
       "      <td>2022-04-28 17:12:00+00:00</td>\n",
       "      <td>b'Since the Biden admin settled in in Jan 2021...</td>\n",
       "      <td>b'FreedomFdtn'</td>\n",
       "      <td>['Bidenflation']</td>\n",
       "      <td>USA</td>\n",
       "      <td>8812</td>\n",
       "      <td>3</td>\n",
       "      <td>4</td>\n",
       "    </tr>\n",
       "    <tr>\n",
       "      <th>2</th>\n",
       "      <td>2022-04-28 14:57:41+00:00</td>\n",
       "      <td>b'@redsteeze Strong consumer spending strongly...</td>\n",
       "      <td>b'Siconik1'</td>\n",
       "      <td>[]</td>\n",
       "      <td>NaN</td>\n",
       "      <td>99</td>\n",
       "      <td>0</td>\n",
       "      <td>3</td>\n",
       "    </tr>\n",
       "    <tr>\n",
       "      <th>3</th>\n",
       "      <td>2022-04-28 12:02:10+00:00</td>\n",
       "      <td>b'Continued demand for non-GMO feed for livest...</td>\n",
       "      <td>b'FeedFolks'</td>\n",
       "      <td>['IFEEDER', 'GMFreeFeed']</td>\n",
       "      <td>Arlington, Va.</td>\n",
       "      <td>3585</td>\n",
       "      <td>1</td>\n",
       "      <td>3</td>\n",
       "    </tr>\n",
       "    <tr>\n",
       "      <th>4</th>\n",
       "      <td>2022-04-27 16:23:21+00:00</td>\n",
       "      <td>b'@chris_honeybee It impacts my perception of ...</td>\n",
       "      <td>b'orndorf77'</td>\n",
       "      <td>[]</td>\n",
       "      <td>Port St Lucie, FL</td>\n",
       "      <td>58</td>\n",
       "      <td>0</td>\n",
       "      <td>2</td>\n",
       "    </tr>\n",
       "  </tbody>\n",
       "</table>\n",
       "</div>"
      ],
      "text/plain": [
       "                   timestamp  \\\n",
       "0  2022-04-29 04:17:02+00:00   \n",
       "1  2022-04-28 17:12:00+00:00   \n",
       "2  2022-04-28 14:57:41+00:00   \n",
       "3  2022-04-28 12:02:10+00:00   \n",
       "4  2022-04-27 16:23:21+00:00   \n",
       "\n",
       "                                          tweet_text        username  \\\n",
       "0  b'Raw material volatility impacts cost forecas...  b'MarketsCafe'   \n",
       "1  b'Since the Biden admin settled in in Jan 2021...  b'FreedomFdtn'   \n",
       "2  b'@redsteeze Strong consumer spending strongly...     b'Siconik1'   \n",
       "3  b'Continued demand for non-GMO feed for livest...    b'FeedFolks'   \n",
       "4  b'@chris_honeybee It impacts my perception of ...    b'orndorf77'   \n",
       "\n",
       "                    all_hashtags           location  followers_count  \\\n",
       "0  ['Industry', 'EconomicTimes']              India             1430   \n",
       "1               ['Bidenflation']                USA             8812   \n",
       "2                             []                NaN               99   \n",
       "3      ['IFEEDER', 'GMFreeFeed']     Arlington, Va.             3585   \n",
       "4                             []  Port St Lucie, FL               58   \n",
       "\n",
       "   retweet_count  favorite_count  \n",
       "0              0               0  \n",
       "1              3               4  \n",
       "2              0               3  \n",
       "3              1               3  \n",
       "4              0               2  "
      ]
     },
     "execution_count": 38,
     "metadata": {},
     "output_type": "execute_result"
    }
   ],
   "source": [
    "df2.head()"
   ]
  },
  {
   "cell_type": "code",
   "execution_count": 39,
   "id": "10722c4e",
   "metadata": {},
   "outputs": [
    {
     "data": {
      "text/plain": [
       "(13, 8)"
      ]
     },
     "execution_count": 39,
     "metadata": {},
     "output_type": "execute_result"
    }
   ],
   "source": [
    "df2.shape"
   ]
  },
  {
   "cell_type": "code",
   "execution_count": null,
   "id": "1ab98243",
   "metadata": {},
   "outputs": [],
   "source": []
  }
 ],
 "metadata": {
  "kernelspec": {
   "display_name": "Python 3 (ipykernel)",
   "language": "python",
   "name": "python3"
  },
  "language_info": {
   "codemirror_mode": {
    "name": "ipython",
    "version": 3
   },
   "file_extension": ".py",
   "mimetype": "text/x-python",
   "name": "python",
   "nbconvert_exporter": "python",
   "pygments_lexer": "ipython3",
   "version": "3.9.7"
  }
 },
 "nbformat": 4,
 "nbformat_minor": 5
}

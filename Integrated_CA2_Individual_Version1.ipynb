{
 "cells": [
  {
   "cell_type": "markdown",
   "id": "e4a93451",
   "metadata": {},
   "source": [
    "# Analysis and prediction of Milk Price in Ireland¶"
   ]
  },
  {
   "cell_type": "markdown",
   "id": "77f8e16a",
   "metadata": {},
   "source": [
    "# Business Goal\n",
    "Predict the Milk Price In Ireland, two non EU countries(New-Zealand, India) and an EU country(France). Also compare the Milk prices with Ireland as baseline with other countries in the world\n",
    "\n",
    "# Data Preparation\n",
    "Provide references for the data collected\n",
    "\n",
    "# Milk Price Prediction\n",
    "The goal of this project is to predict the milk price in Ireland based on the historical data and the predictor variables\n",
    "\n",
    "\n",
    "# Table of Contents\n",
    "\n",
    "# Section 1: Ireland Milk price analysis and prediction\n",
    "\n",
    "# Section 2: New Zealand Milk price analysis and prediction\n",
    "\n",
    "# Section 3: India Milk price analysis and prediction\n",
    "\n",
    "# Section 4: France Milk Price analysis and Prediction\n",
    "\n",
    "# Section 5: Comparison of Milk prices with Ireland and World\n",
    "\n",
    "# Section 6: Statistical Analysis\n",
    "\n",
    "# References\n",
    "All the literature reviewed as part of this project is given in the reference section as Harvard style referencing"
   ]
  },
  {
   "cell_type": "markdown",
   "id": "823afbf0",
   "metadata": {},
   "source": [
    "# Section 1: Ireland Milk price analysis and prediction"
   ]
  },
  {
   "cell_type": "markdown",
   "id": "1fd1b653",
   "metadata": {},
   "source": [
    "Phase 1 : Data understanding and exploration\n",
    "\n",
    "Let's first have a look at the dataset and understand the size, attribute names etc"
   ]
  },
  {
   "cell_type": "code",
   "execution_count": 1,
   "id": "d903db12",
   "metadata": {},
   "outputs": [],
   "source": [
    "# Import the Required Libraries\n",
    "import pandas as pd\n",
    "import numpy as np\n",
    "import matplotlib.pyplot as plt\n",
    "import seaborn as sns\n",
    "from warnings import filterwarnings\n",
    "filterwarnings('ignore')"
   ]
  },
  {
   "cell_type": "code",
   "execution_count": null,
   "id": "5b05ca0c",
   "metadata": {},
   "outputs": [],
   "source": [
    "#read all the milk or dairy related feature datasets of Ireland\n",
    "df2022 = pd.read_csv('pedestrian-count-2022.csv') #read the 2022 pedestrian footfall counter\n",
    "df2021 = pd.read_csv('pedestrian-count-2021.csv') #read the 2021 pedestrian footfall counter\n",
    "df2020 = pd.read_csv('pedestrian-count-2020.csv') #read the 2020 pedestrian footfall counter\n",
    "df2019 = pd.read_csv('pedestrian-count-2019.csv') #read the 2019 pedestrian footfall counter\n",
    "df2018 = pd.read_csv('pedestrian-count-2018.csv') #read the 2018 pedestrian footfall counter\n",
    "df2017 = pd.read_csv('pedestrian-count-2017.csv') #read the 2017 pedestrian footfall counter\n",
    "df2016 = pd.read_csv('pedestrian-count-2016.csv') #read the 2016 pedestrian footfall counter"
   ]
  }
 ],
 "metadata": {
  "kernelspec": {
   "display_name": "Python 3 (ipykernel)",
   "language": "python",
   "name": "python3"
  },
  "language_info": {
   "codemirror_mode": {
    "name": "ipython",
    "version": 3
   },
   "file_extension": ".py",
   "mimetype": "text/x-python",
   "name": "python",
   "nbconvert_exporter": "python",
   "pygments_lexer": "ipython3",
   "version": "3.9.7"
  }
 },
 "nbformat": 4,
 "nbformat_minor": 5
}

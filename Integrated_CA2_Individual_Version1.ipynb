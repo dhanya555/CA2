{
 "cells": [
  {
   "cell_type": "markdown",
   "id": "6725f871",
   "metadata": {},
   "source": [
    "# Analysis and prediction of Milk Price in Ireland"
   ]
  },
  {
   "cell_type": "markdown",
   "id": "3bac60e5",
   "metadata": {},
   "source": [
    "# Business Goal\n",
    "Predict the Milk Price In Ireland, two non EU countries(New-Zealand, India) and an EU country(France). Also compare the Milk prices with Ireland as baseline with other countries in the world\n",
    "\n",
    "# Data Preparation\n",
    "Provide references for the data collected\n",
    "\n",
    "# Milk Price Prediction\n",
    "The goal of this project is to predict the milk price in Ireland based on the historical data and the predictor variables\n",
    "\n",
    "\n",
    "# Table of Contents\n",
    "\n",
    "# Section 1: Ireland Milk price analysis and prediction\n",
    "\n",
    "# Section 2: New Zealand Milk price analysis and prediction\n",
    "\n",
    "# Section 3: India Milk price analysis and prediction\n",
    "\n",
    "# Section 4: France Milk Price analysis and Prediction\n",
    "\n",
    "# Section 5: Comparison of Milk prices with Ireland and World\n",
    "\n",
    "# Section 6: Statistical Analysis\n",
    "\n",
    "# References\n",
    "All the literature reviewed as part of this project is given in the reference section as Harvard style referencing"
   ]
  },
  {
   "cell_type": "markdown",
   "id": "9aa0eca0",
   "metadata": {},
   "source": [
    "# Section 1: Ireland Milk price analysis and prediction"
   ]
  },
  {
   "cell_type": "markdown",
   "id": "f4ce1384",
   "metadata": {},
   "source": [
    "Phase 1 : Data understanding and exploration\n",
    "\n",
    "Let's first have a look at the dataset and understand the size, attribute names etc"
   ]
  },
  {
   "cell_type": "code",
   "execution_count": 1,
   "id": "04eb0e59",
   "metadata": {},
   "outputs": [],
   "source": [
    "# Import the Required Libraries\n",
    "import pandas as pd\n",
    "import numpy as np\n",
    "import matplotlib.pyplot as plt\n",
    "import seaborn as sns\n",
    "from warnings import filterwarnings\n",
    "filterwarnings('ignore')"
   ]
  },
  {
   "cell_type": "code",
   "execution_count": 2,
   "id": "a03c3897",
   "metadata": {},
   "outputs": [],
   "source": [
    "#read all the milk or dairy related feature datasets of Ireland collected from various sources\n",
    "milk_sales_Ireland_monthly                 = pd.read_csv('All_milk_sales_Ireland_monthly.csv')            # all milk sales Ireland\n",
    "calf_birth_beef_bull_female_monthly        = pd.read_csv('Calf_birth_Beef_Bull_Female_monthly.csv')       # calf birth beef bull female\n",
    "calf_birth_beef_bull_male_monthly          = pd.read_csv('Calf_birth_Beef_Bull_Male_monthly.csv')         # calf birth beef bull male\n",
    "calf_birth_dairy_bull_female_monthly       = pd.read_csv('Calf_birth_Dairy_Bull_Female_monthly.csv')      # calf birth dairy bull female\n",
    "calf_birth_dairy_bull_male_monthly         = pd.read_csv('Calf_birth_Dairy_Bull_Male_monthly.csv')        # calf birth dairy bull male\n",
    "cattle_fattening_feed_price_monthly        = pd.read_csv('Cattle_fattening_feed_price_monthly.csv')       # cattle fattening feed\n",
    "cattle_fattening_nuts_cubes_price_monthly  = pd.read_csv('Cattle_fattening_nuts_cubes_price_monthly.csv') # cattle fattening nuts cubes\n",
    "consumer_price_fullfat_milk2L_monthly      = pd.read_csv('Consumer_price_fullfat_milk_2L_euro.csv')       # consumer price fullfat milk\n",
    "consumer_price_lowfat_milk1L_monthly       = pd.read_csv('Consumer_price_lowfat_milk_1L_euro.csv')        # consumer price lowfat milk\n",
    "cow_milk_intake_pasteury_creamery_monthly  = pd.read_csv('Cows_milk_intake_domestic_creameris_pasteuries_monthly.csv') # milk intake creamery pasteury\n",
    "fertilizer_calciumammonium_nitrate_monthly = pd.read_csv('Fertilizer_calciumammonium_nitrate_price_monthly.csv') # fertilizer calciumammonium nitrate price\n",
    "fertilizer_granularsuperphosphate_monthly  = pd.read_csv('Fertilizer_Granular_Superphosphate_price_monthly.csv') # fertilizer superphosphate price\n",
    "fertilizer_potash_muriate_monthly          = pd.read_csv('Fertilizer_muriate_potash_price_monthly.csv') # fertilizer potash muriate price\n",
    "fertilizer_urea_monthly                    = pd.read_csv('Fertilizer_Urea_price_monthly.csv') # fertilizer urea price\n",
    "heifer_200_249kg_price_monthly             = pd.read_csv('Heifers_200_249KG_price_monthly.csv') # heifer 200 249kg price\n",
    "heifer_250_299kg_price_monthly             = pd.read_csv('Heifers_250_299KG_price_monthly.csv') # heifer 250 299kg price\n",
    "heifer_300_349kg_price_monthly             = pd.read_csv('Heifers_300_349KG_price_monthly.csv') # heifer 300 349kg price\n",
    "heifer_350_399kg_price_monthly             = pd.read_csv('Heifers_350_399KG_price_monthly.csv') # heifer 350 399kg price\n",
    "heifer_400_449kg_price_monthly             = pd.read_csv('Heifers_400_449KG_price_monthly.csv') # heifer 400 449kg price\n",
    "consumer_price_index_Ireland_monthly       = pd.read_excel('Ireland_Consumer_Price_Index_monthly.xlsx') # Ireland consumer price\n",
    "producer_price_index_Ireland_monthly       = pd.read_excel('Ireland_Producer_Price_Index_monthly.xlsx') # Ireland producer price\n",
    "maize_meal_price_Ireland_monthly           = pd.read_csv('Maize_meal_price_Ireland_monthly.csv') # Maize meal price\n",
    "producer_price_actualprotein_milk_monthly  = pd.read_csv('Manufacture_price_actualfatprotein_milk_monthly.csv') # Manufacture price milk\n",
    "milk_sales_skimmed_semiskimmed_Ireland     = pd.read_csv('Milk_sales_skimmed_semiskimmed_Ireland_monthly.csv') # Milk sales semiskimmed and skimmed\n",
    "milk_sales_whole_milk_Ireland              = pd.read_csv('Milk_sales_whole_milk_Ireland_monthly.csv') # Milk sales whole milk\n",
    "butter_production_monthly                  = pd.read_csv('Production_Butter_monthly.csv') # butter production\n",
    "cheese_production_monthly                  = pd.read_csv('Production_Cheese_monthly.csv') # cheese production\n",
    "skimmed_milk_production_monthly            = pd.read_csv('Production_skimmed_milk_monthly.csv') # skimmed milk production\n",
    "transport_consumer_price_index_monthly     = pd.read_csv('Transport_Consumer_PriceIndex_monthly.csv') # transport consumer priceindex\n",
    "wheat_feed_price_Ireland_monthly           = pd.read_csv('Wheat_feed_price_Ireland_monthly.csv') # wheat feed price\n",
    "diesel_price_monthly                       = pd.read_csv('Diesel_price_monthly.csv') # diesel price index\n",
    "petrol_price_monthly                       = pd.read_csv('Petrol_unleaded_price_monthly.csv') # unleaded petrol price index"
   ]
  },
  {
   "cell_type": "markdown",
   "id": "bc6eaa6d",
   "metadata": {},
   "source": [
    "Analaysis of all the observations by displaying the records, shape and datatypes"
   ]
  },
  {
   "cell_type": "code",
   "execution_count": 10,
   "id": "81569f5c",
   "metadata": {},
   "outputs": [
    {
     "data": {
      "text/html": [
       "<div>\n",
       "<style scoped>\n",
       "    .dataframe tbody tr th:only-of-type {\n",
       "        vertical-align: middle;\n",
       "    }\n",
       "\n",
       "    .dataframe tbody tr th {\n",
       "        vertical-align: top;\n",
       "    }\n",
       "\n",
       "    .dataframe thead th {\n",
       "        text-align: right;\n",
       "    }\n",
       "</style>\n",
       "<table border=\"1\" class=\"dataframe\">\n",
       "  <thead>\n",
       "    <tr style=\"text-align: right;\">\n",
       "      <th></th>\n",
       "      <th>Statistic</th>\n",
       "      <th>Month</th>\n",
       "      <th>Type of Milk</th>\n",
       "      <th>UNIT</th>\n",
       "      <th>VALUE</th>\n",
       "    </tr>\n",
       "  </thead>\n",
       "  <tbody>\n",
       "    <tr>\n",
       "      <th>0</th>\n",
       "      <td>Milk Sales (Dairy) for Human Consumption</td>\n",
       "      <td>1980M01</td>\n",
       "      <td>All Milk</td>\n",
       "      <td>Million Litres</td>\n",
       "      <td>38.2</td>\n",
       "    </tr>\n",
       "    <tr>\n",
       "      <th>1</th>\n",
       "      <td>Milk Sales (Dairy) for Human Consumption</td>\n",
       "      <td>1980M02</td>\n",
       "      <td>All Milk</td>\n",
       "      <td>Million Litres</td>\n",
       "      <td>36.6</td>\n",
       "    </tr>\n",
       "    <tr>\n",
       "      <th>2</th>\n",
       "      <td>Milk Sales (Dairy) for Human Consumption</td>\n",
       "      <td>1980M03</td>\n",
       "      <td>All Milk</td>\n",
       "      <td>Million Litres</td>\n",
       "      <td>38.4</td>\n",
       "    </tr>\n",
       "    <tr>\n",
       "      <th>3</th>\n",
       "      <td>Milk Sales (Dairy) for Human Consumption</td>\n",
       "      <td>1980M04</td>\n",
       "      <td>All Milk</td>\n",
       "      <td>Million Litres</td>\n",
       "      <td>36.8</td>\n",
       "    </tr>\n",
       "    <tr>\n",
       "      <th>4</th>\n",
       "      <td>Milk Sales (Dairy) for Human Consumption</td>\n",
       "      <td>1980M05</td>\n",
       "      <td>All Milk</td>\n",
       "      <td>Million Litres</td>\n",
       "      <td>38.8</td>\n",
       "    </tr>\n",
       "  </tbody>\n",
       "</table>\n",
       "</div>"
      ],
      "text/plain": [
       "                                  Statistic    Month Type of Milk  \\\n",
       "0  Milk Sales (Dairy) for Human Consumption  1980M01     All Milk   \n",
       "1  Milk Sales (Dairy) for Human Consumption  1980M02     All Milk   \n",
       "2  Milk Sales (Dairy) for Human Consumption  1980M03     All Milk   \n",
       "3  Milk Sales (Dairy) for Human Consumption  1980M04     All Milk   \n",
       "4  Milk Sales (Dairy) for Human Consumption  1980M05     All Milk   \n",
       "\n",
       "             UNIT  VALUE  \n",
       "0  Million Litres   38.2  \n",
       "1  Million Litres   36.6  \n",
       "2  Million Litres   38.4  \n",
       "3  Million Litres   36.8  \n",
       "4  Million Litres   38.8  "
      ]
     },
     "execution_count": 10,
     "metadata": {},
     "output_type": "execute_result"
    }
   ],
   "source": [
    "#check first 5 records\n",
    "milk_sales_Ireland_monthly.head()"
   ]
  },
  {
   "cell_type": "code",
   "execution_count": 4,
   "id": "911ad08b",
   "metadata": {},
   "outputs": [
    {
     "data": {
      "text/html": [
       "<div>\n",
       "<style scoped>\n",
       "    .dataframe tbody tr th:only-of-type {\n",
       "        vertical-align: middle;\n",
       "    }\n",
       "\n",
       "    .dataframe tbody tr th {\n",
       "        vertical-align: top;\n",
       "    }\n",
       "\n",
       "    .dataframe thead th {\n",
       "        text-align: right;\n",
       "    }\n",
       "</style>\n",
       "<table border=\"1\" class=\"dataframe\">\n",
       "  <thead>\n",
       "    <tr style=\"text-align: right;\">\n",
       "      <th></th>\n",
       "      <th>Statistic</th>\n",
       "      <th>Month</th>\n",
       "      <th>Type of Milk</th>\n",
       "      <th>UNIT</th>\n",
       "      <th>VALUE</th>\n",
       "    </tr>\n",
       "  </thead>\n",
       "  <tbody>\n",
       "    <tr>\n",
       "      <th>501</th>\n",
       "      <td>Milk Sales (Dairy) for Human Consumption</td>\n",
       "      <td>2021M10</td>\n",
       "      <td>All Milk</td>\n",
       "      <td>Million Litres</td>\n",
       "      <td>41.9</td>\n",
       "    </tr>\n",
       "    <tr>\n",
       "      <th>502</th>\n",
       "      <td>Milk Sales (Dairy) for Human Consumption</td>\n",
       "      <td>2021M11</td>\n",
       "      <td>All Milk</td>\n",
       "      <td>Million Litres</td>\n",
       "      <td>40.9</td>\n",
       "    </tr>\n",
       "    <tr>\n",
       "      <th>503</th>\n",
       "      <td>Milk Sales (Dairy) for Human Consumption</td>\n",
       "      <td>2021M12</td>\n",
       "      <td>All Milk</td>\n",
       "      <td>Million Litres</td>\n",
       "      <td>38.9</td>\n",
       "    </tr>\n",
       "    <tr>\n",
       "      <th>504</th>\n",
       "      <td>Milk Sales (Dairy) for Human Consumption</td>\n",
       "      <td>2022M01</td>\n",
       "      <td>All Milk</td>\n",
       "      <td>Million Litres</td>\n",
       "      <td>40.3</td>\n",
       "    </tr>\n",
       "    <tr>\n",
       "      <th>505</th>\n",
       "      <td>Milk Sales (Dairy) for Human Consumption</td>\n",
       "      <td>2022M02</td>\n",
       "      <td>All Milk</td>\n",
       "      <td>Million Litres</td>\n",
       "      <td>36.1</td>\n",
       "    </tr>\n",
       "  </tbody>\n",
       "</table>\n",
       "</div>"
      ],
      "text/plain": [
       "                                    Statistic    Month Type of Milk  \\\n",
       "501  Milk Sales (Dairy) for Human Consumption  2021M10     All Milk   \n",
       "502  Milk Sales (Dairy) for Human Consumption  2021M11     All Milk   \n",
       "503  Milk Sales (Dairy) for Human Consumption  2021M12     All Milk   \n",
       "504  Milk Sales (Dairy) for Human Consumption  2022M01     All Milk   \n",
       "505  Milk Sales (Dairy) for Human Consumption  2022M02     All Milk   \n",
       "\n",
       "               UNIT  VALUE  \n",
       "501  Million Litres   41.9  \n",
       "502  Million Litres   40.9  \n",
       "503  Million Litres   38.9  \n",
       "504  Million Litres   40.3  \n",
       "505  Million Litres   36.1  "
      ]
     },
     "execution_count": 4,
     "metadata": {},
     "output_type": "execute_result"
    }
   ],
   "source": [
    "#check last 5 records\n",
    "milk_sales_Ireland_monthly.tail()"
   ]
  },
  {
   "cell_type": "code",
   "execution_count": 5,
   "id": "5a0637e2",
   "metadata": {},
   "outputs": [
    {
     "data": {
      "text/plain": [
       "(506, 5)"
      ]
     },
     "execution_count": 5,
     "metadata": {},
     "output_type": "execute_result"
    }
   ],
   "source": [
    "#check for shape\n",
    "milk_sales_Ireland_monthly.shape"
   ]
  },
  {
   "cell_type": "code",
   "execution_count": 9,
   "id": "a43cd4b1",
   "metadata": {},
   "outputs": [
    {
     "name": "stdout",
     "output_type": "stream",
     "text": [
      "<class 'pandas.core.frame.DataFrame'>\n",
      "RangeIndex: 506 entries, 0 to 505\n",
      "Data columns (total 5 columns):\n",
      " #   Column        Non-Null Count  Dtype  \n",
      "---  ------        --------------  -----  \n",
      " 0   Statistic     506 non-null    object \n",
      " 1   Month         506 non-null    object \n",
      " 2   Type of Milk  506 non-null    object \n",
      " 3   UNIT          506 non-null    object \n",
      " 4   VALUE         506 non-null    float64\n",
      "dtypes: float64(1), object(4)\n",
      "memory usage: 19.9+ KB\n"
     ]
    }
   ],
   "source": [
    "#check data type\n",
    "milk_sales_Ireland_monthly.info()"
   ]
  },
  {
   "cell_type": "code",
   "execution_count": 11,
   "id": "eabff46f",
   "metadata": {},
   "outputs": [
    {
     "data": {
      "text/plain": [
       "Statistic       0\n",
       "Month           0\n",
       "Type of Milk    0\n",
       "UNIT            0\n",
       "VALUE           0\n",
       "dtype: int64"
      ]
     },
     "execution_count": 11,
     "metadata": {},
     "output_type": "execute_result"
    }
   ],
   "source": [
    "#check for missing or null values in the data\n",
    "milk_sales_Ireland_monthly.isnull().sum()"
   ]
  },
  {
   "cell_type": "markdown",
   "id": "5b718b90",
   "metadata": {},
   "source": [
    "Insights gained from above analysis for Ireland Milk sales data\n",
    "1. Contains records from 1980 to 2022 with total 506 observations and 5 columns\n",
    "2. No null values in the data\n",
    "3. Month value is in object datatype and sales data is in float datatype\n",
    "4. Milk unit is in million litres"
   ]
  },
  {
   "cell_type": "code",
   "execution_count": 12,
   "id": "9805a046",
   "metadata": {},
   "outputs": [
    {
     "data": {
      "text/html": [
       "<div>\n",
       "<style scoped>\n",
       "    .dataframe tbody tr th:only-of-type {\n",
       "        vertical-align: middle;\n",
       "    }\n",
       "\n",
       "    .dataframe tbody tr th {\n",
       "        vertical-align: top;\n",
       "    }\n",
       "\n",
       "    .dataframe thead th {\n",
       "        text-align: right;\n",
       "    }\n",
       "</style>\n",
       "<table border=\"1\" class=\"dataframe\">\n",
       "  <thead>\n",
       "    <tr style=\"text-align: right;\">\n",
       "      <th></th>\n",
       "      <th>Month</th>\n",
       "      <th>UNIT</th>\n",
       "      <th>Beef Bull Female count</th>\n",
       "    </tr>\n",
       "  </thead>\n",
       "  <tbody>\n",
       "    <tr>\n",
       "      <th>0</th>\n",
       "      <td>2015M01</td>\n",
       "      <td>Headcount</td>\n",
       "      <td>45797</td>\n",
       "    </tr>\n",
       "    <tr>\n",
       "      <th>1</th>\n",
       "      <td>2015M02</td>\n",
       "      <td>Headcount</td>\n",
       "      <td>103117</td>\n",
       "    </tr>\n",
       "    <tr>\n",
       "      <th>2</th>\n",
       "      <td>2015M03</td>\n",
       "      <td>Headcount</td>\n",
       "      <td>159785</td>\n",
       "    </tr>\n",
       "    <tr>\n",
       "      <th>3</th>\n",
       "      <td>2015M04</td>\n",
       "      <td>Headcount</td>\n",
       "      <td>140890</td>\n",
       "    </tr>\n",
       "    <tr>\n",
       "      <th>4</th>\n",
       "      <td>2015M05</td>\n",
       "      <td>Headcount</td>\n",
       "      <td>86454</td>\n",
       "    </tr>\n",
       "  </tbody>\n",
       "</table>\n",
       "</div>"
      ],
      "text/plain": [
       "     Month       UNIT  Beef Bull Female count\n",
       "0  2015M01  Headcount                   45797\n",
       "1  2015M02  Headcount                  103117\n",
       "2  2015M03  Headcount                  159785\n",
       "3  2015M04  Headcount                  140890\n",
       "4  2015M05  Headcount                   86454"
      ]
     },
     "execution_count": 12,
     "metadata": {},
     "output_type": "execute_result"
    }
   ],
   "source": [
    "#check first 5 records\n",
    "calf_birth_beef_bull_female_monthly.head()"
   ]
  },
  {
   "cell_type": "code",
   "execution_count": 13,
   "id": "01bd9cfd",
   "metadata": {},
   "outputs": [
    {
     "data": {
      "text/html": [
       "<div>\n",
       "<style scoped>\n",
       "    .dataframe tbody tr th:only-of-type {\n",
       "        vertical-align: middle;\n",
       "    }\n",
       "\n",
       "    .dataframe tbody tr th {\n",
       "        vertical-align: top;\n",
       "    }\n",
       "\n",
       "    .dataframe thead th {\n",
       "        text-align: right;\n",
       "    }\n",
       "</style>\n",
       "<table border=\"1\" class=\"dataframe\">\n",
       "  <thead>\n",
       "    <tr style=\"text-align: right;\">\n",
       "      <th></th>\n",
       "      <th>Month</th>\n",
       "      <th>UNIT</th>\n",
       "      <th>Beef Bull Female count</th>\n",
       "    </tr>\n",
       "  </thead>\n",
       "  <tbody>\n",
       "    <tr>\n",
       "      <th>81</th>\n",
       "      <td>2021M10</td>\n",
       "      <td>Headcount</td>\n",
       "      <td>20426</td>\n",
       "    </tr>\n",
       "    <tr>\n",
       "      <th>82</th>\n",
       "      <td>2021M11</td>\n",
       "      <td>Headcount</td>\n",
       "      <td>17647</td>\n",
       "    </tr>\n",
       "    <tr>\n",
       "      <th>83</th>\n",
       "      <td>2021M12</td>\n",
       "      <td>Headcount</td>\n",
       "      <td>14318</td>\n",
       "    </tr>\n",
       "    <tr>\n",
       "      <th>84</th>\n",
       "      <td>2022M01</td>\n",
       "      <td>Headcount</td>\n",
       "      <td>49099</td>\n",
       "    </tr>\n",
       "    <tr>\n",
       "      <th>85</th>\n",
       "      <td>2022M02</td>\n",
       "      <td>Headcount</td>\n",
       "      <td>122786</td>\n",
       "    </tr>\n",
       "  </tbody>\n",
       "</table>\n",
       "</div>"
      ],
      "text/plain": [
       "      Month       UNIT  Beef Bull Female count\n",
       "81  2021M10  Headcount                   20426\n",
       "82  2021M11  Headcount                   17647\n",
       "83  2021M12  Headcount                   14318\n",
       "84  2022M01  Headcount                   49099\n",
       "85  2022M02  Headcount                  122786"
      ]
     },
     "execution_count": 13,
     "metadata": {},
     "output_type": "execute_result"
    }
   ],
   "source": [
    "#check last 5 records\n",
    "calf_birth_beef_bull_female_monthly.tail()"
   ]
  },
  {
   "cell_type": "code",
   "execution_count": 14,
   "id": "e729f408",
   "metadata": {},
   "outputs": [
    {
     "data": {
      "text/plain": [
       "(86, 3)"
      ]
     },
     "execution_count": 14,
     "metadata": {},
     "output_type": "execute_result"
    }
   ],
   "source": [
    "#check shape\n",
    "calf_birth_beef_bull_female_monthly.shape"
   ]
  },
  {
   "cell_type": "code",
   "execution_count": 16,
   "id": "84e135ea",
   "metadata": {},
   "outputs": [
    {
     "name": "stdout",
     "output_type": "stream",
     "text": [
      "<class 'pandas.core.frame.DataFrame'>\n",
      "RangeIndex: 86 entries, 0 to 85\n",
      "Data columns (total 3 columns):\n",
      " #   Column                  Non-Null Count  Dtype \n",
      "---  ------                  --------------  ----- \n",
      " 0   Month                   86 non-null     object\n",
      " 1   UNIT                    86 non-null     object\n",
      " 2   Beef Bull Female count  86 non-null     int64 \n",
      "dtypes: int64(1), object(2)\n",
      "memory usage: 2.1+ KB\n"
     ]
    }
   ],
   "source": [
    "#check data type\n",
    "calf_birth_beef_bull_female_monthly.info()"
   ]
  },
  {
   "cell_type": "code",
   "execution_count": 15,
   "id": "5a214c74",
   "metadata": {},
   "outputs": [
    {
     "data": {
      "text/plain": [
       "Month                     0\n",
       "UNIT                      0\n",
       "Beef Bull Female count    0\n",
       "dtype: int64"
      ]
     },
     "execution_count": 15,
     "metadata": {},
     "output_type": "execute_result"
    }
   ],
   "source": [
    "#check for missing or null values in the data\n",
    "calf_birth_beef_bull_female_monthly.isnull().sum()"
   ]
  },
  {
   "cell_type": "markdown",
   "id": "582b36f0",
   "metadata": {},
   "source": [
    "Insights gained from above analysis for Calf birth beef female bull data\n",
    "\n",
    "Contains records from 2015 to 2022 with total 86 observations and 3 columns\n",
    "No null values in the data\n",
    "Month value is in object datatype and calf birth headcount is integer datatype\n",
    "unit is in headcount or number"
   ]
  },
  {
   "cell_type": "code",
   "execution_count": 17,
   "id": "d5fcf757",
   "metadata": {},
   "outputs": [
    {
     "data": {
      "text/html": [
       "<div>\n",
       "<style scoped>\n",
       "    .dataframe tbody tr th:only-of-type {\n",
       "        vertical-align: middle;\n",
       "    }\n",
       "\n",
       "    .dataframe tbody tr th {\n",
       "        vertical-align: top;\n",
       "    }\n",
       "\n",
       "    .dataframe thead th {\n",
       "        text-align: right;\n",
       "    }\n",
       "</style>\n",
       "<table border=\"1\" class=\"dataframe\">\n",
       "  <thead>\n",
       "    <tr style=\"text-align: right;\">\n",
       "      <th></th>\n",
       "      <th>Month</th>\n",
       "      <th>UNIT</th>\n",
       "      <th>Beef Bull Male count</th>\n",
       "    </tr>\n",
       "  </thead>\n",
       "  <tbody>\n",
       "    <tr>\n",
       "      <th>0</th>\n",
       "      <td>2015M01</td>\n",
       "      <td>Headcount</td>\n",
       "      <td>47039</td>\n",
       "    </tr>\n",
       "    <tr>\n",
       "      <th>1</th>\n",
       "      <td>2015M02</td>\n",
       "      <td>Headcount</td>\n",
       "      <td>108548</td>\n",
       "    </tr>\n",
       "    <tr>\n",
       "      <th>2</th>\n",
       "      <td>2015M03</td>\n",
       "      <td>Headcount</td>\n",
       "      <td>171057</td>\n",
       "    </tr>\n",
       "    <tr>\n",
       "      <th>3</th>\n",
       "      <td>2015M04</td>\n",
       "      <td>Headcount</td>\n",
       "      <td>151498</td>\n",
       "    </tr>\n",
       "    <tr>\n",
       "      <th>4</th>\n",
       "      <td>2015M05</td>\n",
       "      <td>Headcount</td>\n",
       "      <td>93068</td>\n",
       "    </tr>\n",
       "  </tbody>\n",
       "</table>\n",
       "</div>"
      ],
      "text/plain": [
       "     Month       UNIT  Beef Bull Male count\n",
       "0  2015M01  Headcount                 47039\n",
       "1  2015M02  Headcount                108548\n",
       "2  2015M03  Headcount                171057\n",
       "3  2015M04  Headcount                151498\n",
       "4  2015M05  Headcount                 93068"
      ]
     },
     "execution_count": 17,
     "metadata": {},
     "output_type": "execute_result"
    }
   ],
   "source": [
    "#check first 5 records\n",
    "calf_birth_beef_bull_male_monthly.head()"
   ]
  },
  {
   "cell_type": "code",
   "execution_count": 18,
   "id": "eadeacd5",
   "metadata": {},
   "outputs": [
    {
     "data": {
      "text/html": [
       "<div>\n",
       "<style scoped>\n",
       "    .dataframe tbody tr th:only-of-type {\n",
       "        vertical-align: middle;\n",
       "    }\n",
       "\n",
       "    .dataframe tbody tr th {\n",
       "        vertical-align: top;\n",
       "    }\n",
       "\n",
       "    .dataframe thead th {\n",
       "        text-align: right;\n",
       "    }\n",
       "</style>\n",
       "<table border=\"1\" class=\"dataframe\">\n",
       "  <thead>\n",
       "    <tr style=\"text-align: right;\">\n",
       "      <th></th>\n",
       "      <th>Month</th>\n",
       "      <th>UNIT</th>\n",
       "      <th>Beef Bull Male count</th>\n",
       "    </tr>\n",
       "  </thead>\n",
       "  <tbody>\n",
       "    <tr>\n",
       "      <th>81</th>\n",
       "      <td>2021M10</td>\n",
       "      <td>Headcount</td>\n",
       "      <td>21420</td>\n",
       "    </tr>\n",
       "    <tr>\n",
       "      <th>82</th>\n",
       "      <td>2021M11</td>\n",
       "      <td>Headcount</td>\n",
       "      <td>18802</td>\n",
       "    </tr>\n",
       "    <tr>\n",
       "      <th>83</th>\n",
       "      <td>2021M12</td>\n",
       "      <td>Headcount</td>\n",
       "      <td>15184</td>\n",
       "    </tr>\n",
       "    <tr>\n",
       "      <th>84</th>\n",
       "      <td>2022M01</td>\n",
       "      <td>Headcount</td>\n",
       "      <td>50869</td>\n",
       "    </tr>\n",
       "    <tr>\n",
       "      <th>85</th>\n",
       "      <td>2022M02</td>\n",
       "      <td>Headcount</td>\n",
       "      <td>131514</td>\n",
       "    </tr>\n",
       "  </tbody>\n",
       "</table>\n",
       "</div>"
      ],
      "text/plain": [
       "      Month       UNIT  Beef Bull Male count\n",
       "81  2021M10  Headcount                 21420\n",
       "82  2021M11  Headcount                 18802\n",
       "83  2021M12  Headcount                 15184\n",
       "84  2022M01  Headcount                 50869\n",
       "85  2022M02  Headcount                131514"
      ]
     },
     "execution_count": 18,
     "metadata": {},
     "output_type": "execute_result"
    }
   ],
   "source": [
    "#check last 5 records\n",
    "calf_birth_beef_bull_male_monthly.tail()"
   ]
  },
  {
   "cell_type": "code",
   "execution_count": 19,
   "id": "8d280e1e",
   "metadata": {},
   "outputs": [
    {
     "data": {
      "text/plain": [
       "(86, 3)"
      ]
     },
     "execution_count": 19,
     "metadata": {},
     "output_type": "execute_result"
    }
   ],
   "source": [
    "#check shape\n",
    "calf_birth_beef_bull_male_monthly.shape"
   ]
  },
  {
   "cell_type": "code",
   "execution_count": 20,
   "id": "4f115d0a",
   "metadata": {},
   "outputs": [
    {
     "name": "stdout",
     "output_type": "stream",
     "text": [
      "<class 'pandas.core.frame.DataFrame'>\n",
      "RangeIndex: 86 entries, 0 to 85\n",
      "Data columns (total 3 columns):\n",
      " #   Column                Non-Null Count  Dtype \n",
      "---  ------                --------------  ----- \n",
      " 0   Month                 86 non-null     object\n",
      " 1   UNIT                  86 non-null     object\n",
      " 2   Beef Bull Male count  86 non-null     int64 \n",
      "dtypes: int64(1), object(2)\n",
      "memory usage: 2.1+ KB\n"
     ]
    }
   ],
   "source": [
    "#check data type\n",
    "calf_birth_beef_bull_male_monthly.info()"
   ]
  },
  {
   "cell_type": "code",
   "execution_count": 21,
   "id": "c7868e8a",
   "metadata": {},
   "outputs": [
    {
     "data": {
      "text/plain": [
       "Month                   0\n",
       "UNIT                    0\n",
       "Beef Bull Male count    0\n",
       "dtype: int64"
      ]
     },
     "execution_count": 21,
     "metadata": {},
     "output_type": "execute_result"
    }
   ],
   "source": [
    "#check for missing or null values in the data\n",
    "calf_birth_beef_bull_male_monthly.isnull().sum()"
   ]
  },
  {
   "cell_type": "markdown",
   "id": "73ef0c24",
   "metadata": {},
   "source": [
    "Insights gained from above analysis for Calf birth beef male bull data\n",
    "\n",
    "1. Contains records from 2015 to 2022 with total 86 observations and 3 columns\n",
    "2. No null values in the data \n",
    "3. Month value is in object datatype and calf birth headcount is integer datatype \n",
    "4. unit is in headcount or number"
   ]
  },
  {
   "cell_type": "code",
   "execution_count": 23,
   "id": "cf9a5425",
   "metadata": {},
   "outputs": [
    {
     "data": {
      "text/html": [
       "<div>\n",
       "<style scoped>\n",
       "    .dataframe tbody tr th:only-of-type {\n",
       "        vertical-align: middle;\n",
       "    }\n",
       "\n",
       "    .dataframe tbody tr th {\n",
       "        vertical-align: top;\n",
       "    }\n",
       "\n",
       "    .dataframe thead th {\n",
       "        text-align: right;\n",
       "    }\n",
       "</style>\n",
       "<table border=\"1\" class=\"dataframe\">\n",
       "  <thead>\n",
       "    <tr style=\"text-align: right;\">\n",
       "      <th></th>\n",
       "      <th>Month</th>\n",
       "      <th>UNIT</th>\n",
       "      <th>Diary Bull Female count</th>\n",
       "    </tr>\n",
       "  </thead>\n",
       "  <tbody>\n",
       "    <tr>\n",
       "      <th>0</th>\n",
       "      <td>2015M01</td>\n",
       "      <td>Headcount</td>\n",
       "      <td>62021</td>\n",
       "    </tr>\n",
       "    <tr>\n",
       "      <th>1</th>\n",
       "      <td>2015M02</td>\n",
       "      <td>Headcount</td>\n",
       "      <td>159140</td>\n",
       "    </tr>\n",
       "    <tr>\n",
       "      <th>2</th>\n",
       "      <td>2015M03</td>\n",
       "      <td>Headcount</td>\n",
       "      <td>72247</td>\n",
       "    </tr>\n",
       "    <tr>\n",
       "      <th>3</th>\n",
       "      <td>2015M04</td>\n",
       "      <td>Headcount</td>\n",
       "      <td>29121</td>\n",
       "    </tr>\n",
       "    <tr>\n",
       "      <th>4</th>\n",
       "      <td>2015M05</td>\n",
       "      <td>Headcount</td>\n",
       "      <td>12348</td>\n",
       "    </tr>\n",
       "  </tbody>\n",
       "</table>\n",
       "</div>"
      ],
      "text/plain": [
       "     Month       UNIT  Diary Bull Female count\n",
       "0  2015M01  Headcount                    62021\n",
       "1  2015M02  Headcount                   159140\n",
       "2  2015M03  Headcount                    72247\n",
       "3  2015M04  Headcount                    29121\n",
       "4  2015M05  Headcount                    12348"
      ]
     },
     "execution_count": 23,
     "metadata": {},
     "output_type": "execute_result"
    }
   ],
   "source": [
    "#check first 5 records\n",
    "calf_birth_dairy_bull_female_monthly.head()"
   ]
  },
  {
   "cell_type": "code",
   "execution_count": 24,
   "id": "4673e018",
   "metadata": {},
   "outputs": [
    {
     "data": {
      "text/html": [
       "<div>\n",
       "<style scoped>\n",
       "    .dataframe tbody tr th:only-of-type {\n",
       "        vertical-align: middle;\n",
       "    }\n",
       "\n",
       "    .dataframe tbody tr th {\n",
       "        vertical-align: top;\n",
       "    }\n",
       "\n",
       "    .dataframe thead th {\n",
       "        text-align: right;\n",
       "    }\n",
       "</style>\n",
       "<table border=\"1\" class=\"dataframe\">\n",
       "  <thead>\n",
       "    <tr style=\"text-align: right;\">\n",
       "      <th></th>\n",
       "      <th>Month</th>\n",
       "      <th>UNIT</th>\n",
       "      <th>Diary Bull Female count</th>\n",
       "    </tr>\n",
       "  </thead>\n",
       "  <tbody>\n",
       "    <tr>\n",
       "      <th>81</th>\n",
       "      <td>2021M10</td>\n",
       "      <td>Headcount</td>\n",
       "      <td>11304</td>\n",
       "    </tr>\n",
       "    <tr>\n",
       "      <th>82</th>\n",
       "      <td>2021M11</td>\n",
       "      <td>Headcount</td>\n",
       "      <td>8169</td>\n",
       "    </tr>\n",
       "    <tr>\n",
       "      <th>83</th>\n",
       "      <td>2021M12</td>\n",
       "      <td>Headcount</td>\n",
       "      <td>6100</td>\n",
       "    </tr>\n",
       "    <tr>\n",
       "      <th>84</th>\n",
       "      <td>2022M01</td>\n",
       "      <td>Headcount</td>\n",
       "      <td>94700</td>\n",
       "    </tr>\n",
       "    <tr>\n",
       "      <th>85</th>\n",
       "      <td>2022M02</td>\n",
       "      <td>Headcount</td>\n",
       "      <td>212620</td>\n",
       "    </tr>\n",
       "  </tbody>\n",
       "</table>\n",
       "</div>"
      ],
      "text/plain": [
       "      Month       UNIT  Diary Bull Female count\n",
       "81  2021M10  Headcount                    11304\n",
       "82  2021M11  Headcount                     8169\n",
       "83  2021M12  Headcount                     6100\n",
       "84  2022M01  Headcount                    94700\n",
       "85  2022M02  Headcount                   212620"
      ]
     },
     "execution_count": 24,
     "metadata": {},
     "output_type": "execute_result"
    }
   ],
   "source": [
    "#check last 5 records\n",
    "calf_birth_dairy_bull_female_monthly.tail()"
   ]
  },
  {
   "cell_type": "code",
   "execution_count": 25,
   "id": "d92b9157",
   "metadata": {},
   "outputs": [
    {
     "data": {
      "text/plain": [
       "(86, 3)"
      ]
     },
     "execution_count": 25,
     "metadata": {},
     "output_type": "execute_result"
    }
   ],
   "source": [
    "#check shape\n",
    "calf_birth_dairy_bull_female_monthly.shape"
   ]
  },
  {
   "cell_type": "code",
   "execution_count": 26,
   "id": "ea2d4c9e",
   "metadata": {},
   "outputs": [
    {
     "name": "stdout",
     "output_type": "stream",
     "text": [
      "<class 'pandas.core.frame.DataFrame'>\n",
      "RangeIndex: 86 entries, 0 to 85\n",
      "Data columns (total 3 columns):\n",
      " #   Column                   Non-Null Count  Dtype \n",
      "---  ------                   --------------  ----- \n",
      " 0   Month                    86 non-null     object\n",
      " 1   UNIT                     86 non-null     object\n",
      " 2   Diary Bull Female count  86 non-null     int64 \n",
      "dtypes: int64(1), object(2)\n",
      "memory usage: 2.1+ KB\n"
     ]
    }
   ],
   "source": [
    "#check data type\n",
    "calf_birth_dairy_bull_female_monthly.info()"
   ]
  },
  {
   "cell_type": "code",
   "execution_count": 27,
   "id": "33f21f06",
   "metadata": {},
   "outputs": [
    {
     "data": {
      "text/plain": [
       "Month                      0\n",
       "UNIT                       0\n",
       "Diary Bull Female count    0\n",
       "dtype: int64"
      ]
     },
     "execution_count": 27,
     "metadata": {},
     "output_type": "execute_result"
    }
   ],
   "source": [
    "#check for missing or null values\n",
    "calf_birth_dairy_bull_female_monthly.isnull().sum()"
   ]
  },
  {
   "cell_type": "markdown",
   "id": "83f7aea5",
   "metadata": {},
   "source": [
    "Insights gained from above analysis for Calf birth dairy female bull data\n",
    "\n",
    "1. Contains records from 2015 to 2022 with total 86 observations and 3 columns\n",
    "2. No null values in the data\n",
    "3. Month value is in object datatype and calf birth headcount is integer datatype\n",
    "4. unit is in headcount or number"
   ]
  },
  {
   "cell_type": "code",
   "execution_count": 28,
   "id": "17c64b44",
   "metadata": {},
   "outputs": [
    {
     "data": {
      "text/html": [
       "<div>\n",
       "<style scoped>\n",
       "    .dataframe tbody tr th:only-of-type {\n",
       "        vertical-align: middle;\n",
       "    }\n",
       "\n",
       "    .dataframe tbody tr th {\n",
       "        vertical-align: top;\n",
       "    }\n",
       "\n",
       "    .dataframe thead th {\n",
       "        text-align: right;\n",
       "    }\n",
       "</style>\n",
       "<table border=\"1\" class=\"dataframe\">\n",
       "  <thead>\n",
       "    <tr style=\"text-align: right;\">\n",
       "      <th></th>\n",
       "      <th>Month</th>\n",
       "      <th>UNIT</th>\n",
       "      <th>Diary Bull Male count</th>\n",
       "    </tr>\n",
       "  </thead>\n",
       "  <tbody>\n",
       "    <tr>\n",
       "      <th>0</th>\n",
       "      <td>2015M01</td>\n",
       "      <td>Headcount</td>\n",
       "      <td>53833</td>\n",
       "    </tr>\n",
       "    <tr>\n",
       "      <th>1</th>\n",
       "      <td>2015M02</td>\n",
       "      <td>Headcount</td>\n",
       "      <td>160713</td>\n",
       "    </tr>\n",
       "    <tr>\n",
       "      <th>2</th>\n",
       "      <td>2015M03</td>\n",
       "      <td>Headcount</td>\n",
       "      <td>77789</td>\n",
       "    </tr>\n",
       "    <tr>\n",
       "      <th>3</th>\n",
       "      <td>2015M04</td>\n",
       "      <td>Headcount</td>\n",
       "      <td>30634</td>\n",
       "    </tr>\n",
       "    <tr>\n",
       "      <th>4</th>\n",
       "      <td>2015M05</td>\n",
       "      <td>Headcount</td>\n",
       "      <td>13193</td>\n",
       "    </tr>\n",
       "  </tbody>\n",
       "</table>\n",
       "</div>"
      ],
      "text/plain": [
       "     Month       UNIT  Diary Bull Male count\n",
       "0  2015M01  Headcount                  53833\n",
       "1  2015M02  Headcount                 160713\n",
       "2  2015M03  Headcount                  77789\n",
       "3  2015M04  Headcount                  30634\n",
       "4  2015M05  Headcount                  13193"
      ]
     },
     "execution_count": 28,
     "metadata": {},
     "output_type": "execute_result"
    }
   ],
   "source": [
    "#check first 5 records\n",
    "calf_birth_dairy_bull_male_monthly.head()"
   ]
  },
  {
   "cell_type": "code",
   "execution_count": 29,
   "id": "71c666af",
   "metadata": {},
   "outputs": [
    {
     "data": {
      "text/html": [
       "<div>\n",
       "<style scoped>\n",
       "    .dataframe tbody tr th:only-of-type {\n",
       "        vertical-align: middle;\n",
       "    }\n",
       "\n",
       "    .dataframe tbody tr th {\n",
       "        vertical-align: top;\n",
       "    }\n",
       "\n",
       "    .dataframe thead th {\n",
       "        text-align: right;\n",
       "    }\n",
       "</style>\n",
       "<table border=\"1\" class=\"dataframe\">\n",
       "  <thead>\n",
       "    <tr style=\"text-align: right;\">\n",
       "      <th></th>\n",
       "      <th>Month</th>\n",
       "      <th>UNIT</th>\n",
       "      <th>Diary Bull Male count</th>\n",
       "    </tr>\n",
       "  </thead>\n",
       "  <tbody>\n",
       "    <tr>\n",
       "      <th>81</th>\n",
       "      <td>2021M10</td>\n",
       "      <td>Headcount</td>\n",
       "      <td>9766</td>\n",
       "    </tr>\n",
       "    <tr>\n",
       "      <th>82</th>\n",
       "      <td>2021M11</td>\n",
       "      <td>Headcount</td>\n",
       "      <td>7422</td>\n",
       "    </tr>\n",
       "    <tr>\n",
       "      <th>83</th>\n",
       "      <td>2021M12</td>\n",
       "      <td>Headcount</td>\n",
       "      <td>5280</td>\n",
       "    </tr>\n",
       "    <tr>\n",
       "      <th>84</th>\n",
       "      <td>2022M01</td>\n",
       "      <td>Headcount</td>\n",
       "      <td>76064</td>\n",
       "    </tr>\n",
       "    <tr>\n",
       "      <th>85</th>\n",
       "      <td>2022M02</td>\n",
       "      <td>Headcount</td>\n",
       "      <td>205844</td>\n",
       "    </tr>\n",
       "  </tbody>\n",
       "</table>\n",
       "</div>"
      ],
      "text/plain": [
       "      Month       UNIT  Diary Bull Male count\n",
       "81  2021M10  Headcount                   9766\n",
       "82  2021M11  Headcount                   7422\n",
       "83  2021M12  Headcount                   5280\n",
       "84  2022M01  Headcount                  76064\n",
       "85  2022M02  Headcount                 205844"
      ]
     },
     "execution_count": 29,
     "metadata": {},
     "output_type": "execute_result"
    }
   ],
   "source": [
    "#check last 5 records\n",
    "calf_birth_dairy_bull_male_monthly.tail()"
   ]
  },
  {
   "cell_type": "code",
   "execution_count": 30,
   "id": "db41670d",
   "metadata": {},
   "outputs": [
    {
     "data": {
      "text/plain": [
       "(86, 3)"
      ]
     },
     "execution_count": 30,
     "metadata": {},
     "output_type": "execute_result"
    }
   ],
   "source": [
    "#check shape\n",
    "calf_birth_dairy_bull_male_monthly.shape"
   ]
  },
  {
   "cell_type": "code",
   "execution_count": 31,
   "id": "facdb858",
   "metadata": {},
   "outputs": [
    {
     "name": "stdout",
     "output_type": "stream",
     "text": [
      "<class 'pandas.core.frame.DataFrame'>\n",
      "RangeIndex: 86 entries, 0 to 85\n",
      "Data columns (total 3 columns):\n",
      " #   Column                 Non-Null Count  Dtype \n",
      "---  ------                 --------------  ----- \n",
      " 0   Month                  86 non-null     object\n",
      " 1   UNIT                   86 non-null     object\n",
      " 2   Diary Bull Male count  86 non-null     int64 \n",
      "dtypes: int64(1), object(2)\n",
      "memory usage: 2.1+ KB\n"
     ]
    }
   ],
   "source": [
    "#check data type\n",
    "calf_birth_dairy_bull_male_monthly.info()"
   ]
  },
  {
   "cell_type": "code",
   "execution_count": 32,
   "id": "49c3e1dd",
   "metadata": {},
   "outputs": [
    {
     "data": {
      "text/plain": [
       "Month                    0\n",
       "UNIT                     0\n",
       "Diary Bull Male count    0\n",
       "dtype: int64"
      ]
     },
     "execution_count": 32,
     "metadata": {},
     "output_type": "execute_result"
    }
   ],
   "source": [
    "#check null values or missing values\n",
    "calf_birth_dairy_bull_male_monthly.isnull().sum()"
   ]
  },
  {
   "cell_type": "markdown",
   "id": "0934187b",
   "metadata": {},
   "source": [
    "Insights gained from above analysis for Calf birth dairy male bull data\n",
    "\n",
    "1. Contains records from 2015 to 2022 with total 86 observations and 3 columns\n",
    "2. No null values in the data\n",
    "3. Month value is in object datatype and calf birth headcount is integer datatype\n",
    "4. unit is in headcount or number"
   ]
  },
  {
   "cell_type": "code",
   "execution_count": 33,
   "id": "c6042d8e",
   "metadata": {},
   "outputs": [
    {
     "data": {
      "text/html": [
       "<div>\n",
       "<style scoped>\n",
       "    .dataframe tbody tr th:only-of-type {\n",
       "        vertical-align: middle;\n",
       "    }\n",
       "\n",
       "    .dataframe tbody tr th {\n",
       "        vertical-align: top;\n",
       "    }\n",
       "\n",
       "    .dataframe thead th {\n",
       "        text-align: right;\n",
       "    }\n",
       "</style>\n",
       "<table border=\"1\" class=\"dataframe\">\n",
       "  <thead>\n",
       "    <tr style=\"text-align: right;\">\n",
       "      <th></th>\n",
       "      <th>Statistic</th>\n",
       "      <th>Month</th>\n",
       "      <th>Type of Feedstuff</th>\n",
       "      <th>UNIT</th>\n",
       "      <th>VALUE</th>\n",
       "    </tr>\n",
       "  </thead>\n",
       "  <tbody>\n",
       "    <tr>\n",
       "      <th>0</th>\n",
       "      <td>Feed Stuff Price</td>\n",
       "      <td>2014M01</td>\n",
       "      <td>Cattle fattening meal (13-15% protein)</td>\n",
       "      <td>Euro per Tonne</td>\n",
       "      <td>296</td>\n",
       "    </tr>\n",
       "    <tr>\n",
       "      <th>1</th>\n",
       "      <td>Feed Stuff Price</td>\n",
       "      <td>2014M02</td>\n",
       "      <td>Cattle fattening meal (13-15% protein)</td>\n",
       "      <td>Euro per Tonne</td>\n",
       "      <td>296</td>\n",
       "    </tr>\n",
       "    <tr>\n",
       "      <th>2</th>\n",
       "      <td>Feed Stuff Price</td>\n",
       "      <td>2014M03</td>\n",
       "      <td>Cattle fattening meal (13-15% protein)</td>\n",
       "      <td>Euro per Tonne</td>\n",
       "      <td>281</td>\n",
       "    </tr>\n",
       "    <tr>\n",
       "      <th>3</th>\n",
       "      <td>Feed Stuff Price</td>\n",
       "      <td>2014M04</td>\n",
       "      <td>Cattle fattening meal (13-15% protein)</td>\n",
       "      <td>Euro per Tonne</td>\n",
       "      <td>277</td>\n",
       "    </tr>\n",
       "    <tr>\n",
       "      <th>4</th>\n",
       "      <td>Feed Stuff Price</td>\n",
       "      <td>2014M05</td>\n",
       "      <td>Cattle fattening meal (13-15% protein)</td>\n",
       "      <td>Euro per Tonne</td>\n",
       "      <td>282</td>\n",
       "    </tr>\n",
       "  </tbody>\n",
       "</table>\n",
       "</div>"
      ],
      "text/plain": [
       "          Statistic    Month                       Type of Feedstuff  \\\n",
       "0  Feed Stuff Price  2014M01  Cattle fattening meal (13-15% protein)   \n",
       "1  Feed Stuff Price  2014M02  Cattle fattening meal (13-15% protein)   \n",
       "2  Feed Stuff Price  2014M03  Cattle fattening meal (13-15% protein)   \n",
       "3  Feed Stuff Price  2014M04  Cattle fattening meal (13-15% protein)   \n",
       "4  Feed Stuff Price  2014M05  Cattle fattening meal (13-15% protein)   \n",
       "\n",
       "             UNIT  VALUE  \n",
       "0  Euro per Tonne    296  \n",
       "1  Euro per Tonne    296  \n",
       "2  Euro per Tonne    281  \n",
       "3  Euro per Tonne    277  \n",
       "4  Euro per Tonne    282  "
      ]
     },
     "execution_count": 33,
     "metadata": {},
     "output_type": "execute_result"
    }
   ],
   "source": [
    "#check for first 5 records\n",
    "cattle_fattening_feed_price_monthly.head()"
   ]
  },
  {
   "cell_type": "code",
   "execution_count": 34,
   "id": "9460c254",
   "metadata": {},
   "outputs": [
    {
     "data": {
      "text/html": [
       "<div>\n",
       "<style scoped>\n",
       "    .dataframe tbody tr th:only-of-type {\n",
       "        vertical-align: middle;\n",
       "    }\n",
       "\n",
       "    .dataframe tbody tr th {\n",
       "        vertical-align: top;\n",
       "    }\n",
       "\n",
       "    .dataframe thead th {\n",
       "        text-align: right;\n",
       "    }\n",
       "</style>\n",
       "<table border=\"1\" class=\"dataframe\">\n",
       "  <thead>\n",
       "    <tr style=\"text-align: right;\">\n",
       "      <th></th>\n",
       "      <th>Statistic</th>\n",
       "      <th>Month</th>\n",
       "      <th>Type of Feedstuff</th>\n",
       "      <th>UNIT</th>\n",
       "      <th>VALUE</th>\n",
       "    </tr>\n",
       "  </thead>\n",
       "  <tbody>\n",
       "    <tr>\n",
       "      <th>93</th>\n",
       "      <td>Feed Stuff Price</td>\n",
       "      <td>2021M10</td>\n",
       "      <td>Cattle fattening meal (13-15% protein)</td>\n",
       "      <td>Euro per Tonne</td>\n",
       "      <td>326</td>\n",
       "    </tr>\n",
       "    <tr>\n",
       "      <th>94</th>\n",
       "      <td>Feed Stuff Price</td>\n",
       "      <td>2021M11</td>\n",
       "      <td>Cattle fattening meal (13-15% protein)</td>\n",
       "      <td>Euro per Tonne</td>\n",
       "      <td>330</td>\n",
       "    </tr>\n",
       "    <tr>\n",
       "      <th>95</th>\n",
       "      <td>Feed Stuff Price</td>\n",
       "      <td>2021M12</td>\n",
       "      <td>Cattle fattening meal (13-15% protein)</td>\n",
       "      <td>Euro per Tonne</td>\n",
       "      <td>339</td>\n",
       "    </tr>\n",
       "    <tr>\n",
       "      <th>96</th>\n",
       "      <td>Feed Stuff Price</td>\n",
       "      <td>2022M01</td>\n",
       "      <td>Cattle fattening meal (13-15% protein)</td>\n",
       "      <td>Euro per Tonne</td>\n",
       "      <td>351</td>\n",
       "    </tr>\n",
       "    <tr>\n",
       "      <th>97</th>\n",
       "      <td>Feed Stuff Price</td>\n",
       "      <td>2022M02</td>\n",
       "      <td>Cattle fattening meal (13-15% protein)</td>\n",
       "      <td>Euro per Tonne</td>\n",
       "      <td>353</td>\n",
       "    </tr>\n",
       "  </tbody>\n",
       "</table>\n",
       "</div>"
      ],
      "text/plain": [
       "           Statistic    Month                       Type of Feedstuff  \\\n",
       "93  Feed Stuff Price  2021M10  Cattle fattening meal (13-15% protein)   \n",
       "94  Feed Stuff Price  2021M11  Cattle fattening meal (13-15% protein)   \n",
       "95  Feed Stuff Price  2021M12  Cattle fattening meal (13-15% protein)   \n",
       "96  Feed Stuff Price  2022M01  Cattle fattening meal (13-15% protein)   \n",
       "97  Feed Stuff Price  2022M02  Cattle fattening meal (13-15% protein)   \n",
       "\n",
       "              UNIT  VALUE  \n",
       "93  Euro per Tonne    326  \n",
       "94  Euro per Tonne    330  \n",
       "95  Euro per Tonne    339  \n",
       "96  Euro per Tonne    351  \n",
       "97  Euro per Tonne    353  "
      ]
     },
     "execution_count": 34,
     "metadata": {},
     "output_type": "execute_result"
    }
   ],
   "source": [
    "#check for last 5 records\n",
    "cattle_fattening_feed_price_monthly.tail()"
   ]
  },
  {
   "cell_type": "code",
   "execution_count": 35,
   "id": "fdc7a773",
   "metadata": {},
   "outputs": [
    {
     "data": {
      "text/plain": [
       "(98, 5)"
      ]
     },
     "execution_count": 35,
     "metadata": {},
     "output_type": "execute_result"
    }
   ],
   "source": [
    "#check for shape\n",
    "cattle_fattening_feed_price_monthly.shape"
   ]
  },
  {
   "cell_type": "code",
   "execution_count": 36,
   "id": "bb384af7",
   "metadata": {},
   "outputs": [
    {
     "name": "stdout",
     "output_type": "stream",
     "text": [
      "<class 'pandas.core.frame.DataFrame'>\n",
      "RangeIndex: 98 entries, 0 to 97\n",
      "Data columns (total 5 columns):\n",
      " #   Column             Non-Null Count  Dtype \n",
      "---  ------             --------------  ----- \n",
      " 0   Statistic          98 non-null     object\n",
      " 1   Month              98 non-null     object\n",
      " 2   Type of Feedstuff  98 non-null     object\n",
      " 3   UNIT               98 non-null     object\n",
      " 4   VALUE              98 non-null     int64 \n",
      "dtypes: int64(1), object(4)\n",
      "memory usage: 4.0+ KB\n"
     ]
    }
   ],
   "source": [
    "#check the data type\n",
    "cattle_fattening_feed_price_monthly.info()"
   ]
  },
  {
   "cell_type": "code",
   "execution_count": 37,
   "id": "da56ec5f",
   "metadata": {},
   "outputs": [
    {
     "data": {
      "text/plain": [
       "Statistic            0\n",
       "Month                0\n",
       "Type of Feedstuff    0\n",
       "UNIT                 0\n",
       "VALUE                0\n",
       "dtype: int64"
      ]
     },
     "execution_count": 37,
     "metadata": {},
     "output_type": "execute_result"
    }
   ],
   "source": [
    "#check for missing values or null values\n",
    "cattle_fattening_feed_price_monthly.isnull().sum()"
   ]
  },
  {
   "cell_type": "markdown",
   "id": "08eb298a",
   "metadata": {},
   "source": [
    "Insights gained from above analysis for Cattle fattening feed data\n",
    "\n",
    "1. Contains records from 2014 to 2022 with total 98 observations and 5 columns\n",
    "2. No null values in the data\n",
    "3. Month value is in object datatype and cattle fattening feed is integer datatype\n",
    "4. unit is in euro per tonne"
   ]
  },
  {
   "cell_type": "code",
   "execution_count": 39,
   "id": "11adb8ff",
   "metadata": {},
   "outputs": [
    {
     "data": {
      "text/html": [
       "<div>\n",
       "<style scoped>\n",
       "    .dataframe tbody tr th:only-of-type {\n",
       "        vertical-align: middle;\n",
       "    }\n",
       "\n",
       "    .dataframe tbody tr th {\n",
       "        vertical-align: top;\n",
       "    }\n",
       "\n",
       "    .dataframe thead th {\n",
       "        text-align: right;\n",
       "    }\n",
       "</style>\n",
       "<table border=\"1\" class=\"dataframe\">\n",
       "  <thead>\n",
       "    <tr style=\"text-align: right;\">\n",
       "      <th></th>\n",
       "      <th>Statistic</th>\n",
       "      <th>Month</th>\n",
       "      <th>Type of Feedstuff</th>\n",
       "      <th>UNIT</th>\n",
       "      <th>VALUE</th>\n",
       "    </tr>\n",
       "  </thead>\n",
       "  <tbody>\n",
       "    <tr>\n",
       "      <th>0</th>\n",
       "      <td>Feed Stuff Price</td>\n",
       "      <td>2014M01</td>\n",
       "      <td>Cattle fattening nuts and cubes (13-15% protein)</td>\n",
       "      <td>Euro per Tonne</td>\n",
       "      <td>294</td>\n",
       "    </tr>\n",
       "    <tr>\n",
       "      <th>1</th>\n",
       "      <td>Feed Stuff Price</td>\n",
       "      <td>2014M02</td>\n",
       "      <td>Cattle fattening nuts and cubes (13-15% protein)</td>\n",
       "      <td>Euro per Tonne</td>\n",
       "      <td>294</td>\n",
       "    </tr>\n",
       "    <tr>\n",
       "      <th>2</th>\n",
       "      <td>Feed Stuff Price</td>\n",
       "      <td>2014M03</td>\n",
       "      <td>Cattle fattening nuts and cubes (13-15% protein)</td>\n",
       "      <td>Euro per Tonne</td>\n",
       "      <td>280</td>\n",
       "    </tr>\n",
       "    <tr>\n",
       "      <th>3</th>\n",
       "      <td>Feed Stuff Price</td>\n",
       "      <td>2014M04</td>\n",
       "      <td>Cattle fattening nuts and cubes (13-15% protein)</td>\n",
       "      <td>Euro per Tonne</td>\n",
       "      <td>283</td>\n",
       "    </tr>\n",
       "    <tr>\n",
       "      <th>4</th>\n",
       "      <td>Feed Stuff Price</td>\n",
       "      <td>2014M05</td>\n",
       "      <td>Cattle fattening nuts and cubes (13-15% protein)</td>\n",
       "      <td>Euro per Tonne</td>\n",
       "      <td>289</td>\n",
       "    </tr>\n",
       "  </tbody>\n",
       "</table>\n",
       "</div>"
      ],
      "text/plain": [
       "          Statistic    Month  \\\n",
       "0  Feed Stuff Price  2014M01   \n",
       "1  Feed Stuff Price  2014M02   \n",
       "2  Feed Stuff Price  2014M03   \n",
       "3  Feed Stuff Price  2014M04   \n",
       "4  Feed Stuff Price  2014M05   \n",
       "\n",
       "                                  Type of Feedstuff            UNIT  VALUE  \n",
       "0  Cattle fattening nuts and cubes (13-15% protein)  Euro per Tonne    294  \n",
       "1  Cattle fattening nuts and cubes (13-15% protein)  Euro per Tonne    294  \n",
       "2  Cattle fattening nuts and cubes (13-15% protein)  Euro per Tonne    280  \n",
       "3  Cattle fattening nuts and cubes (13-15% protein)  Euro per Tonne    283  \n",
       "4  Cattle fattening nuts and cubes (13-15% protein)  Euro per Tonne    289  "
      ]
     },
     "execution_count": 39,
     "metadata": {},
     "output_type": "execute_result"
    }
   ],
   "source": [
    "#check first 5 records\n",
    "cattle_fattening_nuts_cubes_price_monthly.head()"
   ]
  },
  {
   "cell_type": "code",
   "execution_count": 40,
   "id": "c8e691f5",
   "metadata": {},
   "outputs": [
    {
     "data": {
      "text/html": [
       "<div>\n",
       "<style scoped>\n",
       "    .dataframe tbody tr th:only-of-type {\n",
       "        vertical-align: middle;\n",
       "    }\n",
       "\n",
       "    .dataframe tbody tr th {\n",
       "        vertical-align: top;\n",
       "    }\n",
       "\n",
       "    .dataframe thead th {\n",
       "        text-align: right;\n",
       "    }\n",
       "</style>\n",
       "<table border=\"1\" class=\"dataframe\">\n",
       "  <thead>\n",
       "    <tr style=\"text-align: right;\">\n",
       "      <th></th>\n",
       "      <th>Statistic</th>\n",
       "      <th>Month</th>\n",
       "      <th>Type of Feedstuff</th>\n",
       "      <th>UNIT</th>\n",
       "      <th>VALUE</th>\n",
       "    </tr>\n",
       "  </thead>\n",
       "  <tbody>\n",
       "    <tr>\n",
       "      <th>93</th>\n",
       "      <td>Feed Stuff Price</td>\n",
       "      <td>2021M10</td>\n",
       "      <td>Cattle fattening nuts and cubes (13-15% protein)</td>\n",
       "      <td>Euro per Tonne</td>\n",
       "      <td>329</td>\n",
       "    </tr>\n",
       "    <tr>\n",
       "      <th>94</th>\n",
       "      <td>Feed Stuff Price</td>\n",
       "      <td>2021M11</td>\n",
       "      <td>Cattle fattening nuts and cubes (13-15% protein)</td>\n",
       "      <td>Euro per Tonne</td>\n",
       "      <td>333</td>\n",
       "    </tr>\n",
       "    <tr>\n",
       "      <th>95</th>\n",
       "      <td>Feed Stuff Price</td>\n",
       "      <td>2021M12</td>\n",
       "      <td>Cattle fattening nuts and cubes (13-15% protein)</td>\n",
       "      <td>Euro per Tonne</td>\n",
       "      <td>345</td>\n",
       "    </tr>\n",
       "    <tr>\n",
       "      <th>96</th>\n",
       "      <td>Feed Stuff Price</td>\n",
       "      <td>2022M01</td>\n",
       "      <td>Cattle fattening nuts and cubes (13-15% protein)</td>\n",
       "      <td>Euro per Tonne</td>\n",
       "      <td>356</td>\n",
       "    </tr>\n",
       "    <tr>\n",
       "      <th>97</th>\n",
       "      <td>Feed Stuff Price</td>\n",
       "      <td>2022M02</td>\n",
       "      <td>Cattle fattening nuts and cubes (13-15% protein)</td>\n",
       "      <td>Euro per Tonne</td>\n",
       "      <td>363</td>\n",
       "    </tr>\n",
       "  </tbody>\n",
       "</table>\n",
       "</div>"
      ],
      "text/plain": [
       "           Statistic    Month  \\\n",
       "93  Feed Stuff Price  2021M10   \n",
       "94  Feed Stuff Price  2021M11   \n",
       "95  Feed Stuff Price  2021M12   \n",
       "96  Feed Stuff Price  2022M01   \n",
       "97  Feed Stuff Price  2022M02   \n",
       "\n",
       "                                   Type of Feedstuff            UNIT  VALUE  \n",
       "93  Cattle fattening nuts and cubes (13-15% protein)  Euro per Tonne    329  \n",
       "94  Cattle fattening nuts and cubes (13-15% protein)  Euro per Tonne    333  \n",
       "95  Cattle fattening nuts and cubes (13-15% protein)  Euro per Tonne    345  \n",
       "96  Cattle fattening nuts and cubes (13-15% protein)  Euro per Tonne    356  \n",
       "97  Cattle fattening nuts and cubes (13-15% protein)  Euro per Tonne    363  "
      ]
     },
     "execution_count": 40,
     "metadata": {},
     "output_type": "execute_result"
    }
   ],
   "source": [
    "#check last 5 records\n",
    "cattle_fattening_nuts_cubes_price_monthly.tail()"
   ]
  },
  {
   "cell_type": "code",
   "execution_count": 41,
   "id": "96ad6acf",
   "metadata": {},
   "outputs": [
    {
     "data": {
      "text/plain": [
       "(98, 5)"
      ]
     },
     "execution_count": 41,
     "metadata": {},
     "output_type": "execute_result"
    }
   ],
   "source": [
    "#check shape\n",
    "cattle_fattening_nuts_cubes_price_monthly.shape"
   ]
  },
  {
   "cell_type": "code",
   "execution_count": 42,
   "id": "8d985b8a",
   "metadata": {},
   "outputs": [
    {
     "name": "stdout",
     "output_type": "stream",
     "text": [
      "<class 'pandas.core.frame.DataFrame'>\n",
      "RangeIndex: 98 entries, 0 to 97\n",
      "Data columns (total 5 columns):\n",
      " #   Column             Non-Null Count  Dtype \n",
      "---  ------             --------------  ----- \n",
      " 0   Statistic          98 non-null     object\n",
      " 1   Month              98 non-null     object\n",
      " 2   Type of Feedstuff  98 non-null     object\n",
      " 3   UNIT               98 non-null     object\n",
      " 4   VALUE              98 non-null     int64 \n",
      "dtypes: int64(1), object(4)\n",
      "memory usage: 4.0+ KB\n"
     ]
    }
   ],
   "source": [
    "#check data type\n",
    "cattle_fattening_nuts_cubes_price_monthly.info()"
   ]
  },
  {
   "cell_type": "code",
   "execution_count": 43,
   "id": "956a8402",
   "metadata": {},
   "outputs": [
    {
     "data": {
      "text/plain": [
       "Statistic            0\n",
       "Month                0\n",
       "Type of Feedstuff    0\n",
       "UNIT                 0\n",
       "VALUE                0\n",
       "dtype: int64"
      ]
     },
     "execution_count": 43,
     "metadata": {},
     "output_type": "execute_result"
    }
   ],
   "source": [
    "#check for missing values or null\n",
    "cattle_fattening_nuts_cubes_price_monthly.isnull().sum()"
   ]
  },
  {
   "cell_type": "markdown",
   "id": "1fef73c3",
   "metadata": {},
   "source": [
    "Insights gained from above analysis for Cattle fattening nuts cubes prices data\n",
    "\n",
    "1. Contains records from 2014 to 2022 with total 98 observations and 5 columns\n",
    "2. No null values in the data\n",
    "3. Month value is in object datatype and cattle feed price is integer datatype\n",
    "4. unit is in euro per tonne"
   ]
  },
  {
   "cell_type": "code",
   "execution_count": 45,
   "id": "ddc585b9",
   "metadata": {},
   "outputs": [
    {
     "data": {
      "text/html": [
       "<div>\n",
       "<style scoped>\n",
       "    .dataframe tbody tr th:only-of-type {\n",
       "        vertical-align: middle;\n",
       "    }\n",
       "\n",
       "    .dataframe tbody tr th {\n",
       "        vertical-align: top;\n",
       "    }\n",
       "\n",
       "    .dataframe thead th {\n",
       "        text-align: right;\n",
       "    }\n",
       "</style>\n",
       "<table border=\"1\" class=\"dataframe\">\n",
       "  <thead>\n",
       "    <tr style=\"text-align: right;\">\n",
       "      <th></th>\n",
       "      <th>Statistic</th>\n",
       "      <th>Month</th>\n",
       "      <th>Consumer Item</th>\n",
       "      <th>UNIT</th>\n",
       "      <th>VALUE</th>\n",
       "    </tr>\n",
       "  </thead>\n",
       "  <tbody>\n",
       "    <tr>\n",
       "      <th>0</th>\n",
       "      <td>National Average Price</td>\n",
       "      <td>2011M12</td>\n",
       "      <td>Full fat milk per 2 litre</td>\n",
       "      <td>Euro</td>\n",
       "      <td>NaN</td>\n",
       "    </tr>\n",
       "    <tr>\n",
       "      <th>1</th>\n",
       "      <td>National Average Price</td>\n",
       "      <td>2012M01</td>\n",
       "      <td>Full fat milk per 2 litre</td>\n",
       "      <td>Euro</td>\n",
       "      <td>1.778</td>\n",
       "    </tr>\n",
       "    <tr>\n",
       "      <th>2</th>\n",
       "      <td>National Average Price</td>\n",
       "      <td>2012M02</td>\n",
       "      <td>Full fat milk per 2 litre</td>\n",
       "      <td>Euro</td>\n",
       "      <td>1.775</td>\n",
       "    </tr>\n",
       "    <tr>\n",
       "      <th>3</th>\n",
       "      <td>National Average Price</td>\n",
       "      <td>2012M03</td>\n",
       "      <td>Full fat milk per 2 litre</td>\n",
       "      <td>Euro</td>\n",
       "      <td>1.774</td>\n",
       "    </tr>\n",
       "    <tr>\n",
       "      <th>4</th>\n",
       "      <td>National Average Price</td>\n",
       "      <td>2012M04</td>\n",
       "      <td>Full fat milk per 2 litre</td>\n",
       "      <td>Euro</td>\n",
       "      <td>1.771</td>\n",
       "    </tr>\n",
       "  </tbody>\n",
       "</table>\n",
       "</div>"
      ],
      "text/plain": [
       "                Statistic    Month              Consumer Item  UNIT  VALUE\n",
       "0  National Average Price  2011M12  Full fat milk per 2 litre  Euro    NaN\n",
       "1  National Average Price  2012M01  Full fat milk per 2 litre  Euro  1.778\n",
       "2  National Average Price  2012M02  Full fat milk per 2 litre  Euro  1.775\n",
       "3  National Average Price  2012M03  Full fat milk per 2 litre  Euro  1.774\n",
       "4  National Average Price  2012M04  Full fat milk per 2 litre  Euro  1.771"
      ]
     },
     "execution_count": 45,
     "metadata": {},
     "output_type": "execute_result"
    }
   ],
   "source": [
    "#check first 5 records\n",
    "consumer_price_fullfat_milk2L_monthly.head()"
   ]
  },
  {
   "cell_type": "code",
   "execution_count": 46,
   "id": "561d125d",
   "metadata": {},
   "outputs": [
    {
     "data": {
      "text/html": [
       "<div>\n",
       "<style scoped>\n",
       "    .dataframe tbody tr th:only-of-type {\n",
       "        vertical-align: middle;\n",
       "    }\n",
       "\n",
       "    .dataframe tbody tr th {\n",
       "        vertical-align: top;\n",
       "    }\n",
       "\n",
       "    .dataframe thead th {\n",
       "        text-align: right;\n",
       "    }\n",
       "</style>\n",
       "<table border=\"1\" class=\"dataframe\">\n",
       "  <thead>\n",
       "    <tr style=\"text-align: right;\">\n",
       "      <th></th>\n",
       "      <th>Statistic</th>\n",
       "      <th>Month</th>\n",
       "      <th>Consumer Item</th>\n",
       "      <th>UNIT</th>\n",
       "      <th>VALUE</th>\n",
       "    </tr>\n",
       "  </thead>\n",
       "  <tbody>\n",
       "    <tr>\n",
       "      <th>118</th>\n",
       "      <td>National Average Price</td>\n",
       "      <td>2021M10</td>\n",
       "      <td>Full fat milk per 2 litre</td>\n",
       "      <td>Euro</td>\n",
       "      <td>1.693</td>\n",
       "    </tr>\n",
       "    <tr>\n",
       "      <th>119</th>\n",
       "      <td>National Average Price</td>\n",
       "      <td>2021M11</td>\n",
       "      <td>Full fat milk per 2 litre</td>\n",
       "      <td>Euro</td>\n",
       "      <td>1.688</td>\n",
       "    </tr>\n",
       "    <tr>\n",
       "      <th>120</th>\n",
       "      <td>National Average Price</td>\n",
       "      <td>2021M12</td>\n",
       "      <td>Full fat milk per 2 litre</td>\n",
       "      <td>Euro</td>\n",
       "      <td>1.691</td>\n",
       "    </tr>\n",
       "    <tr>\n",
       "      <th>121</th>\n",
       "      <td>National Average Price</td>\n",
       "      <td>2022M01</td>\n",
       "      <td>Full fat milk per 2 litre</td>\n",
       "      <td>Euro</td>\n",
       "      <td>1.732</td>\n",
       "    </tr>\n",
       "    <tr>\n",
       "      <th>122</th>\n",
       "      <td>National Average Price</td>\n",
       "      <td>2022M02</td>\n",
       "      <td>Full fat milk per 2 litre</td>\n",
       "      <td>Euro</td>\n",
       "      <td>1.794</td>\n",
       "    </tr>\n",
       "  </tbody>\n",
       "</table>\n",
       "</div>"
      ],
      "text/plain": [
       "                  Statistic    Month              Consumer Item  UNIT  VALUE\n",
       "118  National Average Price  2021M10  Full fat milk per 2 litre  Euro  1.693\n",
       "119  National Average Price  2021M11  Full fat milk per 2 litre  Euro  1.688\n",
       "120  National Average Price  2021M12  Full fat milk per 2 litre  Euro  1.691\n",
       "121  National Average Price  2022M01  Full fat milk per 2 litre  Euro  1.732\n",
       "122  National Average Price  2022M02  Full fat milk per 2 litre  Euro  1.794"
      ]
     },
     "execution_count": 46,
     "metadata": {},
     "output_type": "execute_result"
    }
   ],
   "source": [
    "#check last 5 records\n",
    "consumer_price_fullfat_milk2L_monthly.tail()"
   ]
  },
  {
   "cell_type": "code",
   "execution_count": 47,
   "id": "0416df84",
   "metadata": {},
   "outputs": [
    {
     "data": {
      "text/plain": [
       "(123, 5)"
      ]
     },
     "execution_count": 47,
     "metadata": {},
     "output_type": "execute_result"
    }
   ],
   "source": [
    "#check shape\n",
    "consumer_price_fullfat_milk2L_monthly.shape"
   ]
  },
  {
   "cell_type": "code",
   "execution_count": 48,
   "id": "a84c92fd",
   "metadata": {},
   "outputs": [
    {
     "name": "stdout",
     "output_type": "stream",
     "text": [
      "<class 'pandas.core.frame.DataFrame'>\n",
      "RangeIndex: 123 entries, 0 to 122\n",
      "Data columns (total 5 columns):\n",
      " #   Column         Non-Null Count  Dtype  \n",
      "---  ------         --------------  -----  \n",
      " 0   Statistic      123 non-null    object \n",
      " 1   Month          123 non-null    object \n",
      " 2   Consumer Item  123 non-null    object \n",
      " 3   UNIT           123 non-null    object \n",
      " 4   VALUE          122 non-null    float64\n",
      "dtypes: float64(1), object(4)\n",
      "memory usage: 4.9+ KB\n"
     ]
    }
   ],
   "source": [
    "#check data type\n",
    "consumer_price_fullfat_milk2L_monthly.info()"
   ]
  },
  {
   "cell_type": "code",
   "execution_count": 49,
   "id": "dc0bf28e",
   "metadata": {},
   "outputs": [
    {
     "data": {
      "text/plain": [
       "Statistic        0\n",
       "Month            0\n",
       "Consumer Item    0\n",
       "UNIT             0\n",
       "VALUE            1\n",
       "dtype: int64"
      ]
     },
     "execution_count": 49,
     "metadata": {},
     "output_type": "execute_result"
    }
   ],
   "source": [
    "#check for nulls or missing values\n",
    "consumer_price_fullfat_milk2L_monthly.isnull().sum()"
   ]
  },
  {
   "cell_type": "markdown",
   "id": "ebf91e76",
   "metadata": {},
   "source": [
    "Insights gained from above analysis for Consumer price fullfat milk data\n",
    "\n",
    "1. Contains records from 2011 to 2022 with total 123 observations and 5 columns\n",
    "2. Contains 1 null value in the value column\n",
    "3. Month value is in object datatype and milk price is float datatype\n",
    "4. unit is in euro per 2 litres and need to convert into 1 litre for like to like comparison"
   ]
  },
  {
   "cell_type": "code",
   "execution_count": 50,
   "id": "884fde7a",
   "metadata": {},
   "outputs": [
    {
     "data": {
      "text/html": [
       "<div>\n",
       "<style scoped>\n",
       "    .dataframe tbody tr th:only-of-type {\n",
       "        vertical-align: middle;\n",
       "    }\n",
       "\n",
       "    .dataframe tbody tr th {\n",
       "        vertical-align: top;\n",
       "    }\n",
       "\n",
       "    .dataframe thead th {\n",
       "        text-align: right;\n",
       "    }\n",
       "</style>\n",
       "<table border=\"1\" class=\"dataframe\">\n",
       "  <thead>\n",
       "    <tr style=\"text-align: right;\">\n",
       "      <th></th>\n",
       "      <th>Statistic</th>\n",
       "      <th>Month</th>\n",
       "      <th>Consumer Item</th>\n",
       "      <th>UNIT</th>\n",
       "      <th>VALUE</th>\n",
       "    </tr>\n",
       "  </thead>\n",
       "  <tbody>\n",
       "    <tr>\n",
       "      <th>0</th>\n",
       "      <td>National Average Price</td>\n",
       "      <td>2011M12</td>\n",
       "      <td>Low fat milk per 1 litre</td>\n",
       "      <td>Euro</td>\n",
       "      <td>NaN</td>\n",
       "    </tr>\n",
       "    <tr>\n",
       "      <th>1</th>\n",
       "      <td>National Average Price</td>\n",
       "      <td>2012M01</td>\n",
       "      <td>Low fat milk per 1 litre</td>\n",
       "      <td>Euro</td>\n",
       "      <td>1.055</td>\n",
       "    </tr>\n",
       "    <tr>\n",
       "      <th>2</th>\n",
       "      <td>National Average Price</td>\n",
       "      <td>2012M02</td>\n",
       "      <td>Low fat milk per 1 litre</td>\n",
       "      <td>Euro</td>\n",
       "      <td>1.050</td>\n",
       "    </tr>\n",
       "    <tr>\n",
       "      <th>3</th>\n",
       "      <td>National Average Price</td>\n",
       "      <td>2012M03</td>\n",
       "      <td>Low fat milk per 1 litre</td>\n",
       "      <td>Euro</td>\n",
       "      <td>1.052</td>\n",
       "    </tr>\n",
       "    <tr>\n",
       "      <th>4</th>\n",
       "      <td>National Average Price</td>\n",
       "      <td>2012M04</td>\n",
       "      <td>Low fat milk per 1 litre</td>\n",
       "      <td>Euro</td>\n",
       "      <td>1.053</td>\n",
       "    </tr>\n",
       "  </tbody>\n",
       "</table>\n",
       "</div>"
      ],
      "text/plain": [
       "                Statistic    Month             Consumer Item  UNIT  VALUE\n",
       "0  National Average Price  2011M12  Low fat milk per 1 litre  Euro    NaN\n",
       "1  National Average Price  2012M01  Low fat milk per 1 litre  Euro  1.055\n",
       "2  National Average Price  2012M02  Low fat milk per 1 litre  Euro  1.050\n",
       "3  National Average Price  2012M03  Low fat milk per 1 litre  Euro  1.052\n",
       "4  National Average Price  2012M04  Low fat milk per 1 litre  Euro  1.053"
      ]
     },
     "execution_count": 50,
     "metadata": {},
     "output_type": "execute_result"
    }
   ],
   "source": [
    "#check first 5 records\n",
    "consumer_price_lowfat_milk1L_monthly.head()"
   ]
  },
  {
   "cell_type": "code",
   "execution_count": 51,
   "id": "d130e051",
   "metadata": {},
   "outputs": [
    {
     "data": {
      "text/html": [
       "<div>\n",
       "<style scoped>\n",
       "    .dataframe tbody tr th:only-of-type {\n",
       "        vertical-align: middle;\n",
       "    }\n",
       "\n",
       "    .dataframe tbody tr th {\n",
       "        vertical-align: top;\n",
       "    }\n",
       "\n",
       "    .dataframe thead th {\n",
       "        text-align: right;\n",
       "    }\n",
       "</style>\n",
       "<table border=\"1\" class=\"dataframe\">\n",
       "  <thead>\n",
       "    <tr style=\"text-align: right;\">\n",
       "      <th></th>\n",
       "      <th>Statistic</th>\n",
       "      <th>Month</th>\n",
       "      <th>Consumer Item</th>\n",
       "      <th>UNIT</th>\n",
       "      <th>VALUE</th>\n",
       "    </tr>\n",
       "  </thead>\n",
       "  <tbody>\n",
       "    <tr>\n",
       "      <th>118</th>\n",
       "      <td>National Average Price</td>\n",
       "      <td>2021M10</td>\n",
       "      <td>Low fat milk per 1 litre</td>\n",
       "      <td>Euro</td>\n",
       "      <td>1.027</td>\n",
       "    </tr>\n",
       "    <tr>\n",
       "      <th>119</th>\n",
       "      <td>National Average Price</td>\n",
       "      <td>2021M11</td>\n",
       "      <td>Low fat milk per 1 litre</td>\n",
       "      <td>Euro</td>\n",
       "      <td>1.026</td>\n",
       "    </tr>\n",
       "    <tr>\n",
       "      <th>120</th>\n",
       "      <td>National Average Price</td>\n",
       "      <td>2021M12</td>\n",
       "      <td>Low fat milk per 1 litre</td>\n",
       "      <td>Euro</td>\n",
       "      <td>1.020</td>\n",
       "    </tr>\n",
       "    <tr>\n",
       "      <th>121</th>\n",
       "      <td>National Average Price</td>\n",
       "      <td>2022M01</td>\n",
       "      <td>Low fat milk per 1 litre</td>\n",
       "      <td>Euro</td>\n",
       "      <td>1.049</td>\n",
       "    </tr>\n",
       "    <tr>\n",
       "      <th>122</th>\n",
       "      <td>National Average Price</td>\n",
       "      <td>2022M02</td>\n",
       "      <td>Low fat milk per 1 litre</td>\n",
       "      <td>Euro</td>\n",
       "      <td>1.077</td>\n",
       "    </tr>\n",
       "  </tbody>\n",
       "</table>\n",
       "</div>"
      ],
      "text/plain": [
       "                  Statistic    Month             Consumer Item  UNIT  VALUE\n",
       "118  National Average Price  2021M10  Low fat milk per 1 litre  Euro  1.027\n",
       "119  National Average Price  2021M11  Low fat milk per 1 litre  Euro  1.026\n",
       "120  National Average Price  2021M12  Low fat milk per 1 litre  Euro  1.020\n",
       "121  National Average Price  2022M01  Low fat milk per 1 litre  Euro  1.049\n",
       "122  National Average Price  2022M02  Low fat milk per 1 litre  Euro  1.077"
      ]
     },
     "execution_count": 51,
     "metadata": {},
     "output_type": "execute_result"
    }
   ],
   "source": [
    "#check last 5 records\n",
    "consumer_price_lowfat_milk1L_monthly.tail()"
   ]
  },
  {
   "cell_type": "code",
   "execution_count": 52,
   "id": "4efe4cd3",
   "metadata": {},
   "outputs": [
    {
     "data": {
      "text/plain": [
       "(123, 5)"
      ]
     },
     "execution_count": 52,
     "metadata": {},
     "output_type": "execute_result"
    }
   ],
   "source": [
    "#check shape\n",
    "consumer_price_lowfat_milk1L_monthly.shape"
   ]
  },
  {
   "cell_type": "code",
   "execution_count": 53,
   "id": "65625cd2",
   "metadata": {},
   "outputs": [
    {
     "name": "stdout",
     "output_type": "stream",
     "text": [
      "<class 'pandas.core.frame.DataFrame'>\n",
      "RangeIndex: 123 entries, 0 to 122\n",
      "Data columns (total 5 columns):\n",
      " #   Column         Non-Null Count  Dtype  \n",
      "---  ------         --------------  -----  \n",
      " 0   Statistic      123 non-null    object \n",
      " 1   Month          123 non-null    object \n",
      " 2   Consumer Item  123 non-null    object \n",
      " 3   UNIT           123 non-null    object \n",
      " 4   VALUE          122 non-null    float64\n",
      "dtypes: float64(1), object(4)\n",
      "memory usage: 4.9+ KB\n"
     ]
    }
   ],
   "source": [
    "#check the data type\n",
    "consumer_price_lowfat_milk1L_monthly.info()"
   ]
  },
  {
   "cell_type": "code",
   "execution_count": 54,
   "id": "c2a44e49",
   "metadata": {},
   "outputs": [
    {
     "data": {
      "text/plain": [
       "Statistic        0\n",
       "Month            0\n",
       "Consumer Item    0\n",
       "UNIT             0\n",
       "VALUE            1\n",
       "dtype: int64"
      ]
     },
     "execution_count": 54,
     "metadata": {},
     "output_type": "execute_result"
    }
   ],
   "source": [
    "#check the null value or missing values\n",
    "consumer_price_lowfat_milk1L_monthly.isnull().sum()"
   ]
  },
  {
   "cell_type": "markdown",
   "id": "fc67775d",
   "metadata": {},
   "source": [
    "Insights gained from above analysis for Consumer price lowfat milk data\n",
    "\n",
    "1. Contains records from 2011 to 2022 with total 123 observations and 5 columns\n",
    "2. Contains 1 null value in the value column\n",
    "3. Month value is in object datatype and milk price is float datatype\n",
    "4. unit is in euro per 1 litre"
   ]
  },
  {
   "cell_type": "code",
   "execution_count": 55,
   "id": "7a653b10",
   "metadata": {},
   "outputs": [
    {
     "data": {
      "text/html": [
       "<div>\n",
       "<style scoped>\n",
       "    .dataframe tbody tr th:only-of-type {\n",
       "        vertical-align: middle;\n",
       "    }\n",
       "\n",
       "    .dataframe tbody tr th {\n",
       "        vertical-align: top;\n",
       "    }\n",
       "\n",
       "    .dataframe thead th {\n",
       "        text-align: right;\n",
       "    }\n",
       "</style>\n",
       "<table border=\"1\" class=\"dataframe\">\n",
       "  <thead>\n",
       "    <tr style=\"text-align: right;\">\n",
       "      <th></th>\n",
       "      <th>Statistic</th>\n",
       "      <th>Month</th>\n",
       "      <th>Domestic or Import Source</th>\n",
       "      <th>UNIT</th>\n",
       "      <th>VALUE</th>\n",
       "    </tr>\n",
       "  </thead>\n",
       "  <tbody>\n",
       "    <tr>\n",
       "      <th>0</th>\n",
       "      <td>Intake of Cows Milk by Creameries and Pasteuri...</td>\n",
       "      <td>1975M01</td>\n",
       "      <td>Domestic</td>\n",
       "      <td>Million Litres</td>\n",
       "      <td>55.8</td>\n",
       "    </tr>\n",
       "    <tr>\n",
       "      <th>1</th>\n",
       "      <td>Intake of Cows Milk by Creameries and Pasteuri...</td>\n",
       "      <td>1975M02</td>\n",
       "      <td>Domestic</td>\n",
       "      <td>Million Litres</td>\n",
       "      <td>84.4</td>\n",
       "    </tr>\n",
       "    <tr>\n",
       "      <th>2</th>\n",
       "      <td>Intake of Cows Milk by Creameries and Pasteuri...</td>\n",
       "      <td>1975M03</td>\n",
       "      <td>Domestic</td>\n",
       "      <td>Million Litres</td>\n",
       "      <td>193.3</td>\n",
       "    </tr>\n",
       "    <tr>\n",
       "      <th>3</th>\n",
       "      <td>Intake of Cows Milk by Creameries and Pasteuri...</td>\n",
       "      <td>1975M04</td>\n",
       "      <td>Domestic</td>\n",
       "      <td>Million Litres</td>\n",
       "      <td>327.5</td>\n",
       "    </tr>\n",
       "    <tr>\n",
       "      <th>4</th>\n",
       "      <td>Intake of Cows Milk by Creameries and Pasteuri...</td>\n",
       "      <td>1975M05</td>\n",
       "      <td>Domestic</td>\n",
       "      <td>Million Litres</td>\n",
       "      <td>493.5</td>\n",
       "    </tr>\n",
       "  </tbody>\n",
       "</table>\n",
       "</div>"
      ],
      "text/plain": [
       "                                           Statistic    Month  \\\n",
       "0  Intake of Cows Milk by Creameries and Pasteuri...  1975M01   \n",
       "1  Intake of Cows Milk by Creameries and Pasteuri...  1975M02   \n",
       "2  Intake of Cows Milk by Creameries and Pasteuri...  1975M03   \n",
       "3  Intake of Cows Milk by Creameries and Pasteuri...  1975M04   \n",
       "4  Intake of Cows Milk by Creameries and Pasteuri...  1975M05   \n",
       "\n",
       "  Domestic or Import Source            UNIT  VALUE  \n",
       "0                  Domestic  Million Litres   55.8  \n",
       "1                  Domestic  Million Litres   84.4  \n",
       "2                  Domestic  Million Litres  193.3  \n",
       "3                  Domestic  Million Litres  327.5  \n",
       "4                  Domestic  Million Litres  493.5  "
      ]
     },
     "execution_count": 55,
     "metadata": {},
     "output_type": "execute_result"
    }
   ],
   "source": [
    "#check first 5 records\n",
    "cow_milk_intake_pasteury_creamery_monthly.head()"
   ]
  },
  {
   "cell_type": "code",
   "execution_count": 56,
   "id": "155a496c",
   "metadata": {},
   "outputs": [
    {
     "data": {
      "text/html": [
       "<div>\n",
       "<style scoped>\n",
       "    .dataframe tbody tr th:only-of-type {\n",
       "        vertical-align: middle;\n",
       "    }\n",
       "\n",
       "    .dataframe tbody tr th {\n",
       "        vertical-align: top;\n",
       "    }\n",
       "\n",
       "    .dataframe thead th {\n",
       "        text-align: right;\n",
       "    }\n",
       "</style>\n",
       "<table border=\"1\" class=\"dataframe\">\n",
       "  <thead>\n",
       "    <tr style=\"text-align: right;\">\n",
       "      <th></th>\n",
       "      <th>Statistic</th>\n",
       "      <th>Month</th>\n",
       "      <th>Domestic or Import Source</th>\n",
       "      <th>UNIT</th>\n",
       "      <th>VALUE</th>\n",
       "    </tr>\n",
       "  </thead>\n",
       "  <tbody>\n",
       "    <tr>\n",
       "      <th>561</th>\n",
       "      <td>Intake of Cows Milk by Creameries and Pasteuri...</td>\n",
       "      <td>2021M10</td>\n",
       "      <td>Domestic</td>\n",
       "      <td>Million Litres</td>\n",
       "      <td>652.8</td>\n",
       "    </tr>\n",
       "    <tr>\n",
       "      <th>562</th>\n",
       "      <td>Intake of Cows Milk by Creameries and Pasteuri...</td>\n",
       "      <td>2021M11</td>\n",
       "      <td>Domestic</td>\n",
       "      <td>Million Litres</td>\n",
       "      <td>460.6</td>\n",
       "    </tr>\n",
       "    <tr>\n",
       "      <th>563</th>\n",
       "      <td>Intake of Cows Milk by Creameries and Pasteuri...</td>\n",
       "      <td>2021M12</td>\n",
       "      <td>Domestic</td>\n",
       "      <td>Million Litres</td>\n",
       "      <td>256.3</td>\n",
       "    </tr>\n",
       "    <tr>\n",
       "      <th>564</th>\n",
       "      <td>Intake of Cows Milk by Creameries and Pasteuri...</td>\n",
       "      <td>2022M01</td>\n",
       "      <td>Domestic</td>\n",
       "      <td>Million Litres</td>\n",
       "      <td>175.7</td>\n",
       "    </tr>\n",
       "    <tr>\n",
       "      <th>565</th>\n",
       "      <td>Intake of Cows Milk by Creameries and Pasteuri...</td>\n",
       "      <td>2022M02</td>\n",
       "      <td>Domestic</td>\n",
       "      <td>Million Litres</td>\n",
       "      <td>355.2</td>\n",
       "    </tr>\n",
       "  </tbody>\n",
       "</table>\n",
       "</div>"
      ],
      "text/plain": [
       "                                             Statistic    Month  \\\n",
       "561  Intake of Cows Milk by Creameries and Pasteuri...  2021M10   \n",
       "562  Intake of Cows Milk by Creameries and Pasteuri...  2021M11   \n",
       "563  Intake of Cows Milk by Creameries and Pasteuri...  2021M12   \n",
       "564  Intake of Cows Milk by Creameries and Pasteuri...  2022M01   \n",
       "565  Intake of Cows Milk by Creameries and Pasteuri...  2022M02   \n",
       "\n",
       "    Domestic or Import Source            UNIT  VALUE  \n",
       "561                  Domestic  Million Litres  652.8  \n",
       "562                  Domestic  Million Litres  460.6  \n",
       "563                  Domestic  Million Litres  256.3  \n",
       "564                  Domestic  Million Litres  175.7  \n",
       "565                  Domestic  Million Litres  355.2  "
      ]
     },
     "execution_count": 56,
     "metadata": {},
     "output_type": "execute_result"
    }
   ],
   "source": [
    "#check last 5 records\n",
    "cow_milk_intake_pasteury_creamery_monthly.tail()"
   ]
  },
  {
   "cell_type": "code",
   "execution_count": 57,
   "id": "5bb6b407",
   "metadata": {},
   "outputs": [
    {
     "data": {
      "text/plain": [
       "(566, 5)"
      ]
     },
     "execution_count": 57,
     "metadata": {},
     "output_type": "execute_result"
    }
   ],
   "source": [
    "#check shape\n",
    "cow_milk_intake_pasteury_creamery_monthly.shape"
   ]
  },
  {
   "cell_type": "code",
   "execution_count": 58,
   "id": "e47cff16",
   "metadata": {},
   "outputs": [
    {
     "name": "stdout",
     "output_type": "stream",
     "text": [
      "<class 'pandas.core.frame.DataFrame'>\n",
      "RangeIndex: 566 entries, 0 to 565\n",
      "Data columns (total 5 columns):\n",
      " #   Column                     Non-Null Count  Dtype  \n",
      "---  ------                     --------------  -----  \n",
      " 0   Statistic                  566 non-null    object \n",
      " 1   Month                      566 non-null    object \n",
      " 2   Domestic or Import Source  566 non-null    object \n",
      " 3   UNIT                       566 non-null    object \n",
      " 4   VALUE                      566 non-null    float64\n",
      "dtypes: float64(1), object(4)\n",
      "memory usage: 22.2+ KB\n"
     ]
    }
   ],
   "source": [
    "#check data type\n",
    "cow_milk_intake_pasteury_creamery_monthly.info()"
   ]
  },
  {
   "cell_type": "code",
   "execution_count": 59,
   "id": "fcac0bc3",
   "metadata": {},
   "outputs": [
    {
     "data": {
      "text/plain": [
       "Statistic                    0\n",
       "Month                        0\n",
       "Domestic or Import Source    0\n",
       "UNIT                         0\n",
       "VALUE                        0\n",
       "dtype: int64"
      ]
     },
     "execution_count": 59,
     "metadata": {},
     "output_type": "execute_result"
    }
   ],
   "source": [
    "#check for null values or missing values\n",
    "cow_milk_intake_pasteury_creamery_monthly.isnull().sum()"
   ]
  },
  {
   "cell_type": "markdown",
   "id": "39efb7aa",
   "metadata": {},
   "source": [
    "Insights gained from above analysis for Cow milk pasteury creamey intake data\n",
    "\n",
    "1. Contains records from 1975 to 2022 with total 566 observations and 5 columns\n",
    "2. no null date in the data\n",
    "3. Month value is in object datatype and intake milk value is float datatype\n",
    "4. unit is in million litres"
   ]
  },
  {
   "cell_type": "code",
   "execution_count": 60,
   "id": "ad770800",
   "metadata": {},
   "outputs": [
    {
     "data": {
      "text/html": [
       "<div>\n",
       "<style scoped>\n",
       "    .dataframe tbody tr th:only-of-type {\n",
       "        vertical-align: middle;\n",
       "    }\n",
       "\n",
       "    .dataframe tbody tr th {\n",
       "        vertical-align: top;\n",
       "    }\n",
       "\n",
       "    .dataframe thead th {\n",
       "        text-align: right;\n",
       "    }\n",
       "</style>\n",
       "<table border=\"1\" class=\"dataframe\">\n",
       "  <thead>\n",
       "    <tr style=\"text-align: right;\">\n",
       "      <th></th>\n",
       "      <th>Statistic</th>\n",
       "      <th>Month</th>\n",
       "      <th>Type of Fertiliser</th>\n",
       "      <th>UNIT</th>\n",
       "      <th>VALUE</th>\n",
       "    </tr>\n",
       "  </thead>\n",
       "  <tbody>\n",
       "    <tr>\n",
       "      <th>0</th>\n",
       "      <td>Fertiliser Price</td>\n",
       "      <td>1980M01</td>\n",
       "      <td>Calcium Ammonium Nitrate (27.5% N)</td>\n",
       "      <td>Euro per Tonne</td>\n",
       "      <td>121</td>\n",
       "    </tr>\n",
       "    <tr>\n",
       "      <th>1</th>\n",
       "      <td>Fertiliser Price</td>\n",
       "      <td>1980M02</td>\n",
       "      <td>Calcium Ammonium Nitrate (27.5% N)</td>\n",
       "      <td>Euro per Tonne</td>\n",
       "      <td>124</td>\n",
       "    </tr>\n",
       "    <tr>\n",
       "      <th>2</th>\n",
       "      <td>Fertiliser Price</td>\n",
       "      <td>1980M03</td>\n",
       "      <td>Calcium Ammonium Nitrate (27.5% N)</td>\n",
       "      <td>Euro per Tonne</td>\n",
       "      <td>127</td>\n",
       "    </tr>\n",
       "    <tr>\n",
       "      <th>3</th>\n",
       "      <td>Fertiliser Price</td>\n",
       "      <td>1980M04</td>\n",
       "      <td>Calcium Ammonium Nitrate (27.5% N)</td>\n",
       "      <td>Euro per Tonne</td>\n",
       "      <td>128</td>\n",
       "    </tr>\n",
       "    <tr>\n",
       "      <th>4</th>\n",
       "      <td>Fertiliser Price</td>\n",
       "      <td>1980M05</td>\n",
       "      <td>Calcium Ammonium Nitrate (27.5% N)</td>\n",
       "      <td>Euro per Tonne</td>\n",
       "      <td>129</td>\n",
       "    </tr>\n",
       "  </tbody>\n",
       "</table>\n",
       "</div>"
      ],
      "text/plain": [
       "          Statistic    Month                  Type of Fertiliser  \\\n",
       "0  Fertiliser Price  1980M01  Calcium Ammonium Nitrate (27.5% N)   \n",
       "1  Fertiliser Price  1980M02  Calcium Ammonium Nitrate (27.5% N)   \n",
       "2  Fertiliser Price  1980M03  Calcium Ammonium Nitrate (27.5% N)   \n",
       "3  Fertiliser Price  1980M04  Calcium Ammonium Nitrate (27.5% N)   \n",
       "4  Fertiliser Price  1980M05  Calcium Ammonium Nitrate (27.5% N)   \n",
       "\n",
       "             UNIT  VALUE  \n",
       "0  Euro per Tonne    121  \n",
       "1  Euro per Tonne    124  \n",
       "2  Euro per Tonne    127  \n",
       "3  Euro per Tonne    128  \n",
       "4  Euro per Tonne    129  "
      ]
     },
     "execution_count": 60,
     "metadata": {},
     "output_type": "execute_result"
    }
   ],
   "source": [
    "#check first 5 records\n",
    "fertilizer_calciumammonium_nitrate_monthly.head()"
   ]
  },
  {
   "cell_type": "code",
   "execution_count": 61,
   "id": "8a48d96e",
   "metadata": {},
   "outputs": [
    {
     "data": {
      "text/html": [
       "<div>\n",
       "<style scoped>\n",
       "    .dataframe tbody tr th:only-of-type {\n",
       "        vertical-align: middle;\n",
       "    }\n",
       "\n",
       "    .dataframe tbody tr th {\n",
       "        vertical-align: top;\n",
       "    }\n",
       "\n",
       "    .dataframe thead th {\n",
       "        text-align: right;\n",
       "    }\n",
       "</style>\n",
       "<table border=\"1\" class=\"dataframe\">\n",
       "  <thead>\n",
       "    <tr style=\"text-align: right;\">\n",
       "      <th></th>\n",
       "      <th>Statistic</th>\n",
       "      <th>Month</th>\n",
       "      <th>Type of Fertiliser</th>\n",
       "      <th>UNIT</th>\n",
       "      <th>VALUE</th>\n",
       "    </tr>\n",
       "  </thead>\n",
       "  <tbody>\n",
       "    <tr>\n",
       "      <th>501</th>\n",
       "      <td>Fertiliser Price</td>\n",
       "      <td>2021M10</td>\n",
       "      <td>Calcium Ammonium Nitrate (27.5% N)</td>\n",
       "      <td>Euro per Tonne</td>\n",
       "      <td>384</td>\n",
       "    </tr>\n",
       "    <tr>\n",
       "      <th>502</th>\n",
       "      <td>Fertiliser Price</td>\n",
       "      <td>2021M11</td>\n",
       "      <td>Calcium Ammonium Nitrate (27.5% N)</td>\n",
       "      <td>Euro per Tonne</td>\n",
       "      <td>395</td>\n",
       "    </tr>\n",
       "    <tr>\n",
       "      <th>503</th>\n",
       "      <td>Fertiliser Price</td>\n",
       "      <td>2021M12</td>\n",
       "      <td>Calcium Ammonium Nitrate (27.5% N)</td>\n",
       "      <td>Euro per Tonne</td>\n",
       "      <td>499</td>\n",
       "    </tr>\n",
       "    <tr>\n",
       "      <th>504</th>\n",
       "      <td>Fertiliser Price</td>\n",
       "      <td>2022M01</td>\n",
       "      <td>Calcium Ammonium Nitrate (27.5% N)</td>\n",
       "      <td>Euro per Tonne</td>\n",
       "      <td>637</td>\n",
       "    </tr>\n",
       "    <tr>\n",
       "      <th>505</th>\n",
       "      <td>Fertiliser Price</td>\n",
       "      <td>2022M02</td>\n",
       "      <td>Calcium Ammonium Nitrate (27.5% N)</td>\n",
       "      <td>Euro per Tonne</td>\n",
       "      <td>697</td>\n",
       "    </tr>\n",
       "  </tbody>\n",
       "</table>\n",
       "</div>"
      ],
      "text/plain": [
       "            Statistic    Month                  Type of Fertiliser  \\\n",
       "501  Fertiliser Price  2021M10  Calcium Ammonium Nitrate (27.5% N)   \n",
       "502  Fertiliser Price  2021M11  Calcium Ammonium Nitrate (27.5% N)   \n",
       "503  Fertiliser Price  2021M12  Calcium Ammonium Nitrate (27.5% N)   \n",
       "504  Fertiliser Price  2022M01  Calcium Ammonium Nitrate (27.5% N)   \n",
       "505  Fertiliser Price  2022M02  Calcium Ammonium Nitrate (27.5% N)   \n",
       "\n",
       "               UNIT  VALUE  \n",
       "501  Euro per Tonne    384  \n",
       "502  Euro per Tonne    395  \n",
       "503  Euro per Tonne    499  \n",
       "504  Euro per Tonne    637  \n",
       "505  Euro per Tonne    697  "
      ]
     },
     "execution_count": 61,
     "metadata": {},
     "output_type": "execute_result"
    }
   ],
   "source": [
    "#check last 5 records\n",
    "fertilizer_calciumammonium_nitrate_monthly.tail()"
   ]
  },
  {
   "cell_type": "code",
   "execution_count": 62,
   "id": "6a64bcbf",
   "metadata": {},
   "outputs": [
    {
     "data": {
      "text/plain": [
       "(506, 5)"
      ]
     },
     "execution_count": 62,
     "metadata": {},
     "output_type": "execute_result"
    }
   ],
   "source": [
    "#check shape\n",
    "fertilizer_calciumammonium_nitrate_monthly.shape"
   ]
  },
  {
   "cell_type": "code",
   "execution_count": 63,
   "id": "01a1ad77",
   "metadata": {},
   "outputs": [
    {
     "name": "stdout",
     "output_type": "stream",
     "text": [
      "<class 'pandas.core.frame.DataFrame'>\n",
      "RangeIndex: 506 entries, 0 to 505\n",
      "Data columns (total 5 columns):\n",
      " #   Column              Non-Null Count  Dtype \n",
      "---  ------              --------------  ----- \n",
      " 0   Statistic           506 non-null    object\n",
      " 1   Month               506 non-null    object\n",
      " 2   Type of Fertiliser  506 non-null    object\n",
      " 3   UNIT                506 non-null    object\n",
      " 4   VALUE               506 non-null    int64 \n",
      "dtypes: int64(1), object(4)\n",
      "memory usage: 19.9+ KB\n"
     ]
    }
   ],
   "source": [
    "#check data type\n",
    "fertilizer_calciumammonium_nitrate_monthly.info()"
   ]
  },
  {
   "cell_type": "code",
   "execution_count": 64,
   "id": "493d3ebf",
   "metadata": {},
   "outputs": [
    {
     "data": {
      "text/plain": [
       "Statistic             0\n",
       "Month                 0\n",
       "Type of Fertiliser    0\n",
       "UNIT                  0\n",
       "VALUE                 0\n",
       "dtype: int64"
      ]
     },
     "execution_count": 64,
     "metadata": {},
     "output_type": "execute_result"
    }
   ],
   "source": [
    "#check for missing values or null values\n",
    "fertilizer_calciumammonium_nitrate_monthly.isnull().sum()"
   ]
  },
  {
   "cell_type": "markdown",
   "id": "6b0e8453",
   "metadata": {},
   "source": [
    "Insights gained from above analysis for fertilizer calciumammonium nitrate data\n",
    "\n",
    "1. Contains records from 1980 to 2022 with total 506 observations and 5 columns\n",
    "2. no null date in the data\n",
    "3. Month value is in object datatype and fertiliser price is integer datatype\n",
    "3. unit is in euro per tonne"
   ]
  },
  {
   "cell_type": "code",
   "execution_count": 70,
   "id": "56d39bb7",
   "metadata": {},
   "outputs": [
    {
     "data": {
      "text/html": [
       "<div>\n",
       "<style scoped>\n",
       "    .dataframe tbody tr th:only-of-type {\n",
       "        vertical-align: middle;\n",
       "    }\n",
       "\n",
       "    .dataframe tbody tr th {\n",
       "        vertical-align: top;\n",
       "    }\n",
       "\n",
       "    .dataframe thead th {\n",
       "        text-align: right;\n",
       "    }\n",
       "</style>\n",
       "<table border=\"1\" class=\"dataframe\">\n",
       "  <thead>\n",
       "    <tr style=\"text-align: right;\">\n",
       "      <th></th>\n",
       "      <th>Statistic</th>\n",
       "      <th>Month</th>\n",
       "      <th>Type of Fertiliser</th>\n",
       "      <th>UNIT</th>\n",
       "      <th>VALUE</th>\n",
       "    </tr>\n",
       "  </thead>\n",
       "  <tbody>\n",
       "    <tr>\n",
       "      <th>0</th>\n",
       "      <td>Fertiliser Price</td>\n",
       "      <td>1980M01</td>\n",
       "      <td>Granular Superphosphate (16% P)</td>\n",
       "      <td>Euro per Tonne</td>\n",
       "      <td>160</td>\n",
       "    </tr>\n",
       "    <tr>\n",
       "      <th>1</th>\n",
       "      <td>Fertiliser Price</td>\n",
       "      <td>1980M02</td>\n",
       "      <td>Granular Superphosphate (16% P)</td>\n",
       "      <td>Euro per Tonne</td>\n",
       "      <td>162</td>\n",
       "    </tr>\n",
       "    <tr>\n",
       "      <th>2</th>\n",
       "      <td>Fertiliser Price</td>\n",
       "      <td>1980M03</td>\n",
       "      <td>Granular Superphosphate (16% P)</td>\n",
       "      <td>Euro per Tonne</td>\n",
       "      <td>168</td>\n",
       "    </tr>\n",
       "    <tr>\n",
       "      <th>3</th>\n",
       "      <td>Fertiliser Price</td>\n",
       "      <td>1980M04</td>\n",
       "      <td>Granular Superphosphate (16% P)</td>\n",
       "      <td>Euro per Tonne</td>\n",
       "      <td>168</td>\n",
       "    </tr>\n",
       "    <tr>\n",
       "      <th>4</th>\n",
       "      <td>Fertiliser Price</td>\n",
       "      <td>1980M05</td>\n",
       "      <td>Granular Superphosphate (16% P)</td>\n",
       "      <td>Euro per Tonne</td>\n",
       "      <td>170</td>\n",
       "    </tr>\n",
       "  </tbody>\n",
       "</table>\n",
       "</div>"
      ],
      "text/plain": [
       "          Statistic    Month               Type of Fertiliser            UNIT  \\\n",
       "0  Fertiliser Price  1980M01  Granular Superphosphate (16% P)  Euro per Tonne   \n",
       "1  Fertiliser Price  1980M02  Granular Superphosphate (16% P)  Euro per Tonne   \n",
       "2  Fertiliser Price  1980M03  Granular Superphosphate (16% P)  Euro per Tonne   \n",
       "3  Fertiliser Price  1980M04  Granular Superphosphate (16% P)  Euro per Tonne   \n",
       "4  Fertiliser Price  1980M05  Granular Superphosphate (16% P)  Euro per Tonne   \n",
       "\n",
       "  VALUE  \n",
       "0   160  \n",
       "1   162  \n",
       "2   168  \n",
       "3   168  \n",
       "4   170  "
      ]
     },
     "execution_count": 70,
     "metadata": {},
     "output_type": "execute_result"
    }
   ],
   "source": [
    "#check first 5 records\n",
    "fertilizer_granularsuperphosphate_monthly.head()"
   ]
  },
  {
   "cell_type": "code",
   "execution_count": 71,
   "id": "2a25b1b0",
   "metadata": {},
   "outputs": [
    {
     "data": {
      "text/html": [
       "<div>\n",
       "<style scoped>\n",
       "    .dataframe tbody tr th:only-of-type {\n",
       "        vertical-align: middle;\n",
       "    }\n",
       "\n",
       "    .dataframe tbody tr th {\n",
       "        vertical-align: top;\n",
       "    }\n",
       "\n",
       "    .dataframe thead th {\n",
       "        text-align: right;\n",
       "    }\n",
       "</style>\n",
       "<table border=\"1\" class=\"dataframe\">\n",
       "  <thead>\n",
       "    <tr style=\"text-align: right;\">\n",
       "      <th></th>\n",
       "      <th>Statistic</th>\n",
       "      <th>Month</th>\n",
       "      <th>Type of Fertiliser</th>\n",
       "      <th>UNIT</th>\n",
       "      <th>VALUE</th>\n",
       "    </tr>\n",
       "  </thead>\n",
       "  <tbody>\n",
       "    <tr>\n",
       "      <th>501</th>\n",
       "      <td>Fertiliser Price</td>\n",
       "      <td>2021M10</td>\n",
       "      <td>Granular Superphosphate (16% P)</td>\n",
       "      <td>Euro per Tonne</td>\n",
       "      <td>.</td>\n",
       "    </tr>\n",
       "    <tr>\n",
       "      <th>502</th>\n",
       "      <td>Fertiliser Price</td>\n",
       "      <td>2021M11</td>\n",
       "      <td>Granular Superphosphate (16% P)</td>\n",
       "      <td>Euro per Tonne</td>\n",
       "      <td>.</td>\n",
       "    </tr>\n",
       "    <tr>\n",
       "      <th>503</th>\n",
       "      <td>Fertiliser Price</td>\n",
       "      <td>2021M12</td>\n",
       "      <td>Granular Superphosphate (16% P)</td>\n",
       "      <td>Euro per Tonne</td>\n",
       "      <td>.</td>\n",
       "    </tr>\n",
       "    <tr>\n",
       "      <th>504</th>\n",
       "      <td>Fertiliser Price</td>\n",
       "      <td>2022M01</td>\n",
       "      <td>Granular Superphosphate (16% P)</td>\n",
       "      <td>Euro per Tonne</td>\n",
       "      <td>.</td>\n",
       "    </tr>\n",
       "    <tr>\n",
       "      <th>505</th>\n",
       "      <td>Fertiliser Price</td>\n",
       "      <td>2022M02</td>\n",
       "      <td>Granular Superphosphate (16% P)</td>\n",
       "      <td>Euro per Tonne</td>\n",
       "      <td>.</td>\n",
       "    </tr>\n",
       "  </tbody>\n",
       "</table>\n",
       "</div>"
      ],
      "text/plain": [
       "            Statistic    Month               Type of Fertiliser  \\\n",
       "501  Fertiliser Price  2021M10  Granular Superphosphate (16% P)   \n",
       "502  Fertiliser Price  2021M11  Granular Superphosphate (16% P)   \n",
       "503  Fertiliser Price  2021M12  Granular Superphosphate (16% P)   \n",
       "504  Fertiliser Price  2022M01  Granular Superphosphate (16% P)   \n",
       "505  Fertiliser Price  2022M02  Granular Superphosphate (16% P)   \n",
       "\n",
       "               UNIT VALUE  \n",
       "501  Euro per Tonne     .  \n",
       "502  Euro per Tonne     .  \n",
       "503  Euro per Tonne     .  \n",
       "504  Euro per Tonne     .  \n",
       "505  Euro per Tonne     .  "
      ]
     },
     "execution_count": 71,
     "metadata": {},
     "output_type": "execute_result"
    }
   ],
   "source": [
    "#check last 5 records\n",
    "fertilizer_granularsuperphosphate_monthly.tail()"
   ]
  },
  {
   "cell_type": "code",
   "execution_count": 72,
   "id": "c339d7d8",
   "metadata": {},
   "outputs": [
    {
     "data": {
      "text/plain": [
       "(506, 5)"
      ]
     },
     "execution_count": 72,
     "metadata": {},
     "output_type": "execute_result"
    }
   ],
   "source": [
    "#check shape\n",
    "fertilizer_granularsuperphosphate_monthly.shape"
   ]
  },
  {
   "cell_type": "code",
   "execution_count": 73,
   "id": "a0c22dc7",
   "metadata": {},
   "outputs": [
    {
     "name": "stdout",
     "output_type": "stream",
     "text": [
      "<class 'pandas.core.frame.DataFrame'>\n",
      "RangeIndex: 506 entries, 0 to 505\n",
      "Data columns (total 5 columns):\n",
      " #   Column              Non-Null Count  Dtype \n",
      "---  ------              --------------  ----- \n",
      " 0   Statistic           506 non-null    object\n",
      " 1   Month               506 non-null    object\n",
      " 2   Type of Fertiliser  506 non-null    object\n",
      " 3   UNIT                506 non-null    object\n",
      " 4   VALUE               429 non-null    object\n",
      "dtypes: object(5)\n",
      "memory usage: 19.9+ KB\n"
     ]
    }
   ],
   "source": [
    "#check data type\n",
    "fertilizer_granularsuperphosphate_monthly.info()"
   ]
  },
  {
   "cell_type": "code",
   "execution_count": 74,
   "id": "18514fa0",
   "metadata": {},
   "outputs": [
    {
     "data": {
      "text/plain": [
       "Statistic              0\n",
       "Month                  0\n",
       "Type of Fertiliser     0\n",
       "UNIT                   0\n",
       "VALUE                 77\n",
       "dtype: int64"
      ]
     },
     "execution_count": 74,
     "metadata": {},
     "output_type": "execute_result"
    }
   ],
   "source": [
    "#check missing values or null values\n",
    "fertilizer_granularsuperphosphate_monthly.isnull().sum()"
   ]
  },
  {
   "cell_type": "markdown",
   "id": "14d11d59",
   "metadata": {},
   "source": [
    "Insights gained from above analysis for fertilizer superphosphate data\n",
    "\n",
    "1. Contains records from 1980 to 2022 with total 506 observations and 5 columns\n",
    "2. Contains 77 null values in the fertiliser price data\n",
    "3. Month value is in object datatype and fertiliser price is object datatype\n",
    "4. unit is in euro per tonne"
   ]
  },
  {
   "cell_type": "code",
   "execution_count": 75,
   "id": "1937f18b",
   "metadata": {},
   "outputs": [
    {
     "data": {
      "text/html": [
       "<div>\n",
       "<style scoped>\n",
       "    .dataframe tbody tr th:only-of-type {\n",
       "        vertical-align: middle;\n",
       "    }\n",
       "\n",
       "    .dataframe tbody tr th {\n",
       "        vertical-align: top;\n",
       "    }\n",
       "\n",
       "    .dataframe thead th {\n",
       "        text-align: right;\n",
       "    }\n",
       "</style>\n",
       "<table border=\"1\" class=\"dataframe\">\n",
       "  <thead>\n",
       "    <tr style=\"text-align: right;\">\n",
       "      <th></th>\n",
       "      <th>Statistic</th>\n",
       "      <th>Month</th>\n",
       "      <th>Type of Fertiliser</th>\n",
       "      <th>UNIT</th>\n",
       "      <th>VALUE</th>\n",
       "    </tr>\n",
       "  </thead>\n",
       "  <tbody>\n",
       "    <tr>\n",
       "      <th>0</th>\n",
       "      <td>Fertiliser Price</td>\n",
       "      <td>1980M01</td>\n",
       "      <td>Muriate of Potash (50% K)</td>\n",
       "      <td>Euro per Tonne</td>\n",
       "      <td>109.0</td>\n",
       "    </tr>\n",
       "    <tr>\n",
       "      <th>1</th>\n",
       "      <td>Fertiliser Price</td>\n",
       "      <td>1980M02</td>\n",
       "      <td>Muriate of Potash (50% K)</td>\n",
       "      <td>Euro per Tonne</td>\n",
       "      <td>109.0</td>\n",
       "    </tr>\n",
       "    <tr>\n",
       "      <th>2</th>\n",
       "      <td>Fertiliser Price</td>\n",
       "      <td>1980M03</td>\n",
       "      <td>Muriate of Potash (50% K)</td>\n",
       "      <td>Euro per Tonne</td>\n",
       "      <td>114.0</td>\n",
       "    </tr>\n",
       "    <tr>\n",
       "      <th>3</th>\n",
       "      <td>Fertiliser Price</td>\n",
       "      <td>1980M04</td>\n",
       "      <td>Muriate of Potash (50% K)</td>\n",
       "      <td>Euro per Tonne</td>\n",
       "      <td>114.0</td>\n",
       "    </tr>\n",
       "    <tr>\n",
       "      <th>4</th>\n",
       "      <td>Fertiliser Price</td>\n",
       "      <td>1980M05</td>\n",
       "      <td>Muriate of Potash (50% K)</td>\n",
       "      <td>Euro per Tonne</td>\n",
       "      <td>114.0</td>\n",
       "    </tr>\n",
       "  </tbody>\n",
       "</table>\n",
       "</div>"
      ],
      "text/plain": [
       "          Statistic    Month         Type of Fertiliser            UNIT  VALUE\n",
       "0  Fertiliser Price  1980M01  Muriate of Potash (50% K)  Euro per Tonne  109.0\n",
       "1  Fertiliser Price  1980M02  Muriate of Potash (50% K)  Euro per Tonne  109.0\n",
       "2  Fertiliser Price  1980M03  Muriate of Potash (50% K)  Euro per Tonne  114.0\n",
       "3  Fertiliser Price  1980M04  Muriate of Potash (50% K)  Euro per Tonne  114.0\n",
       "4  Fertiliser Price  1980M05  Muriate of Potash (50% K)  Euro per Tonne  114.0"
      ]
     },
     "execution_count": 75,
     "metadata": {},
     "output_type": "execute_result"
    }
   ],
   "source": [
    "#check first 5 records\n",
    "fertilizer_potash_muriate_monthly.head()"
   ]
  },
  {
   "cell_type": "code",
   "execution_count": 76,
   "id": "3623afbd",
   "metadata": {},
   "outputs": [
    {
     "data": {
      "text/html": [
       "<div>\n",
       "<style scoped>\n",
       "    .dataframe tbody tr th:only-of-type {\n",
       "        vertical-align: middle;\n",
       "    }\n",
       "\n",
       "    .dataframe tbody tr th {\n",
       "        vertical-align: top;\n",
       "    }\n",
       "\n",
       "    .dataframe thead th {\n",
       "        text-align: right;\n",
       "    }\n",
       "</style>\n",
       "<table border=\"1\" class=\"dataframe\">\n",
       "  <thead>\n",
       "    <tr style=\"text-align: right;\">\n",
       "      <th></th>\n",
       "      <th>Statistic</th>\n",
       "      <th>Month</th>\n",
       "      <th>Type of Fertiliser</th>\n",
       "      <th>UNIT</th>\n",
       "      <th>VALUE</th>\n",
       "    </tr>\n",
       "  </thead>\n",
       "  <tbody>\n",
       "    <tr>\n",
       "      <th>501</th>\n",
       "      <td>Fertiliser Price</td>\n",
       "      <td>2021M10</td>\n",
       "      <td>Muriate of Potash (50% K)</td>\n",
       "      <td>Euro per Tonne</td>\n",
       "      <td>508.0</td>\n",
       "    </tr>\n",
       "    <tr>\n",
       "      <th>502</th>\n",
       "      <td>Fertiliser Price</td>\n",
       "      <td>2021M11</td>\n",
       "      <td>Muriate of Potash (50% K)</td>\n",
       "      <td>Euro per Tonne</td>\n",
       "      <td>509.0</td>\n",
       "    </tr>\n",
       "    <tr>\n",
       "      <th>503</th>\n",
       "      <td>Fertiliser Price</td>\n",
       "      <td>2021M12</td>\n",
       "      <td>Muriate of Potash (50% K)</td>\n",
       "      <td>Euro per Tonne</td>\n",
       "      <td>578.0</td>\n",
       "    </tr>\n",
       "    <tr>\n",
       "      <th>504</th>\n",
       "      <td>Fertiliser Price</td>\n",
       "      <td>2022M01</td>\n",
       "      <td>Muriate of Potash (50% K)</td>\n",
       "      <td>Euro per Tonne</td>\n",
       "      <td>668.0</td>\n",
       "    </tr>\n",
       "    <tr>\n",
       "      <th>505</th>\n",
       "      <td>Fertiliser Price</td>\n",
       "      <td>2022M02</td>\n",
       "      <td>Muriate of Potash (50% K)</td>\n",
       "      <td>Euro per Tonne</td>\n",
       "      <td>738.0</td>\n",
       "    </tr>\n",
       "  </tbody>\n",
       "</table>\n",
       "</div>"
      ],
      "text/plain": [
       "            Statistic    Month         Type of Fertiliser            UNIT  \\\n",
       "501  Fertiliser Price  2021M10  Muriate of Potash (50% K)  Euro per Tonne   \n",
       "502  Fertiliser Price  2021M11  Muriate of Potash (50% K)  Euro per Tonne   \n",
       "503  Fertiliser Price  2021M12  Muriate of Potash (50% K)  Euro per Tonne   \n",
       "504  Fertiliser Price  2022M01  Muriate of Potash (50% K)  Euro per Tonne   \n",
       "505  Fertiliser Price  2022M02  Muriate of Potash (50% K)  Euro per Tonne   \n",
       "\n",
       "     VALUE  \n",
       "501  508.0  \n",
       "502  509.0  \n",
       "503  578.0  \n",
       "504  668.0  \n",
       "505  738.0  "
      ]
     },
     "execution_count": 76,
     "metadata": {},
     "output_type": "execute_result"
    }
   ],
   "source": [
    "#check last 5 records\n",
    "fertilizer_potash_muriate_monthly.tail()"
   ]
  },
  {
   "cell_type": "code",
   "execution_count": 77,
   "id": "52c08f9c",
   "metadata": {},
   "outputs": [
    {
     "data": {
      "text/plain": [
       "(506, 5)"
      ]
     },
     "execution_count": 77,
     "metadata": {},
     "output_type": "execute_result"
    }
   ],
   "source": [
    "#check shape\n",
    "fertilizer_potash_muriate_monthly.shape"
   ]
  },
  {
   "cell_type": "code",
   "execution_count": 78,
   "id": "4f91477a",
   "metadata": {},
   "outputs": [
    {
     "name": "stdout",
     "output_type": "stream",
     "text": [
      "<class 'pandas.core.frame.DataFrame'>\n",
      "RangeIndex: 506 entries, 0 to 505\n",
      "Data columns (total 5 columns):\n",
      " #   Column              Non-Null Count  Dtype  \n",
      "---  ------              --------------  -----  \n",
      " 0   Statistic           506 non-null    object \n",
      " 1   Month               506 non-null    object \n",
      " 2   Type of Fertiliser  506 non-null    object \n",
      " 3   UNIT                506 non-null    object \n",
      " 4   VALUE               465 non-null    float64\n",
      "dtypes: float64(1), object(4)\n",
      "memory usage: 19.9+ KB\n"
     ]
    }
   ],
   "source": [
    "#check data type\n",
    "fertilizer_potash_muriate_monthly.info()"
   ]
  },
  {
   "cell_type": "code",
   "execution_count": 79,
   "id": "517bd4a3",
   "metadata": {},
   "outputs": [
    {
     "data": {
      "text/plain": [
       "Statistic              0\n",
       "Month                  0\n",
       "Type of Fertiliser     0\n",
       "UNIT                   0\n",
       "VALUE                 41\n",
       "dtype: int64"
      ]
     },
     "execution_count": 79,
     "metadata": {},
     "output_type": "execute_result"
    }
   ],
   "source": [
    "#check for missing or null values\n",
    "fertilizer_potash_muriate_monthly.isnull().sum()"
   ]
  },
  {
   "cell_type": "markdown",
   "id": "302b329e",
   "metadata": {},
   "source": [
    "Insights gained from above analysis for fertilizer potash muriate data\n",
    "\n",
    "1. Contains records from 1980 to 2022 with total 506 observations and 5 columns\n",
    "2. contains 41 null values in fertiliser price column\n",
    "3. Month value is in object datatype and fertiliser price is float datatype\n",
    "4. unit is in euro per tonne"
   ]
  },
  {
   "cell_type": "code",
   "execution_count": 80,
   "id": "890646eb",
   "metadata": {},
   "outputs": [
    {
     "data": {
      "text/html": [
       "<div>\n",
       "<style scoped>\n",
       "    .dataframe tbody tr th:only-of-type {\n",
       "        vertical-align: middle;\n",
       "    }\n",
       "\n",
       "    .dataframe tbody tr th {\n",
       "        vertical-align: top;\n",
       "    }\n",
       "\n",
       "    .dataframe thead th {\n",
       "        text-align: right;\n",
       "    }\n",
       "</style>\n",
       "<table border=\"1\" class=\"dataframe\">\n",
       "  <thead>\n",
       "    <tr style=\"text-align: right;\">\n",
       "      <th></th>\n",
       "      <th>Statistic</th>\n",
       "      <th>Month</th>\n",
       "      <th>Type of Fertiliser</th>\n",
       "      <th>UNIT</th>\n",
       "      <th>VALUE</th>\n",
       "    </tr>\n",
       "  </thead>\n",
       "  <tbody>\n",
       "    <tr>\n",
       "      <th>0</th>\n",
       "      <td>Fertiliser Price</td>\n",
       "      <td>1980M01</td>\n",
       "      <td>Urea (46% N)</td>\n",
       "      <td>Euro per Tonne</td>\n",
       "      <td>144</td>\n",
       "    </tr>\n",
       "    <tr>\n",
       "      <th>1</th>\n",
       "      <td>Fertiliser Price</td>\n",
       "      <td>1980M02</td>\n",
       "      <td>Urea (46% N)</td>\n",
       "      <td>Euro per Tonne</td>\n",
       "      <td>147</td>\n",
       "    </tr>\n",
       "    <tr>\n",
       "      <th>2</th>\n",
       "      <td>Fertiliser Price</td>\n",
       "      <td>1980M03</td>\n",
       "      <td>Urea (46% N)</td>\n",
       "      <td>Euro per Tonne</td>\n",
       "      <td>159</td>\n",
       "    </tr>\n",
       "    <tr>\n",
       "      <th>3</th>\n",
       "      <td>Fertiliser Price</td>\n",
       "      <td>1980M04</td>\n",
       "      <td>Urea (46% N)</td>\n",
       "      <td>Euro per Tonne</td>\n",
       "      <td>163</td>\n",
       "    </tr>\n",
       "    <tr>\n",
       "      <th>4</th>\n",
       "      <td>Fertiliser Price</td>\n",
       "      <td>1980M05</td>\n",
       "      <td>Urea (46% N)</td>\n",
       "      <td>Euro per Tonne</td>\n",
       "      <td>164</td>\n",
       "    </tr>\n",
       "  </tbody>\n",
       "</table>\n",
       "</div>"
      ],
      "text/plain": [
       "          Statistic    Month Type of Fertiliser            UNIT  VALUE\n",
       "0  Fertiliser Price  1980M01       Urea (46% N)  Euro per Tonne    144\n",
       "1  Fertiliser Price  1980M02       Urea (46% N)  Euro per Tonne    147\n",
       "2  Fertiliser Price  1980M03       Urea (46% N)  Euro per Tonne    159\n",
       "3  Fertiliser Price  1980M04       Urea (46% N)  Euro per Tonne    163\n",
       "4  Fertiliser Price  1980M05       Urea (46% N)  Euro per Tonne    164"
      ]
     },
     "execution_count": 80,
     "metadata": {},
     "output_type": "execute_result"
    }
   ],
   "source": [
    "#check first 5 records\n",
    "fertilizer_urea_monthly.head()"
   ]
  },
  {
   "cell_type": "code",
   "execution_count": 81,
   "id": "f6cfed35",
   "metadata": {},
   "outputs": [
    {
     "data": {
      "text/html": [
       "<div>\n",
       "<style scoped>\n",
       "    .dataframe tbody tr th:only-of-type {\n",
       "        vertical-align: middle;\n",
       "    }\n",
       "\n",
       "    .dataframe tbody tr th {\n",
       "        vertical-align: top;\n",
       "    }\n",
       "\n",
       "    .dataframe thead th {\n",
       "        text-align: right;\n",
       "    }\n",
       "</style>\n",
       "<table border=\"1\" class=\"dataframe\">\n",
       "  <thead>\n",
       "    <tr style=\"text-align: right;\">\n",
       "      <th></th>\n",
       "      <th>Statistic</th>\n",
       "      <th>Month</th>\n",
       "      <th>Type of Fertiliser</th>\n",
       "      <th>UNIT</th>\n",
       "      <th>VALUE</th>\n",
       "    </tr>\n",
       "  </thead>\n",
       "  <tbody>\n",
       "    <tr>\n",
       "      <th>501</th>\n",
       "      <td>Fertiliser Price</td>\n",
       "      <td>2021M10</td>\n",
       "      <td>Urea (46% N)</td>\n",
       "      <td>Euro per Tonne</td>\n",
       "      <td>532</td>\n",
       "    </tr>\n",
       "    <tr>\n",
       "      <th>502</th>\n",
       "      <td>Fertiliser Price</td>\n",
       "      <td>2021M11</td>\n",
       "      <td>Urea (46% N)</td>\n",
       "      <td>Euro per Tonne</td>\n",
       "      <td>555</td>\n",
       "    </tr>\n",
       "    <tr>\n",
       "      <th>503</th>\n",
       "      <td>Fertiliser Price</td>\n",
       "      <td>2021M12</td>\n",
       "      <td>Urea (46% N)</td>\n",
       "      <td>Euro per Tonne</td>\n",
       "      <td>692</td>\n",
       "    </tr>\n",
       "    <tr>\n",
       "      <th>504</th>\n",
       "      <td>Fertiliser Price</td>\n",
       "      <td>2022M01</td>\n",
       "      <td>Urea (46% N)</td>\n",
       "      <td>Euro per Tonne</td>\n",
       "      <td>860</td>\n",
       "    </tr>\n",
       "    <tr>\n",
       "      <th>505</th>\n",
       "      <td>Fertiliser Price</td>\n",
       "      <td>2022M02</td>\n",
       "      <td>Urea (46% N)</td>\n",
       "      <td>Euro per Tonne</td>\n",
       "      <td>939</td>\n",
       "    </tr>\n",
       "  </tbody>\n",
       "</table>\n",
       "</div>"
      ],
      "text/plain": [
       "            Statistic    Month Type of Fertiliser            UNIT  VALUE\n",
       "501  Fertiliser Price  2021M10       Urea (46% N)  Euro per Tonne    532\n",
       "502  Fertiliser Price  2021M11       Urea (46% N)  Euro per Tonne    555\n",
       "503  Fertiliser Price  2021M12       Urea (46% N)  Euro per Tonne    692\n",
       "504  Fertiliser Price  2022M01       Urea (46% N)  Euro per Tonne    860\n",
       "505  Fertiliser Price  2022M02       Urea (46% N)  Euro per Tonne    939"
      ]
     },
     "execution_count": 81,
     "metadata": {},
     "output_type": "execute_result"
    }
   ],
   "source": [
    "#check last 5 records\n",
    "fertilizer_urea_monthly.tail()"
   ]
  },
  {
   "cell_type": "code",
   "execution_count": 82,
   "id": "28e2a015",
   "metadata": {},
   "outputs": [
    {
     "data": {
      "text/plain": [
       "(506, 5)"
      ]
     },
     "execution_count": 82,
     "metadata": {},
     "output_type": "execute_result"
    }
   ],
   "source": [
    "#check shape\n",
    "fertilizer_urea_monthly.shape"
   ]
  },
  {
   "cell_type": "code",
   "execution_count": 83,
   "id": "649a0c41",
   "metadata": {},
   "outputs": [
    {
     "name": "stdout",
     "output_type": "stream",
     "text": [
      "<class 'pandas.core.frame.DataFrame'>\n",
      "RangeIndex: 506 entries, 0 to 505\n",
      "Data columns (total 5 columns):\n",
      " #   Column              Non-Null Count  Dtype \n",
      "---  ------              --------------  ----- \n",
      " 0   Statistic           506 non-null    object\n",
      " 1   Month               506 non-null    object\n",
      " 2   Type of Fertiliser  506 non-null    object\n",
      " 3   UNIT                506 non-null    object\n",
      " 4   VALUE               506 non-null    int64 \n",
      "dtypes: int64(1), object(4)\n",
      "memory usage: 19.9+ KB\n"
     ]
    }
   ],
   "source": [
    "#check data type\n",
    "fertilizer_urea_monthly.info()"
   ]
  },
  {
   "cell_type": "code",
   "execution_count": 84,
   "id": "7987e545",
   "metadata": {},
   "outputs": [
    {
     "data": {
      "text/plain": [
       "Statistic             0\n",
       "Month                 0\n",
       "Type of Fertiliser    0\n",
       "UNIT                  0\n",
       "VALUE                 0\n",
       "dtype: int64"
      ]
     },
     "execution_count": 84,
     "metadata": {},
     "output_type": "execute_result"
    }
   ],
   "source": [
    "#check for missing or null values\n",
    "fertilizer_urea_monthly.isnull().sum()"
   ]
  },
  {
   "cell_type": "markdown",
   "id": "8c6781b5",
   "metadata": {},
   "source": [
    "Insights gained from above analysis for fertilizer urea data\n",
    "\n",
    "1. Contains records from 1980 to 2022 with total 506 observations and 5 columns\n",
    "2. Contains no null values \n",
    "3. Month value is in object datatype and fertiliser price is integer datatype\n",
    "4. unit is in euro per tonne"
   ]
  },
  {
   "cell_type": "code",
   "execution_count": 85,
   "id": "42ec6549",
   "metadata": {},
   "outputs": [
    {
     "data": {
      "text/html": [
       "<div>\n",
       "<style scoped>\n",
       "    .dataframe tbody tr th:only-of-type {\n",
       "        vertical-align: middle;\n",
       "    }\n",
       "\n",
       "    .dataframe tbody tr th {\n",
       "        vertical-align: top;\n",
       "    }\n",
       "\n",
       "    .dataframe thead th {\n",
       "        text-align: right;\n",
       "    }\n",
       "</style>\n",
       "<table border=\"1\" class=\"dataframe\">\n",
       "  <thead>\n",
       "    <tr style=\"text-align: right;\">\n",
       "      <th></th>\n",
       "      <th>Statistic</th>\n",
       "      <th>Month</th>\n",
       "      <th>Type of Cattle</th>\n",
       "      <th>UNIT</th>\n",
       "      <th>VALUE</th>\n",
       "    </tr>\n",
       "  </thead>\n",
       "  <tbody>\n",
       "    <tr>\n",
       "      <th>0</th>\n",
       "      <td>Cattle Price per Head</td>\n",
       "      <td>1976M01</td>\n",
       "      <td>Heifers 200-249kg</td>\n",
       "      <td>Euro</td>\n",
       "      <td>NaN</td>\n",
       "    </tr>\n",
       "    <tr>\n",
       "      <th>1</th>\n",
       "      <td>Cattle Price per Head</td>\n",
       "      <td>1976M02</td>\n",
       "      <td>Heifers 200-249kg</td>\n",
       "      <td>Euro</td>\n",
       "      <td>NaN</td>\n",
       "    </tr>\n",
       "    <tr>\n",
       "      <th>2</th>\n",
       "      <td>Cattle Price per Head</td>\n",
       "      <td>1976M03</td>\n",
       "      <td>Heifers 200-249kg</td>\n",
       "      <td>Euro</td>\n",
       "      <td>NaN</td>\n",
       "    </tr>\n",
       "    <tr>\n",
       "      <th>3</th>\n",
       "      <td>Cattle Price per Head</td>\n",
       "      <td>1976M04</td>\n",
       "      <td>Heifers 200-249kg</td>\n",
       "      <td>Euro</td>\n",
       "      <td>NaN</td>\n",
       "    </tr>\n",
       "    <tr>\n",
       "      <th>4</th>\n",
       "      <td>Cattle Price per Head</td>\n",
       "      <td>1976M05</td>\n",
       "      <td>Heifers 200-249kg</td>\n",
       "      <td>Euro</td>\n",
       "      <td>NaN</td>\n",
       "    </tr>\n",
       "  </tbody>\n",
       "</table>\n",
       "</div>"
      ],
      "text/plain": [
       "               Statistic    Month     Type of Cattle  UNIT  VALUE\n",
       "0  Cattle Price per Head  1976M01  Heifers 200-249kg  Euro    NaN\n",
       "1  Cattle Price per Head  1976M02  Heifers 200-249kg  Euro    NaN\n",
       "2  Cattle Price per Head  1976M03  Heifers 200-249kg  Euro    NaN\n",
       "3  Cattle Price per Head  1976M04  Heifers 200-249kg  Euro    NaN\n",
       "4  Cattle Price per Head  1976M05  Heifers 200-249kg  Euro    NaN"
      ]
     },
     "execution_count": 85,
     "metadata": {},
     "output_type": "execute_result"
    }
   ],
   "source": [
    "#check first 5 records\n",
    "heifer_200_249kg_price_monthly.head()"
   ]
  },
  {
   "cell_type": "code",
   "execution_count": 86,
   "id": "37c35a50",
   "metadata": {},
   "outputs": [
    {
     "data": {
      "text/html": [
       "<div>\n",
       "<style scoped>\n",
       "    .dataframe tbody tr th:only-of-type {\n",
       "        vertical-align: middle;\n",
       "    }\n",
       "\n",
       "    .dataframe tbody tr th {\n",
       "        vertical-align: top;\n",
       "    }\n",
       "\n",
       "    .dataframe thead th {\n",
       "        text-align: right;\n",
       "    }\n",
       "</style>\n",
       "<table border=\"1\" class=\"dataframe\">\n",
       "  <thead>\n",
       "    <tr style=\"text-align: right;\">\n",
       "      <th></th>\n",
       "      <th>Statistic</th>\n",
       "      <th>Month</th>\n",
       "      <th>Type of Cattle</th>\n",
       "      <th>UNIT</th>\n",
       "      <th>VALUE</th>\n",
       "    </tr>\n",
       "  </thead>\n",
       "  <tbody>\n",
       "    <tr>\n",
       "      <th>549</th>\n",
       "      <td>Cattle Price per Head</td>\n",
       "      <td>2021M10</td>\n",
       "      <td>Heifers 200-249kg</td>\n",
       "      <td>Euro</td>\n",
       "      <td>516.00</td>\n",
       "    </tr>\n",
       "    <tr>\n",
       "      <th>550</th>\n",
       "      <td>Cattle Price per Head</td>\n",
       "      <td>2021M11</td>\n",
       "      <td>Heifers 200-249kg</td>\n",
       "      <td>Euro</td>\n",
       "      <td>419.66</td>\n",
       "    </tr>\n",
       "    <tr>\n",
       "      <th>551</th>\n",
       "      <td>Cattle Price per Head</td>\n",
       "      <td>2021M12</td>\n",
       "      <td>Heifers 200-249kg</td>\n",
       "      <td>Euro</td>\n",
       "      <td>490.37</td>\n",
       "    </tr>\n",
       "    <tr>\n",
       "      <th>552</th>\n",
       "      <td>Cattle Price per Head</td>\n",
       "      <td>2022M01</td>\n",
       "      <td>Heifers 200-249kg</td>\n",
       "      <td>Euro</td>\n",
       "      <td>553.25</td>\n",
       "    </tr>\n",
       "    <tr>\n",
       "      <th>553</th>\n",
       "      <td>Cattle Price per Head</td>\n",
       "      <td>2022M02</td>\n",
       "      <td>Heifers 200-249kg</td>\n",
       "      <td>Euro</td>\n",
       "      <td>587.61</td>\n",
       "    </tr>\n",
       "  </tbody>\n",
       "</table>\n",
       "</div>"
      ],
      "text/plain": [
       "                 Statistic    Month     Type of Cattle  UNIT   VALUE\n",
       "549  Cattle Price per Head  2021M10  Heifers 200-249kg  Euro  516.00\n",
       "550  Cattle Price per Head  2021M11  Heifers 200-249kg  Euro  419.66\n",
       "551  Cattle Price per Head  2021M12  Heifers 200-249kg  Euro  490.37\n",
       "552  Cattle Price per Head  2022M01  Heifers 200-249kg  Euro  553.25\n",
       "553  Cattle Price per Head  2022M02  Heifers 200-249kg  Euro  587.61"
      ]
     },
     "execution_count": 86,
     "metadata": {},
     "output_type": "execute_result"
    }
   ],
   "source": [
    "#check last 5 records\n",
    "heifer_200_249kg_price_monthly.tail()"
   ]
  },
  {
   "cell_type": "code",
   "execution_count": 87,
   "id": "0a4aff78",
   "metadata": {},
   "outputs": [
    {
     "data": {
      "text/plain": [
       "(554, 5)"
      ]
     },
     "execution_count": 87,
     "metadata": {},
     "output_type": "execute_result"
    }
   ],
   "source": [
    "#check shape\n",
    "heifer_200_249kg_price_monthly.shape"
   ]
  },
  {
   "cell_type": "code",
   "execution_count": 88,
   "id": "6e217ef4",
   "metadata": {},
   "outputs": [
    {
     "name": "stdout",
     "output_type": "stream",
     "text": [
      "<class 'pandas.core.frame.DataFrame'>\n",
      "RangeIndex: 554 entries, 0 to 553\n",
      "Data columns (total 5 columns):\n",
      " #   Column          Non-Null Count  Dtype  \n",
      "---  ------          --------------  -----  \n",
      " 0   Statistic       554 non-null    object \n",
      " 1   Month           554 non-null    object \n",
      " 2   Type of Cattle  554 non-null    object \n",
      " 3   UNIT            554 non-null    object \n",
      " 4   VALUE           534 non-null    float64\n",
      "dtypes: float64(1), object(4)\n",
      "memory usage: 21.8+ KB\n"
     ]
    }
   ],
   "source": [
    "#check data type\n",
    "heifer_200_249kg_price_monthly.info()"
   ]
  },
  {
   "cell_type": "code",
   "execution_count": 89,
   "id": "d508a047",
   "metadata": {},
   "outputs": [
    {
     "data": {
      "text/plain": [
       "Statistic          0\n",
       "Month              0\n",
       "Type of Cattle     0\n",
       "UNIT               0\n",
       "VALUE             20\n",
       "dtype: int64"
      ]
     },
     "execution_count": 89,
     "metadata": {},
     "output_type": "execute_result"
    }
   ],
   "source": [
    "#check missing or null values\n",
    "heifer_200_249kg_price_monthly.isnull().sum()"
   ]
  },
  {
   "cell_type": "markdown",
   "id": "d912e67c",
   "metadata": {},
   "source": [
    "Insights gained from above analysis for heifer200-249 data\n",
    "\n",
    "1. Contains records from 1976 to 2022 with total 554 observations and 5 columns\n",
    "2. Contains null values in heifer price column \n",
    "3. Month value is in object datatype and heifer price is float datatype\n",
    "4. unit is in euro per head-count"
   ]
  },
  {
   "cell_type": "code",
   "execution_count": 90,
   "id": "22c34efe",
   "metadata": {},
   "outputs": [
    {
     "data": {
      "text/html": [
       "<div>\n",
       "<style scoped>\n",
       "    .dataframe tbody tr th:only-of-type {\n",
       "        vertical-align: middle;\n",
       "    }\n",
       "\n",
       "    .dataframe tbody tr th {\n",
       "        vertical-align: top;\n",
       "    }\n",
       "\n",
       "    .dataframe thead th {\n",
       "        text-align: right;\n",
       "    }\n",
       "</style>\n",
       "<table border=\"1\" class=\"dataframe\">\n",
       "  <thead>\n",
       "    <tr style=\"text-align: right;\">\n",
       "      <th></th>\n",
       "      <th>Statistic</th>\n",
       "      <th>Month</th>\n",
       "      <th>Type of Cattle</th>\n",
       "      <th>UNIT</th>\n",
       "      <th>VALUE</th>\n",
       "    </tr>\n",
       "  </thead>\n",
       "  <tbody>\n",
       "    <tr>\n",
       "      <th>0</th>\n",
       "      <td>Cattle Price per Head</td>\n",
       "      <td>1976M01</td>\n",
       "      <td>Heifers 250-299kg</td>\n",
       "      <td>Euro</td>\n",
       "      <td>NaN</td>\n",
       "    </tr>\n",
       "    <tr>\n",
       "      <th>1</th>\n",
       "      <td>Cattle Price per Head</td>\n",
       "      <td>1976M02</td>\n",
       "      <td>Heifers 250-299kg</td>\n",
       "      <td>Euro</td>\n",
       "      <td>NaN</td>\n",
       "    </tr>\n",
       "    <tr>\n",
       "      <th>2</th>\n",
       "      <td>Cattle Price per Head</td>\n",
       "      <td>1976M03</td>\n",
       "      <td>Heifers 250-299kg</td>\n",
       "      <td>Euro</td>\n",
       "      <td>NaN</td>\n",
       "    </tr>\n",
       "    <tr>\n",
       "      <th>3</th>\n",
       "      <td>Cattle Price per Head</td>\n",
       "      <td>1976M04</td>\n",
       "      <td>Heifers 250-299kg</td>\n",
       "      <td>Euro</td>\n",
       "      <td>NaN</td>\n",
       "    </tr>\n",
       "    <tr>\n",
       "      <th>4</th>\n",
       "      <td>Cattle Price per Head</td>\n",
       "      <td>1976M05</td>\n",
       "      <td>Heifers 250-299kg</td>\n",
       "      <td>Euro</td>\n",
       "      <td>NaN</td>\n",
       "    </tr>\n",
       "  </tbody>\n",
       "</table>\n",
       "</div>"
      ],
      "text/plain": [
       "               Statistic    Month     Type of Cattle  UNIT  VALUE\n",
       "0  Cattle Price per Head  1976M01  Heifers 250-299kg  Euro    NaN\n",
       "1  Cattle Price per Head  1976M02  Heifers 250-299kg  Euro    NaN\n",
       "2  Cattle Price per Head  1976M03  Heifers 250-299kg  Euro    NaN\n",
       "3  Cattle Price per Head  1976M04  Heifers 250-299kg  Euro    NaN\n",
       "4  Cattle Price per Head  1976M05  Heifers 250-299kg  Euro    NaN"
      ]
     },
     "execution_count": 90,
     "metadata": {},
     "output_type": "execute_result"
    }
   ],
   "source": [
    "#check first 5 records\n",
    "heifer_250_299kg_price_monthly.head()"
   ]
  },
  {
   "cell_type": "code",
   "execution_count": 91,
   "id": "df88a5dd",
   "metadata": {},
   "outputs": [
    {
     "data": {
      "text/html": [
       "<div>\n",
       "<style scoped>\n",
       "    .dataframe tbody tr th:only-of-type {\n",
       "        vertical-align: middle;\n",
       "    }\n",
       "\n",
       "    .dataframe tbody tr th {\n",
       "        vertical-align: top;\n",
       "    }\n",
       "\n",
       "    .dataframe thead th {\n",
       "        text-align: right;\n",
       "    }\n",
       "</style>\n",
       "<table border=\"1\" class=\"dataframe\">\n",
       "  <thead>\n",
       "    <tr style=\"text-align: right;\">\n",
       "      <th></th>\n",
       "      <th>Statistic</th>\n",
       "      <th>Month</th>\n",
       "      <th>Type of Cattle</th>\n",
       "      <th>UNIT</th>\n",
       "      <th>VALUE</th>\n",
       "    </tr>\n",
       "  </thead>\n",
       "  <tbody>\n",
       "    <tr>\n",
       "      <th>549</th>\n",
       "      <td>Cattle Price per Head</td>\n",
       "      <td>2021M10</td>\n",
       "      <td>Heifers 250-299kg</td>\n",
       "      <td>Euro</td>\n",
       "      <td>529.67</td>\n",
       "    </tr>\n",
       "    <tr>\n",
       "      <th>550</th>\n",
       "      <td>Cattle Price per Head</td>\n",
       "      <td>2021M11</td>\n",
       "      <td>Heifers 250-299kg</td>\n",
       "      <td>Euro</td>\n",
       "      <td>547.42</td>\n",
       "    </tr>\n",
       "    <tr>\n",
       "      <th>551</th>\n",
       "      <td>Cattle Price per Head</td>\n",
       "      <td>2021M12</td>\n",
       "      <td>Heifers 250-299kg</td>\n",
       "      <td>Euro</td>\n",
       "      <td>623.57</td>\n",
       "    </tr>\n",
       "    <tr>\n",
       "      <th>552</th>\n",
       "      <td>Cattle Price per Head</td>\n",
       "      <td>2022M01</td>\n",
       "      <td>Heifers 250-299kg</td>\n",
       "      <td>Euro</td>\n",
       "      <td>640.07</td>\n",
       "    </tr>\n",
       "    <tr>\n",
       "      <th>553</th>\n",
       "      <td>Cattle Price per Head</td>\n",
       "      <td>2022M02</td>\n",
       "      <td>Heifers 250-299kg</td>\n",
       "      <td>Euro</td>\n",
       "      <td>668.57</td>\n",
       "    </tr>\n",
       "  </tbody>\n",
       "</table>\n",
       "</div>"
      ],
      "text/plain": [
       "                 Statistic    Month     Type of Cattle  UNIT   VALUE\n",
       "549  Cattle Price per Head  2021M10  Heifers 250-299kg  Euro  529.67\n",
       "550  Cattle Price per Head  2021M11  Heifers 250-299kg  Euro  547.42\n",
       "551  Cattle Price per Head  2021M12  Heifers 250-299kg  Euro  623.57\n",
       "552  Cattle Price per Head  2022M01  Heifers 250-299kg  Euro  640.07\n",
       "553  Cattle Price per Head  2022M02  Heifers 250-299kg  Euro  668.57"
      ]
     },
     "execution_count": 91,
     "metadata": {},
     "output_type": "execute_result"
    }
   ],
   "source": [
    "#check last 5 records\n",
    "heifer_250_299kg_price_monthly.tail()"
   ]
  },
  {
   "cell_type": "code",
   "execution_count": 92,
   "id": "faeca7a8",
   "metadata": {},
   "outputs": [
    {
     "data": {
      "text/plain": [
       "(554, 5)"
      ]
     },
     "execution_count": 92,
     "metadata": {},
     "output_type": "execute_result"
    }
   ],
   "source": [
    "#check shape\n",
    "heifer_250_299kg_price_monthly.shape"
   ]
  },
  {
   "cell_type": "code",
   "execution_count": 93,
   "id": "e4adedb1",
   "metadata": {},
   "outputs": [
    {
     "name": "stdout",
     "output_type": "stream",
     "text": [
      "<class 'pandas.core.frame.DataFrame'>\n",
      "RangeIndex: 554 entries, 0 to 553\n",
      "Data columns (total 5 columns):\n",
      " #   Column          Non-Null Count  Dtype  \n",
      "---  ------          --------------  -----  \n",
      " 0   Statistic       554 non-null    object \n",
      " 1   Month           554 non-null    object \n",
      " 2   Type of Cattle  554 non-null    object \n",
      " 3   UNIT            554 non-null    object \n",
      " 4   VALUE           535 non-null    float64\n",
      "dtypes: float64(1), object(4)\n",
      "memory usage: 21.8+ KB\n"
     ]
    }
   ],
   "source": [
    "#check data type\n",
    "heifer_250_299kg_price_monthly.info()"
   ]
  },
  {
   "cell_type": "code",
   "execution_count": 94,
   "id": "2eb747e1",
   "metadata": {},
   "outputs": [
    {
     "data": {
      "text/plain": [
       "Statistic          0\n",
       "Month              0\n",
       "Type of Cattle     0\n",
       "UNIT               0\n",
       "VALUE             19\n",
       "dtype: int64"
      ]
     },
     "execution_count": 94,
     "metadata": {},
     "output_type": "execute_result"
    }
   ],
   "source": [
    "#check for null values or missing values\n",
    "heifer_250_299kg_price_monthly.isnull().sum()"
   ]
  },
  {
   "cell_type": "markdown",
   "id": "fb29c110",
   "metadata": {},
   "source": [
    "Insights gained from above analysis for heifer250-299 data\n",
    "\n",
    "1. Contains records from 1976 to 2022 with total 554 observations and 5 columns\n",
    "2. Contains null values in heifer price column\n",
    "3. Month value is in object datatype and heifer price is float datatype\n",
    "4. unit is in euro per head-count"
   ]
  },
  {
   "cell_type": "code",
   "execution_count": 95,
   "id": "8ef0368b",
   "metadata": {},
   "outputs": [
    {
     "data": {
      "text/html": [
       "<div>\n",
       "<style scoped>\n",
       "    .dataframe tbody tr th:only-of-type {\n",
       "        vertical-align: middle;\n",
       "    }\n",
       "\n",
       "    .dataframe tbody tr th {\n",
       "        vertical-align: top;\n",
       "    }\n",
       "\n",
       "    .dataframe thead th {\n",
       "        text-align: right;\n",
       "    }\n",
       "</style>\n",
       "<table border=\"1\" class=\"dataframe\">\n",
       "  <thead>\n",
       "    <tr style=\"text-align: right;\">\n",
       "      <th></th>\n",
       "      <th>Statistic</th>\n",
       "      <th>Month</th>\n",
       "      <th>Type of Cattle</th>\n",
       "      <th>UNIT</th>\n",
       "      <th>VALUE</th>\n",
       "    </tr>\n",
       "  </thead>\n",
       "  <tbody>\n",
       "    <tr>\n",
       "      <th>0</th>\n",
       "      <td>Cattle Price per Head</td>\n",
       "      <td>1976M01</td>\n",
       "      <td>Heifers 300-349kg</td>\n",
       "      <td>Euro</td>\n",
       "      <td>220.20</td>\n",
       "    </tr>\n",
       "    <tr>\n",
       "      <th>1</th>\n",
       "      <td>Cattle Price per Head</td>\n",
       "      <td>1976M02</td>\n",
       "      <td>Heifers 300-349kg</td>\n",
       "      <td>Euro</td>\n",
       "      <td>215.39</td>\n",
       "    </tr>\n",
       "    <tr>\n",
       "      <th>2</th>\n",
       "      <td>Cattle Price per Head</td>\n",
       "      <td>1976M03</td>\n",
       "      <td>Heifers 300-349kg</td>\n",
       "      <td>Euro</td>\n",
       "      <td>236.20</td>\n",
       "    </tr>\n",
       "    <tr>\n",
       "      <th>3</th>\n",
       "      <td>Cattle Price per Head</td>\n",
       "      <td>1976M04</td>\n",
       "      <td>Heifers 300-349kg</td>\n",
       "      <td>Euro</td>\n",
       "      <td>239.51</td>\n",
       "    </tr>\n",
       "    <tr>\n",
       "      <th>4</th>\n",
       "      <td>Cattle Price per Head</td>\n",
       "      <td>1976M05</td>\n",
       "      <td>Heifers 300-349kg</td>\n",
       "      <td>Euro</td>\n",
       "      <td>260.88</td>\n",
       "    </tr>\n",
       "  </tbody>\n",
       "</table>\n",
       "</div>"
      ],
      "text/plain": [
       "               Statistic    Month     Type of Cattle  UNIT   VALUE\n",
       "0  Cattle Price per Head  1976M01  Heifers 300-349kg  Euro  220.20\n",
       "1  Cattle Price per Head  1976M02  Heifers 300-349kg  Euro  215.39\n",
       "2  Cattle Price per Head  1976M03  Heifers 300-349kg  Euro  236.20\n",
       "3  Cattle Price per Head  1976M04  Heifers 300-349kg  Euro  239.51\n",
       "4  Cattle Price per Head  1976M05  Heifers 300-349kg  Euro  260.88"
      ]
     },
     "execution_count": 95,
     "metadata": {},
     "output_type": "execute_result"
    }
   ],
   "source": [
    "#check for first 5 records\n",
    "heifer_300_349kg_price_monthly.head()"
   ]
  },
  {
   "cell_type": "code",
   "execution_count": 96,
   "id": "225e1503",
   "metadata": {},
   "outputs": [
    {
     "data": {
      "text/html": [
       "<div>\n",
       "<style scoped>\n",
       "    .dataframe tbody tr th:only-of-type {\n",
       "        vertical-align: middle;\n",
       "    }\n",
       "\n",
       "    .dataframe tbody tr th {\n",
       "        vertical-align: top;\n",
       "    }\n",
       "\n",
       "    .dataframe thead th {\n",
       "        text-align: right;\n",
       "    }\n",
       "</style>\n",
       "<table border=\"1\" class=\"dataframe\">\n",
       "  <thead>\n",
       "    <tr style=\"text-align: right;\">\n",
       "      <th></th>\n",
       "      <th>Statistic</th>\n",
       "      <th>Month</th>\n",
       "      <th>Type of Cattle</th>\n",
       "      <th>UNIT</th>\n",
       "      <th>VALUE</th>\n",
       "    </tr>\n",
       "  </thead>\n",
       "  <tbody>\n",
       "    <tr>\n",
       "      <th>549</th>\n",
       "      <td>Cattle Price per Head</td>\n",
       "      <td>2021M10</td>\n",
       "      <td>Heifers 300-349kg</td>\n",
       "      <td>Euro</td>\n",
       "      <td>656.53</td>\n",
       "    </tr>\n",
       "    <tr>\n",
       "      <th>550</th>\n",
       "      <td>Cattle Price per Head</td>\n",
       "      <td>2021M11</td>\n",
       "      <td>Heifers 300-349kg</td>\n",
       "      <td>Euro</td>\n",
       "      <td>641.39</td>\n",
       "    </tr>\n",
       "    <tr>\n",
       "      <th>551</th>\n",
       "      <td>Cattle Price per Head</td>\n",
       "      <td>2021M12</td>\n",
       "      <td>Heifers 300-349kg</td>\n",
       "      <td>Euro</td>\n",
       "      <td>693.47</td>\n",
       "    </tr>\n",
       "    <tr>\n",
       "      <th>552</th>\n",
       "      <td>Cattle Price per Head</td>\n",
       "      <td>2022M01</td>\n",
       "      <td>Heifers 300-349kg</td>\n",
       "      <td>Euro</td>\n",
       "      <td>765.68</td>\n",
       "    </tr>\n",
       "    <tr>\n",
       "      <th>553</th>\n",
       "      <td>Cattle Price per Head</td>\n",
       "      <td>2022M02</td>\n",
       "      <td>Heifers 300-349kg</td>\n",
       "      <td>Euro</td>\n",
       "      <td>776.96</td>\n",
       "    </tr>\n",
       "  </tbody>\n",
       "</table>\n",
       "</div>"
      ],
      "text/plain": [
       "                 Statistic    Month     Type of Cattle  UNIT   VALUE\n",
       "549  Cattle Price per Head  2021M10  Heifers 300-349kg  Euro  656.53\n",
       "550  Cattle Price per Head  2021M11  Heifers 300-349kg  Euro  641.39\n",
       "551  Cattle Price per Head  2021M12  Heifers 300-349kg  Euro  693.47\n",
       "552  Cattle Price per Head  2022M01  Heifers 300-349kg  Euro  765.68\n",
       "553  Cattle Price per Head  2022M02  Heifers 300-349kg  Euro  776.96"
      ]
     },
     "execution_count": 96,
     "metadata": {},
     "output_type": "execute_result"
    }
   ],
   "source": [
    "#check for last 5 records\n",
    "heifer_300_349kg_price_monthly.tail()"
   ]
  },
  {
   "cell_type": "code",
   "execution_count": 97,
   "id": "ac5883bf",
   "metadata": {},
   "outputs": [
    {
     "data": {
      "text/plain": [
       "(554, 5)"
      ]
     },
     "execution_count": 97,
     "metadata": {},
     "output_type": "execute_result"
    }
   ],
   "source": [
    "#check shape\n",
    "heifer_300_349kg_price_monthly.shape"
   ]
  },
  {
   "cell_type": "code",
   "execution_count": 98,
   "id": "e900d5d3",
   "metadata": {},
   "outputs": [
    {
     "name": "stdout",
     "output_type": "stream",
     "text": [
      "<class 'pandas.core.frame.DataFrame'>\n",
      "RangeIndex: 554 entries, 0 to 553\n",
      "Data columns (total 5 columns):\n",
      " #   Column          Non-Null Count  Dtype  \n",
      "---  ------          --------------  -----  \n",
      " 0   Statistic       554 non-null    object \n",
      " 1   Month           554 non-null    object \n",
      " 2   Type of Cattle  554 non-null    object \n",
      " 3   UNIT            554 non-null    object \n",
      " 4   VALUE           550 non-null    float64\n",
      "dtypes: float64(1), object(4)\n",
      "memory usage: 21.8+ KB\n"
     ]
    }
   ],
   "source": [
    "#check data type\n",
    "heifer_300_349kg_price_monthly.info()"
   ]
  },
  {
   "cell_type": "code",
   "execution_count": 99,
   "id": "be7e568d",
   "metadata": {},
   "outputs": [
    {
     "data": {
      "text/plain": [
       "Statistic         0\n",
       "Month             0\n",
       "Type of Cattle    0\n",
       "UNIT              0\n",
       "VALUE             4\n",
       "dtype: int64"
      ]
     },
     "execution_count": 99,
     "metadata": {},
     "output_type": "execute_result"
    }
   ],
   "source": [
    "#check for null values or missing values\n",
    "heifer_300_349kg_price_monthly.isnull().sum()"
   ]
  },
  {
   "cell_type": "markdown",
   "id": "25fdddd3",
   "metadata": {},
   "source": [
    "Insights gained from above analysis for heifer300-349 data\n",
    "\n",
    "1. Contains records from 1976 to 2022 with total 554 observations and 5 columns\n",
    "2. Contains null values in heifer price column\n",
    "3. Month value is in object datatype and heifer price is float datatype\n",
    "4. unit is in euro per head-count"
   ]
  },
  {
   "cell_type": "code",
   "execution_count": 100,
   "id": "02ab883f",
   "metadata": {},
   "outputs": [
    {
     "data": {
      "text/html": [
       "<div>\n",
       "<style scoped>\n",
       "    .dataframe tbody tr th:only-of-type {\n",
       "        vertical-align: middle;\n",
       "    }\n",
       "\n",
       "    .dataframe tbody tr th {\n",
       "        vertical-align: top;\n",
       "    }\n",
       "\n",
       "    .dataframe thead th {\n",
       "        text-align: right;\n",
       "    }\n",
       "</style>\n",
       "<table border=\"1\" class=\"dataframe\">\n",
       "  <thead>\n",
       "    <tr style=\"text-align: right;\">\n",
       "      <th></th>\n",
       "      <th>Statistic</th>\n",
       "      <th>Month</th>\n",
       "      <th>Type of Cattle</th>\n",
       "      <th>UNIT</th>\n",
       "      <th>VALUE</th>\n",
       "    </tr>\n",
       "  </thead>\n",
       "  <tbody>\n",
       "    <tr>\n",
       "      <th>0</th>\n",
       "      <td>Cattle Price per Head</td>\n",
       "      <td>1976M01</td>\n",
       "      <td>Heifers 350-399kg</td>\n",
       "      <td>Euro</td>\n",
       "      <td>252.07</td>\n",
       "    </tr>\n",
       "    <tr>\n",
       "      <th>1</th>\n",
       "      <td>Cattle Price per Head</td>\n",
       "      <td>1976M02</td>\n",
       "      <td>Heifers 350-399kg</td>\n",
       "      <td>Euro</td>\n",
       "      <td>276.93</td>\n",
       "    </tr>\n",
       "    <tr>\n",
       "      <th>2</th>\n",
       "      <td>Cattle Price per Head</td>\n",
       "      <td>1976M03</td>\n",
       "      <td>Heifers 350-399kg</td>\n",
       "      <td>Euro</td>\n",
       "      <td>277.09</td>\n",
       "    </tr>\n",
       "    <tr>\n",
       "      <th>3</th>\n",
       "      <td>Cattle Price per Head</td>\n",
       "      <td>1976M04</td>\n",
       "      <td>Heifers 350-399kg</td>\n",
       "      <td>Euro</td>\n",
       "      <td>297.18</td>\n",
       "    </tr>\n",
       "    <tr>\n",
       "      <th>4</th>\n",
       "      <td>Cattle Price per Head</td>\n",
       "      <td>1976M05</td>\n",
       "      <td>Heifers 350-399kg</td>\n",
       "      <td>Euro</td>\n",
       "      <td>314.56</td>\n",
       "    </tr>\n",
       "  </tbody>\n",
       "</table>\n",
       "</div>"
      ],
      "text/plain": [
       "               Statistic    Month     Type of Cattle  UNIT   VALUE\n",
       "0  Cattle Price per Head  1976M01  Heifers 350-399kg  Euro  252.07\n",
       "1  Cattle Price per Head  1976M02  Heifers 350-399kg  Euro  276.93\n",
       "2  Cattle Price per Head  1976M03  Heifers 350-399kg  Euro  277.09\n",
       "3  Cattle Price per Head  1976M04  Heifers 350-399kg  Euro  297.18\n",
       "4  Cattle Price per Head  1976M05  Heifers 350-399kg  Euro  314.56"
      ]
     },
     "execution_count": 100,
     "metadata": {},
     "output_type": "execute_result"
    }
   ],
   "source": [
    "#check for first 5 records\n",
    "heifer_350_399kg_price_monthly.head()"
   ]
  },
  {
   "cell_type": "code",
   "execution_count": 101,
   "id": "c514cc91",
   "metadata": {},
   "outputs": [
    {
     "data": {
      "text/html": [
       "<div>\n",
       "<style scoped>\n",
       "    .dataframe tbody tr th:only-of-type {\n",
       "        vertical-align: middle;\n",
       "    }\n",
       "\n",
       "    .dataframe tbody tr th {\n",
       "        vertical-align: top;\n",
       "    }\n",
       "\n",
       "    .dataframe thead th {\n",
       "        text-align: right;\n",
       "    }\n",
       "</style>\n",
       "<table border=\"1\" class=\"dataframe\">\n",
       "  <thead>\n",
       "    <tr style=\"text-align: right;\">\n",
       "      <th></th>\n",
       "      <th>Statistic</th>\n",
       "      <th>Month</th>\n",
       "      <th>Type of Cattle</th>\n",
       "      <th>UNIT</th>\n",
       "      <th>VALUE</th>\n",
       "    </tr>\n",
       "  </thead>\n",
       "  <tbody>\n",
       "    <tr>\n",
       "      <th>549</th>\n",
       "      <td>Cattle Price per Head</td>\n",
       "      <td>2021M10</td>\n",
       "      <td>Heifers 350-399kg</td>\n",
       "      <td>Euro</td>\n",
       "      <td>777.37</td>\n",
       "    </tr>\n",
       "    <tr>\n",
       "      <th>550</th>\n",
       "      <td>Cattle Price per Head</td>\n",
       "      <td>2021M11</td>\n",
       "      <td>Heifers 350-399kg</td>\n",
       "      <td>Euro</td>\n",
       "      <td>762.83</td>\n",
       "    </tr>\n",
       "    <tr>\n",
       "      <th>551</th>\n",
       "      <td>Cattle Price per Head</td>\n",
       "      <td>2021M12</td>\n",
       "      <td>Heifers 350-399kg</td>\n",
       "      <td>Euro</td>\n",
       "      <td>806.00</td>\n",
       "    </tr>\n",
       "    <tr>\n",
       "      <th>552</th>\n",
       "      <td>Cattle Price per Head</td>\n",
       "      <td>2022M01</td>\n",
       "      <td>Heifers 350-399kg</td>\n",
       "      <td>Euro</td>\n",
       "      <td>857.22</td>\n",
       "    </tr>\n",
       "    <tr>\n",
       "      <th>553</th>\n",
       "      <td>Cattle Price per Head</td>\n",
       "      <td>2022M02</td>\n",
       "      <td>Heifers 350-399kg</td>\n",
       "      <td>Euro</td>\n",
       "      <td>910.01</td>\n",
       "    </tr>\n",
       "  </tbody>\n",
       "</table>\n",
       "</div>"
      ],
      "text/plain": [
       "                 Statistic    Month     Type of Cattle  UNIT   VALUE\n",
       "549  Cattle Price per Head  2021M10  Heifers 350-399kg  Euro  777.37\n",
       "550  Cattle Price per Head  2021M11  Heifers 350-399kg  Euro  762.83\n",
       "551  Cattle Price per Head  2021M12  Heifers 350-399kg  Euro  806.00\n",
       "552  Cattle Price per Head  2022M01  Heifers 350-399kg  Euro  857.22\n",
       "553  Cattle Price per Head  2022M02  Heifers 350-399kg  Euro  910.01"
      ]
     },
     "execution_count": 101,
     "metadata": {},
     "output_type": "execute_result"
    }
   ],
   "source": [
    "#check for last 5 records\n",
    "heifer_350_399kg_price_monthly.tail()"
   ]
  },
  {
   "cell_type": "code",
   "execution_count": 102,
   "id": "ed506726",
   "metadata": {},
   "outputs": [
    {
     "data": {
      "text/plain": [
       "(554, 5)"
      ]
     },
     "execution_count": 102,
     "metadata": {},
     "output_type": "execute_result"
    }
   ],
   "source": [
    "#check shape\n",
    "heifer_350_399kg_price_monthly.shape"
   ]
  },
  {
   "cell_type": "code",
   "execution_count": 103,
   "id": "e1003561",
   "metadata": {},
   "outputs": [
    {
     "name": "stdout",
     "output_type": "stream",
     "text": [
      "<class 'pandas.core.frame.DataFrame'>\n",
      "RangeIndex: 554 entries, 0 to 553\n",
      "Data columns (total 5 columns):\n",
      " #   Column          Non-Null Count  Dtype  \n",
      "---  ------          --------------  -----  \n",
      " 0   Statistic       554 non-null    object \n",
      " 1   Month           554 non-null    object \n",
      " 2   Type of Cattle  554 non-null    object \n",
      " 3   UNIT            554 non-null    object \n",
      " 4   VALUE           550 non-null    float64\n",
      "dtypes: float64(1), object(4)\n",
      "memory usage: 21.8+ KB\n"
     ]
    }
   ],
   "source": [
    "#check data type\n",
    "heifer_350_399kg_price_monthly.info()"
   ]
  },
  {
   "cell_type": "code",
   "execution_count": 104,
   "id": "dafefcb7",
   "metadata": {},
   "outputs": [
    {
     "data": {
      "text/plain": [
       "Statistic         0\n",
       "Month             0\n",
       "Type of Cattle    0\n",
       "UNIT              0\n",
       "VALUE             4\n",
       "dtype: int64"
      ]
     },
     "execution_count": 104,
     "metadata": {},
     "output_type": "execute_result"
    }
   ],
   "source": [
    "#check the null values or missing values\n",
    "heifer_350_399kg_price_monthly.isnull().sum()"
   ]
  },
  {
   "cell_type": "markdown",
   "id": "3fd9105e",
   "metadata": {},
   "source": [
    "Insights gained from above analysis for heifer350-399 data\n",
    "\n",
    "1. Contains records from 1976 to 2022 with total 554 observations and 5 columns\n",
    "2. Contains null values in heifer price column\n",
    "3. Month value is in object datatype and heifer price is float datatype\n",
    "4. unit is in euro per head-count"
   ]
  },
  {
   "cell_type": "code",
   "execution_count": 105,
   "id": "148f23d1",
   "metadata": {},
   "outputs": [
    {
     "data": {
      "text/html": [
       "<div>\n",
       "<style scoped>\n",
       "    .dataframe tbody tr th:only-of-type {\n",
       "        vertical-align: middle;\n",
       "    }\n",
       "\n",
       "    .dataframe tbody tr th {\n",
       "        vertical-align: top;\n",
       "    }\n",
       "\n",
       "    .dataframe thead th {\n",
       "        text-align: right;\n",
       "    }\n",
       "</style>\n",
       "<table border=\"1\" class=\"dataframe\">\n",
       "  <thead>\n",
       "    <tr style=\"text-align: right;\">\n",
       "      <th></th>\n",
       "      <th>Statistic</th>\n",
       "      <th>Month</th>\n",
       "      <th>Type of Cattle</th>\n",
       "      <th>UNIT</th>\n",
       "      <th>VALUE</th>\n",
       "    </tr>\n",
       "  </thead>\n",
       "  <tbody>\n",
       "    <tr>\n",
       "      <th>0</th>\n",
       "      <td>Cattle Price per Head</td>\n",
       "      <td>1976M01</td>\n",
       "      <td>Heifers 400-449kg</td>\n",
       "      <td>Euro</td>\n",
       "      <td>309.22</td>\n",
       "    </tr>\n",
       "    <tr>\n",
       "      <th>1</th>\n",
       "      <td>Cattle Price per Head</td>\n",
       "      <td>1976M02</td>\n",
       "      <td>Heifers 400-449kg</td>\n",
       "      <td>Euro</td>\n",
       "      <td>309.89</td>\n",
       "    </tr>\n",
       "    <tr>\n",
       "      <th>2</th>\n",
       "      <td>Cattle Price per Head</td>\n",
       "      <td>1976M03</td>\n",
       "      <td>Heifers 400-449kg</td>\n",
       "      <td>Euro</td>\n",
       "      <td>333.41</td>\n",
       "    </tr>\n",
       "    <tr>\n",
       "      <th>3</th>\n",
       "      <td>Cattle Price per Head</td>\n",
       "      <td>1976M04</td>\n",
       "      <td>Heifers 400-449kg</td>\n",
       "      <td>Euro</td>\n",
       "      <td>353.28</td>\n",
       "    </tr>\n",
       "    <tr>\n",
       "      <th>4</th>\n",
       "      <td>Cattle Price per Head</td>\n",
       "      <td>1976M05</td>\n",
       "      <td>Heifers 400-449kg</td>\n",
       "      <td>Euro</td>\n",
       "      <td>351.32</td>\n",
       "    </tr>\n",
       "  </tbody>\n",
       "</table>\n",
       "</div>"
      ],
      "text/plain": [
       "               Statistic    Month     Type of Cattle  UNIT   VALUE\n",
       "0  Cattle Price per Head  1976M01  Heifers 400-449kg  Euro  309.22\n",
       "1  Cattle Price per Head  1976M02  Heifers 400-449kg  Euro  309.89\n",
       "2  Cattle Price per Head  1976M03  Heifers 400-449kg  Euro  333.41\n",
       "3  Cattle Price per Head  1976M04  Heifers 400-449kg  Euro  353.28\n",
       "4  Cattle Price per Head  1976M05  Heifers 400-449kg  Euro  351.32"
      ]
     },
     "execution_count": 105,
     "metadata": {},
     "output_type": "execute_result"
    }
   ],
   "source": [
    "#check first 5 records\n",
    "heifer_400_449kg_price_monthly.head()"
   ]
  },
  {
   "cell_type": "code",
   "execution_count": 106,
   "id": "1b3ada03",
   "metadata": {},
   "outputs": [
    {
     "data": {
      "text/html": [
       "<div>\n",
       "<style scoped>\n",
       "    .dataframe tbody tr th:only-of-type {\n",
       "        vertical-align: middle;\n",
       "    }\n",
       "\n",
       "    .dataframe tbody tr th {\n",
       "        vertical-align: top;\n",
       "    }\n",
       "\n",
       "    .dataframe thead th {\n",
       "        text-align: right;\n",
       "    }\n",
       "</style>\n",
       "<table border=\"1\" class=\"dataframe\">\n",
       "  <thead>\n",
       "    <tr style=\"text-align: right;\">\n",
       "      <th></th>\n",
       "      <th>Statistic</th>\n",
       "      <th>Month</th>\n",
       "      <th>Type of Cattle</th>\n",
       "      <th>UNIT</th>\n",
       "      <th>VALUE</th>\n",
       "    </tr>\n",
       "  </thead>\n",
       "  <tbody>\n",
       "    <tr>\n",
       "      <th>549</th>\n",
       "      <td>Cattle Price per Head</td>\n",
       "      <td>2021M10</td>\n",
       "      <td>Heifers 400-449kg</td>\n",
       "      <td>Euro</td>\n",
       "      <td>890.95</td>\n",
       "    </tr>\n",
       "    <tr>\n",
       "      <th>550</th>\n",
       "      <td>Cattle Price per Head</td>\n",
       "      <td>2021M11</td>\n",
       "      <td>Heifers 400-449kg</td>\n",
       "      <td>Euro</td>\n",
       "      <td>888.34</td>\n",
       "    </tr>\n",
       "    <tr>\n",
       "      <th>551</th>\n",
       "      <td>Cattle Price per Head</td>\n",
       "      <td>2021M12</td>\n",
       "      <td>Heifers 400-449kg</td>\n",
       "      <td>Euro</td>\n",
       "      <td>912.35</td>\n",
       "    </tr>\n",
       "    <tr>\n",
       "      <th>552</th>\n",
       "      <td>Cattle Price per Head</td>\n",
       "      <td>2022M01</td>\n",
       "      <td>Heifers 400-449kg</td>\n",
       "      <td>Euro</td>\n",
       "      <td>970.51</td>\n",
       "    </tr>\n",
       "    <tr>\n",
       "      <th>553</th>\n",
       "      <td>Cattle Price per Head</td>\n",
       "      <td>2022M02</td>\n",
       "      <td>Heifers 400-449kg</td>\n",
       "      <td>Euro</td>\n",
       "      <td>1034.15</td>\n",
       "    </tr>\n",
       "  </tbody>\n",
       "</table>\n",
       "</div>"
      ],
      "text/plain": [
       "                 Statistic    Month     Type of Cattle  UNIT    VALUE\n",
       "549  Cattle Price per Head  2021M10  Heifers 400-449kg  Euro   890.95\n",
       "550  Cattle Price per Head  2021M11  Heifers 400-449kg  Euro   888.34\n",
       "551  Cattle Price per Head  2021M12  Heifers 400-449kg  Euro   912.35\n",
       "552  Cattle Price per Head  2022M01  Heifers 400-449kg  Euro   970.51\n",
       "553  Cattle Price per Head  2022M02  Heifers 400-449kg  Euro  1034.15"
      ]
     },
     "execution_count": 106,
     "metadata": {},
     "output_type": "execute_result"
    }
   ],
   "source": [
    "#check last 5 records\n",
    "heifer_400_449kg_price_monthly.tail()"
   ]
  },
  {
   "cell_type": "code",
   "execution_count": 107,
   "id": "02f5b365",
   "metadata": {},
   "outputs": [
    {
     "data": {
      "text/plain": [
       "(554, 5)"
      ]
     },
     "execution_count": 107,
     "metadata": {},
     "output_type": "execute_result"
    }
   ],
   "source": [
    "#check shape\n",
    "heifer_400_449kg_price_monthly.shape"
   ]
  },
  {
   "cell_type": "code",
   "execution_count": 108,
   "id": "0a830389",
   "metadata": {},
   "outputs": [
    {
     "name": "stdout",
     "output_type": "stream",
     "text": [
      "<class 'pandas.core.frame.DataFrame'>\n",
      "RangeIndex: 554 entries, 0 to 553\n",
      "Data columns (total 5 columns):\n",
      " #   Column          Non-Null Count  Dtype  \n",
      "---  ------          --------------  -----  \n",
      " 0   Statistic       554 non-null    object \n",
      " 1   Month           554 non-null    object \n",
      " 2   Type of Cattle  554 non-null    object \n",
      " 3   UNIT            554 non-null    object \n",
      " 4   VALUE           550 non-null    float64\n",
      "dtypes: float64(1), object(4)\n",
      "memory usage: 21.8+ KB\n"
     ]
    }
   ],
   "source": [
    "#check data type\n",
    "heifer_400_449kg_price_monthly.info()"
   ]
  },
  {
   "cell_type": "code",
   "execution_count": 109,
   "id": "274e3333",
   "metadata": {},
   "outputs": [
    {
     "data": {
      "text/plain": [
       "Statistic         0\n",
       "Month             0\n",
       "Type of Cattle    0\n",
       "UNIT              0\n",
       "VALUE             4\n",
       "dtype: int64"
      ]
     },
     "execution_count": 109,
     "metadata": {},
     "output_type": "execute_result"
    }
   ],
   "source": [
    "#check missing values or null values\n",
    "heifer_400_449kg_price_monthly.isnull().sum()"
   ]
  },
  {
   "cell_type": "markdown",
   "id": "5f9fc228",
   "metadata": {},
   "source": [
    "Insights gained from above analysis for heifer400-449 data\n",
    "\n",
    "1. Contains records from 1976 to 2022 with total 554 observations and 5 columns\n",
    "2. Contains null values in heifer price column\n",
    "3. Month value is in object datatype and heifer price is float datatype\n",
    "4. unit is in euro per head-count"
   ]
  },
  {
   "cell_type": "code",
   "execution_count": null,
   "id": "9ac55187",
   "metadata": {},
   "outputs": [],
   "source": []
  }
 ],
 "metadata": {
  "kernelspec": {
   "display_name": "Python 3 (ipykernel)",
   "language": "python",
   "name": "python3"
  },
  "language_info": {
   "codemirror_mode": {
    "name": "ipython",
    "version": 3
   },
   "file_extension": ".py",
   "mimetype": "text/x-python",
   "name": "python",
   "nbconvert_exporter": "python",
   "pygments_lexer": "ipython3",
   "version": "3.9.7"
  }
 },
 "nbformat": 4,
 "nbformat_minor": 5
}
